{
 "cells": [
  {
   "cell_type": "code",
   "execution_count": 1,
   "metadata": {},
   "outputs": [],
   "source": [
    "from elf.io import open_file\n",
    "from  pathlib import Path\n",
    "import numpy as np\n",
    "\n",
    "\n",
    "def read_dataset(ds_path,organell_filename, scaling_factor =3):\n",
    "    \"\"\"Read a dataset and select the correct file\n",
    "\n",
    "    :param ds_path: ds_path should be the path to the folder inside `images`that conatins the .n5 files.\n",
    "    :type ds_path: str\n",
    "    :param organell_filename: The name of the file that contains the organell data\n",
    "    :type organell_filename: str\n",
    "    :param scaling_factor: Can be 0,1,2 or 3. The lower the number the higher the resolution, defaults to 3.\n",
    "    :type scaling_factor: int, optional\n",
    "\n",
    "    \"\"\"\n",
    "    ds_path = Path(ds_path)\n",
    "\n",
    "    data_key = f\"setup0/timepoint0/s{scaling_factor}\"\n",
    "    data_path = ds_path/ organell_filename\n",
    "    print(data_path)\n",
    "    with open_file(str(data_path), 'r') as f:\n",
    "        ds = f[data_key]\n",
    "    return ds"
   ]
  },
  {
   "cell_type": "code",
   "execution_count": 2,
   "metadata": {},
   "outputs": [
    {
     "name": "stdout",
     "output_type": "stream",
     "text": [
      "/home/gwydion/SSC/cebra/mobie-data-testing/data/cebra_em_example/seg_er_5nm_mito_10nm/CebraEM/images/bdv-n5/mito-it00_b0_6_stitched.n5\n"
     ]
    }
   ],
   "source": [
    "ds_path = \"/home/gwydion/SSC/cebra/mobie-data-testing/data/cebra_em_example/seg_er_5nm_mito_10nm/CebraEM/images/bdv-n5\"\n",
    "organell_filename = \"mito-it00_b0_6_stitched.n5\"\n",
    "scaling_factor = 2\n",
    "ds =  read_dataset(ds_path,organell_filename, scaling_factor =scaling_factor)"
   ]
  },
  {
   "cell_type": "code",
   "execution_count": 3,
   "metadata": {},
   "outputs": [
    {
     "name": "stdout",
     "output_type": "stream",
     "text": [
      "[4, 4, 4]\n",
      "[  0   2   3   4   5   6   7   8   9  10  11  14  15  17  18  21  26  32\n",
      "  33  34  38  41  43  46  47  49  51  56  57  65  69  70  72  73  75  76\n",
      "  77  81  88  96  99 102 107 124 130 142 163 166 169 170 171 172 173 174\n",
      " 180 187 188 219 220 221 240 251 252 258 260 288 295 297 299 301 307 332\n",
      " 335 339 343 345 346 347 349 354 358 361 366 368 369 370 374 380 381 382\n",
      " 383 392 400 402 406 409 414 417 420 424 437 438 445 448 463 466 471]\n"
     ]
    }
   ],
   "source": [
    "print(ds.attrs[\"downsamplingFactors\"])\n",
    "print(np.unique(ds))\n",
    "# each of these should be a unique mitochondria"
   ]
  },
  {
   "cell_type": "code",
   "execution_count": 4,
   "metadata": {},
   "outputs": [],
   "source": [
    "def filter_ds(ds, filter_value):\n",
    "    # filter for one value\n",
    "    ds_filtered = ds[:]\n",
    "\n",
    "    mask = (ds_filtered == filter_value)\n",
    "    ds_filtered[~mask] = 0\n",
    "    ds_filtered.shape\n",
    "    return (ds_filtered)\n"
   ]
  },
  {
   "cell_type": "code",
   "execution_count": 5,
   "metadata": {},
   "outputs": [],
   "source": [
    "# https://scikit-image.org/docs/stable/api/skimage.measure.html#skimage.measure.regionprops\n",
    "from collections import defaultdict\n",
    "from skimage import measure\n",
    "import pandas as pd\n",
    "\n",
    "\n",
    "def get_ds_properties(ds, num_pixels_threshhold=10, resolution = (5,5,5)):\n",
    "    properties = measure.regionprops(ds,spacing=resolution)\n",
    "\n",
    "    prop_dict = defaultdict(dict)\n",
    "    for prop in properties:\n",
    "        if prop.num_pixels < num_pixels_threshhold:\n",
    "            continue\n",
    "        label = prop.label\n",
    "        prop_dict[label][\"label\"]=prop.label\n",
    "\n",
    "        # as far as i can tell this area attribute is the volume when given a 3d array\n",
    "        prop_dict[label][\"volume_voxels\"]= prop.area\n",
    "        bbox = np.asarray((prop.bbox[:3], prop.bbox[3:]))\n",
    "        prop_dict[label][\"bbox\"]= bbox\n",
    "        prop_dict[label][\"bbox_dim_nm\"]= bbox[1]*5-bbox[0]*5\n",
    "        bbox_volume = np.prod(bbox[1]*5-bbox[0]*5)\n",
    "        prop_dict[label][\"bbox_vol_nm\"]= bbox_volume\n",
    "\n",
    "\n",
    "        prop_dict[label][\"centroid\"]= prop.centroid\n",
    "        prop_dict[label][\"solidity\"]= prop.solidity\n",
    "\n",
    "        prop_dict[label][\"coords\"]= prop.coords\n",
    "\n",
    "\n",
    "        # calculate surface area from mesh\n",
    "        ds_filtered = filter_ds(ds,label )\n",
    "        verts, faces, _, _  = measure.marching_cubes(ds_filtered[:], spacing=(5,5,5))\n",
    "        area = measure.mesh_surface_area(verts, faces)\n",
    "        prop_dict[label][\"area_mesh_nm\"]= area\n",
    "        #attach the actual mesh to the df (likely not needed)\n",
    "        # prop_dict[label][\"mesh_nm\"]= [verts, faces]\n",
    "\n",
    "    df = pd.DataFrame(prop_dict).T\n",
    "    df.index.rename(\"Label\", inplace=True)\n",
    "\n",
    "    return df\n"
   ]
  },
  {
   "cell_type": "code",
   "execution_count": 6,
   "metadata": {},
   "outputs": [
    {
     "data": {
      "text/plain": [
       "Index(['label', 'volume_voxels', 'bbox', 'bbox_dim_nm', 'bbox_vol_nm',\n",
       "       'centroid', 'solidity', 'coords', 'area_mesh_nm'],\n",
       "      dtype='object')"
      ]
     },
     "execution_count": 6,
     "metadata": {},
     "output_type": "execute_result"
    }
   ],
   "source": [
    "df = get_ds_properties(ds, num_pixels_threshhold=5, resolution = (5,5,5))\n",
    "df.columns"
   ]
  },
  {
   "cell_type": "code",
   "execution_count": 7,
   "metadata": {},
   "outputs": [
    {
     "data": {
      "text/html": [
       "<div>\n",
       "<style scoped>\n",
       "    .dataframe tbody tr th:only-of-type {\n",
       "        vertical-align: middle;\n",
       "    }\n",
       "\n",
       "    .dataframe tbody tr th {\n",
       "        vertical-align: top;\n",
       "    }\n",
       "\n",
       "    .dataframe thead th {\n",
       "        text-align: right;\n",
       "    }\n",
       "</style>\n",
       "<table border=\"1\" class=\"dataframe\">\n",
       "  <thead>\n",
       "    <tr style=\"text-align: right;\">\n",
       "      <th></th>\n",
       "      <th>bbox_dim_nm</th>\n",
       "      <th>bbox_vol_nm</th>\n",
       "      <th>volume_voxels</th>\n",
       "      <th>area_mesh_nm</th>\n",
       "    </tr>\n",
       "    <tr>\n",
       "      <th>Label</th>\n",
       "      <th></th>\n",
       "      <th></th>\n",
       "      <th></th>\n",
       "      <th></th>\n",
       "    </tr>\n",
       "  </thead>\n",
       "  <tbody>\n",
       "    <tr>\n",
       "      <th>2</th>\n",
       "      <td>[65, 75, 35]</td>\n",
       "      <td>170625</td>\n",
       "      <td>33125</td>\n",
       "      <td>5726.575581</td>\n",
       "    </tr>\n",
       "    <tr>\n",
       "      <th>3</th>\n",
       "      <td>[40, 30, 30]</td>\n",
       "      <td>36000</td>\n",
       "      <td>15125</td>\n",
       "      <td>1914.016792</td>\n",
       "    </tr>\n",
       "    <tr>\n",
       "      <th>4</th>\n",
       "      <td>[55, 85, 55]</td>\n",
       "      <td>257125</td>\n",
       "      <td>65500</td>\n",
       "      <td>10320.00622</td>\n",
       "    </tr>\n",
       "    <tr>\n",
       "      <th>5</th>\n",
       "      <td>[115, 220, 160]</td>\n",
       "      <td>4048000</td>\n",
       "      <td>152125</td>\n",
       "      <td>28508.995929</td>\n",
       "    </tr>\n",
       "    <tr>\n",
       "      <th>6</th>\n",
       "      <td>[75, 155, 185]</td>\n",
       "      <td>2150625</td>\n",
       "      <td>143375</td>\n",
       "      <td>24041.23269</td>\n",
       "    </tr>\n",
       "    <tr>\n",
       "      <th>...</th>\n",
       "      <td>...</td>\n",
       "      <td>...</td>\n",
       "      <td>...</td>\n",
       "      <td>...</td>\n",
       "    </tr>\n",
       "    <tr>\n",
       "      <th>445</th>\n",
       "      <td>[30, 30, 20]</td>\n",
       "      <td>18000</td>\n",
       "      <td>4000</td>\n",
       "      <td>1669.86056</td>\n",
       "    </tr>\n",
       "    <tr>\n",
       "      <th>448</th>\n",
       "      <td>[145, 190, 70]</td>\n",
       "      <td>1928500</td>\n",
       "      <td>145875</td>\n",
       "      <td>26740.167022</td>\n",
       "    </tr>\n",
       "    <tr>\n",
       "      <th>463</th>\n",
       "      <td>[85, 120, 95]</td>\n",
       "      <td>969000</td>\n",
       "      <td>110750</td>\n",
       "      <td>17050.293562</td>\n",
       "    </tr>\n",
       "    <tr>\n",
       "      <th>466</th>\n",
       "      <td>[305, 300, 345]</td>\n",
       "      <td>31567500</td>\n",
       "      <td>697750</td>\n",
       "      <td>115733.638894</td>\n",
       "    </tr>\n",
       "    <tr>\n",
       "      <th>471</th>\n",
       "      <td>[170, 95, 240]</td>\n",
       "      <td>3876000</td>\n",
       "      <td>230875</td>\n",
       "      <td>39393.767431</td>\n",
       "    </tr>\n",
       "  </tbody>\n",
       "</table>\n",
       "<p>85 rows × 4 columns</p>\n",
       "</div>"
      ],
      "text/plain": [
       "           bbox_dim_nm bbox_vol_nm volume_voxels   area_mesh_nm\n",
       "Label                                                          \n",
       "2         [65, 75, 35]      170625         33125    5726.575581\n",
       "3         [40, 30, 30]       36000         15125    1914.016792\n",
       "4         [55, 85, 55]      257125         65500    10320.00622\n",
       "5      [115, 220, 160]     4048000        152125   28508.995929\n",
       "6       [75, 155, 185]     2150625        143375    24041.23269\n",
       "...                ...         ...           ...            ...\n",
       "445       [30, 30, 20]       18000          4000     1669.86056\n",
       "448     [145, 190, 70]     1928500        145875   26740.167022\n",
       "463      [85, 120, 95]      969000        110750   17050.293562\n",
       "466    [305, 300, 345]    31567500        697750  115733.638894\n",
       "471     [170, 95, 240]     3876000        230875   39393.767431\n",
       "\n",
       "[85 rows x 4 columns]"
      ]
     },
     "execution_count": 7,
     "metadata": {},
     "output_type": "execute_result"
    }
   ],
   "source": [
    "df[[\"bbox_dim_nm\", \"bbox_vol_nm\",\"volume_voxels\", \"area_mesh_nm\"]][:]"
   ]
  },
  {
   "cell_type": "code",
   "execution_count": 8,
   "metadata": {},
   "outputs": [
    {
     "data": {
      "text/html": [
       "\n",
       "        <iframe\n",
       "            width=\"100%\"\n",
       "            height=\"650\"\n",
       "            src=\"http://127.0.0.1:8083/\"\n",
       "            frameborder=\"0\"\n",
       "            allowfullscreen\n",
       "        ></iframe>\n",
       "        "
      ],
      "text/plain": [
       "<IPython.lib.display.IFrame at 0x7f6aa6477a60>"
      ]
     },
     "metadata": {},
     "output_type": "display_data"
    }
   ],
   "source": [
    "def dash_plot(ds):\n",
    "    from dash import Dash, dcc, html, Input, Output\n",
    "    import plotly.express as px\n",
    "\n",
    "    app = Dash(\"test\")\n",
    "\n",
    "\n",
    "    app.layout = html.Div([\n",
    "        html.H4('Cell Stacks'),\n",
    "        dcc.Graph(id=\"graph\"),\n",
    "        html.P(\"Slice:\"),\n",
    "        dcc.Slider(\n",
    "            id='slices',\n",
    "            min=0,\n",
    "            max=ds.shape[2],\n",
    "            step=1,\n",
    "            value=1\n",
    "        )\n",
    "    ])\n",
    "\n",
    "\n",
    "    @app.callback(\n",
    "    Output(\"graph\", \"figure\"), \n",
    "    Input(\"slices\", \"value\"))\n",
    "    def filter_heatmap(slice):\n",
    "        ds_slice = ds[:,:,slice] # replace with your own data source\n",
    "        fig = px.imshow(ds_slice)\n",
    "        return fig\n",
    "\n",
    "\n",
    "    app.run_server(debug=True, port = 8083)\n",
    "dash_plot(ds)"
   ]
  }
 ],
 "metadata": {
  "kernelspec": {
   "display_name": "mobie-testing",
   "language": "python",
   "name": "python3"
  },
  "language_info": {
   "codemirror_mode": {
    "name": "ipython",
    "version": 3
   },
   "file_extension": ".py",
   "mimetype": "text/x-python",
   "name": "python",
   "nbconvert_exporter": "python",
   "pygments_lexer": "ipython3",
   "version": "3.9.18"
  }
 },
 "nbformat": 4,
 "nbformat_minor": 2
}
