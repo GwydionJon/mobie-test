{
 "cells": [
  {
   "cell_type": "code",
   "execution_count": 1,
   "metadata": {},
   "outputs": [
    {
     "name": "stderr",
     "output_type": "stream",
     "text": [
      "INFO:root:Loading dataset from: /home/gwydion/SSC/cebra/mobie-data-testing/data/cebra_em_example/seg_er_5nm_mito_10nm/CebraEM\n",
      "INFO:root:Available segmentations are: ['em-membrane_prediction', 'em-raw', 'em-supervoxels', 'er-it00_b0_5_stitched', 'mito-it00_b0_6_stitched']\n",
      "INFO:root:Successfully read mito-it00_b0_6_stitched.\n",
      "INFO:root:Successfully read er-it00_b0_5_stitched.\n"
     ]
    }
   ],
   "source": [
    "from data_manager import DataManager\n",
    "\n",
    "#ds_path = \"/home/gwydion/SSC/cebra/mobie-data-testing/data/cebra_em_example/seg_er_5nm_mito_10nm/CebraEM/images/bdv-n5\"\n",
    "ds_path = \"/home/gwydion/SSC/cebra/mobie-data-testing/data/cebra_em_example/seg_er_5nm_mito_10nm/CebraEM\"\n",
    "\n",
    "mito_filename = \"mito-it00_b0_6_stitched.n5\"\n",
    "er_filename = \"er-it00_b0_5_stitched\"\n",
    "mem_filename = \"em-membrane_prediction\"\n",
    "test = \"test\"\n",
    "\n",
    "scaling_factor = 3\n",
    "original_resolution_er=(5,5,5)\n",
    "original_resolution_mito=(10,10,10)\n",
    "data_key = f\"setup0/timepoint0/s{scaling_factor}\"\n",
    "\n",
    "\n",
    "dm3 =  DataManager(ds_path)\n",
    "dm3.load_organelle_data(mito_filename, \"mito\", data_key=data_key, original_resolution=original_resolution_mito, scaling_factor=scaling_factor)\n",
    "dm3.load_organelle_data(er_filename, \"er\", data_key=data_key, original_resolution=original_resolution_er, scaling_factor=scaling_factor)\n",
    "#dm3.load_organelle_data(mem_filename, \"mem\", data_key=data_key, original_resolution=original_resolution, scaling_factor=scaling_factor)"
   ]
  },
  {
   "cell_type": "markdown",
   "metadata": {},
   "source": [
    "The distance matrix gives the closest distance between each object and any other object.\n",
    "Since this is mesh based it takes a long time on higher resolutions.\n",
    "This matrix is later used to filter close neighbors"
   ]
  },
  {
   "cell_type": "code",
   "execution_count": 2,
   "metadata": {},
   "outputs": [
    {
     "name": "stderr",
     "output_type": "stream",
     "text": [
      "/home/gwydion/mambaforge/envs/mobie-testing/lib/python3.9/site-packages/skimage/measure/_regionprops.py:433: UserWarning: Failed to get convex hull image. Returning empty image, see error message below:\n",
      "QH6154 Qhull precision error: Initial simplex is flat (facet 1 is coplanar with the interior point)\n",
      "\n",
      "While executing:  | qhull i Qt\n",
      "Options selected for Qhull 2019.1.r 2019/06/21:\n",
      "  run-id 1891856420  incidence  Qtriangulate  _pre-merge  _zero-centrum\n",
      "  _max-width 13  Error-roundoff 1.7e-14  _one-merge 1.2e-13  _near-inside 6e-13\n",
      "  Visible-distance 3.4e-14  U-max-coplanar 3.4e-14  Width-outside 6.8e-14\n",
      "  _wide-facet 2e-13  _maxoutside 1.4e-13\n",
      "\n",
      "The input to qhull appears to be less than 3 dimensional, or a\n",
      "computation has overflowed.\n",
      "\n",
      "Qhull could not construct a clearly convex simplex from points:\n",
      "- p9(v4):     3     3    13\n",
      "- p1(v3):     1     1     0\n",
      "- p10(v2):     4     4     7\n",
      "- p0(v1):     0     0     1\n",
      "\n",
      "The center point is coplanar with a facet, or a vertex is coplanar\n",
      "with a neighboring facet.  The maximum round off error for\n",
      "computing distances is 1.7e-14.  The center point, facets and distances\n",
      "to the center point are as follows:\n",
      "\n",
      "center point        2        2     5.25\n",
      "\n",
      "facet p1 p10 p0 distance=    0\n",
      "facet p9 p10 p0 distance=    0\n",
      "facet p9 p1 p0 distance=    0\n",
      "facet p9 p1 p10 distance=    0\n",
      "\n",
      "These points either have a maximum or minimum x-coordinate, or\n",
      "they maximize the determinant for k coordinates.  Trial points\n",
      "are first selected from points that maximize a coordinate.\n",
      "\n",
      "The min and max coordinates for each dimension are:\n",
      "  0:         0         4  difference=    4\n",
      "  1:         0         4  difference=    4\n",
      "  2:         0        13  difference=   13\n",
      "\n",
      "If the input should be full dimensional, you have several options that\n",
      "may determine an initial simplex:\n",
      "  - use 'QJ'  to joggle the input and make it full dimensional\n",
      "  - use 'QbB' to scale the points to the unit cube\n",
      "  - use 'QR0' to randomly rotate the input for different maximum points\n",
      "  - use 'Qs'  to search all points for the initial simplex\n",
      "  - use 'En'  to specify a maximum roundoff error less than 1.7e-14.\n",
      "  - trace execution with 'T3' to see the determinant for each point.\n",
      "\n",
      "If the input is lower dimensional:\n",
      "  - use 'QJ' to joggle the input and make it full dimensional\n",
      "  - use 'Qbk:0Bk:0' to delete coordinate k from the input.  You should\n",
      "    pick the coordinate with the least range.  The hull will have the\n",
      "    correct topology.\n",
      "  - determine the flat containing the points, rotate the points\n",
      "    into a coordinate plane, and delete the other coordinates.\n",
      "  - add one or more points to make the input full dimensional.\n",
      "\n",
      "  return convex_hull_image(self.image)\n",
      "/home/gwydion/mambaforge/envs/mobie-testing/lib/python3.9/site-packages/skimage/measure/_regionprops.py:632: RuntimeWarning: divide by zero encountered in scalar divide\n",
      "  return self.area / self.area_convex\n",
      "/home/gwydion/mambaforge/envs/mobie-testing/lib/python3.9/site-packages/skimage/measure/_regionprops.py:433: UserWarning: Failed to get convex hull image. Returning empty image, see error message below:\n",
      "QH6154 Qhull precision error: Initial simplex is flat (facet 1 is coplanar with the interior point)\n",
      "\n",
      "While executing:  | qhull i Qt\n",
      "Options selected for Qhull 2019.1.r 2019/06/21:\n",
      "  run-id 1891856420  incidence  Qtriangulate  _pre-merge  _zero-centrum\n",
      "  _max-width  4  Error-roundoff 5.5e-15  _one-merge 3.9e-14\n",
      "  _near-inside 1.9e-13  Visible-distance 1.1e-14  U-max-coplanar 1.1e-14\n",
      "  Width-outside 2.2e-14  _wide-facet 6.7e-14  _maxoutside 4.4e-14\n",
      "\n",
      "The input to qhull appears to be less than 3 dimensional, or a\n",
      "computation has overflowed.\n",
      "\n",
      "Qhull could not construct a clearly convex simplex from points:\n",
      "- p6(v4):     2     0     0\n",
      "- p2(v3):     0     4     0\n",
      "- p10(v2):     3     1     0\n",
      "- p0(v1):     0     2     0\n",
      "\n",
      "The center point is coplanar with a facet, or a vertex is coplanar\n",
      "with a neighboring facet.  The maximum round off error for\n",
      "computing distances is 5.5e-15.  The center point, facets and distances\n",
      "to the center point are as follows:\n",
      "\n",
      "center point     1.25     1.75        0\n",
      "\n",
      "facet p2 p10 p0 distance=    0\n",
      "facet p6 p10 p0 distance=    0\n",
      "facet p6 p2 p0 distance=    0\n",
      "facet p6 p2 p10 distance=    0\n",
      "\n",
      "These points either have a maximum or minimum x-coordinate, or\n",
      "they maximize the determinant for k coordinates.  Trial points\n",
      "are first selected from points that maximize a coordinate.\n",
      "\n",
      "The min and max coordinates for each dimension are:\n",
      "  0:         0         3  difference=    3\n",
      "  1:         0         4  difference=    4\n",
      "  2:         0         0  difference=    0\n",
      "\n",
      "If the input should be full dimensional, you have several options that\n",
      "may determine an initial simplex:\n",
      "  - use 'QJ'  to joggle the input and make it full dimensional\n",
      "  - use 'QbB' to scale the points to the unit cube\n",
      "  - use 'QR0' to randomly rotate the input for different maximum points\n",
      "  - use 'Qs'  to search all points for the initial simplex\n",
      "  - use 'En'  to specify a maximum roundoff error less than 5.5e-15.\n",
      "  - trace execution with 'T3' to see the determinant for each point.\n",
      "\n",
      "If the input is lower dimensional:\n",
      "  - use 'QJ' to joggle the input and make it full dimensional\n",
      "  - use 'Qbk:0Bk:0' to delete coordinate k from the input.  You should\n",
      "    pick the coordinate with the least range.  The hull will have the\n",
      "    correct topology.\n",
      "  - determine the flat containing the points, rotate the points\n",
      "    into a coordinate plane, and delete the other coordinates.\n",
      "  - add one or more points to make the input full dimensional.\n",
      "\n",
      "  return convex_hull_image(self.image)\n"
     ]
    },
    {
     "ename": "KeyboardInterrupt",
     "evalue": "",
     "output_type": "error",
     "traceback": [
      "\u001b[0;31m---------------------------------------------------------------------------\u001b[0m",
      "\u001b[0;31mKeyboardInterrupt\u001b[0m                         Traceback (most recent call last)",
      "\u001b[0;32m<ipython-input-2-d443cbde9752>\u001b[0m in \u001b[0;36m<module>\u001b[0;34m\u001b[0m\n\u001b[0;32m----> 1\u001b[0;31m \u001b[0mdist_matrix\u001b[0m \u001b[0;34m=\u001b[0m \u001b[0mdm3\u001b[0m\u001b[0;34m.\u001b[0m\u001b[0mcalculate_distance_matrix\u001b[0m\u001b[0;34m(\u001b[0m\u001b[0;34m)\u001b[0m\u001b[0;34m\u001b[0m\u001b[0;34m\u001b[0m\u001b[0m\n\u001b[0m\u001b[1;32m      2\u001b[0m \u001b[0;31m# this function can throw quite a lot of warnings, but works fine\u001b[0m\u001b[0;34m\u001b[0m\u001b[0;34m\u001b[0m\u001b[0m\n",
      "\u001b[0;32m~/SSC/cebra/mobie-data-testing/data_manager.py\u001b[0m in \u001b[0;36mcalculate_distance_matrix\u001b[0;34m(self)\u001b[0m\n\u001b[1;32m    306\u001b[0m                 \u001b[0mind_j\u001b[0m \u001b[0;34m=\u001b[0m \u001b[0mself\u001b[0m\u001b[0;34m.\u001b[0m\u001b[0manalysis_results\u001b[0m\u001b[0;34m.\u001b[0m\u001b[0mindex\u001b[0m\u001b[0;34m[\u001b[0m\u001b[0mj\u001b[0m\u001b[0;34m]\u001b[0m\u001b[0;34m\u001b[0m\u001b[0;34m\u001b[0m\u001b[0m\n\u001b[1;32m    307\u001b[0m \u001b[0;34m\u001b[0m\u001b[0m\n\u001b[0;32m--> 308\u001b[0;31m                 \u001b[0mdistance\u001b[0m \u001b[0;34m=\u001b[0m \u001b[0mself\u001b[0m\u001b[0;34m.\u001b[0m\u001b[0m_get_distance\u001b[0m\u001b[0;34m(\u001b[0m\u001b[0mind_i\u001b[0m\u001b[0;34m,\u001b[0m \u001b[0mind_j\u001b[0m\u001b[0;34m)\u001b[0m\u001b[0;34m\u001b[0m\u001b[0;34m\u001b[0m\u001b[0m\n\u001b[0m\u001b[1;32m    309\u001b[0m                 \u001b[0mdistance_matrix\u001b[0m\u001b[0;34m[\u001b[0m\u001b[0mi\u001b[0m\u001b[0;34m,\u001b[0m \u001b[0mj\u001b[0m\u001b[0;34m]\u001b[0m \u001b[0;34m=\u001b[0m \u001b[0mdistance\u001b[0m\u001b[0;34m\u001b[0m\u001b[0;34m\u001b[0m\u001b[0m\n\u001b[1;32m    310\u001b[0m                 \u001b[0mdistance_matrix\u001b[0m\u001b[0;34m[\u001b[0m\u001b[0mj\u001b[0m\u001b[0;34m,\u001b[0m \u001b[0mi\u001b[0m\u001b[0;34m]\u001b[0m \u001b[0;34m=\u001b[0m \u001b[0mdistance\u001b[0m\u001b[0;34m\u001b[0m\u001b[0;34m\u001b[0m\u001b[0m\n",
      "\u001b[0;32m~/SSC/cebra/mobie-data-testing/data_manager.py\u001b[0m in \u001b[0;36m_get_distance\u001b[0;34m(self, obj_id_1, obj_id_2)\u001b[0m\n\u001b[1;32m    285\u001b[0m         \u001b[0mcol_manager_test\u001b[0m \u001b[0;34m=\u001b[0m \u001b[0mtrimesh\u001b[0m\u001b[0;34m.\u001b[0m\u001b[0mcollision\u001b[0m\u001b[0;34m.\u001b[0m\u001b[0mCollisionManager\u001b[0m\u001b[0;34m(\u001b[0m\u001b[0;34m)\u001b[0m\u001b[0;34m\u001b[0m\u001b[0;34m\u001b[0m\u001b[0m\n\u001b[1;32m    286\u001b[0m         \u001b[0mcol_manager_test\u001b[0m\u001b[0;34m.\u001b[0m\u001b[0madd_object\u001b[0m\u001b[0;34m(\u001b[0m\u001b[0;34mf\"mesh{1}\"\u001b[0m\u001b[0;34m,\u001b[0m \u001b[0mmesh1\u001b[0m\u001b[0;34m)\u001b[0m\u001b[0;34m\u001b[0m\u001b[0;34m\u001b[0m\u001b[0m\n\u001b[0;32m--> 287\u001b[0;31m         \u001b[0mcol_manager_test\u001b[0m\u001b[0;34m.\u001b[0m\u001b[0madd_object\u001b[0m\u001b[0;34m(\u001b[0m\u001b[0;34mf\"mesh{2}\"\u001b[0m\u001b[0;34m,\u001b[0m \u001b[0mmesh2\u001b[0m\u001b[0;34m)\u001b[0m\u001b[0;34m\u001b[0m\u001b[0;34m\u001b[0m\u001b[0m\n\u001b[0m\u001b[1;32m    288\u001b[0m \u001b[0;34m\u001b[0m\u001b[0m\n\u001b[1;32m    289\u001b[0m         \u001b[0mresult\u001b[0m \u001b[0;34m=\u001b[0m \u001b[0mcol_manager_test\u001b[0m\u001b[0;34m.\u001b[0m\u001b[0mmin_distance_internal\u001b[0m\u001b[0;34m(\u001b[0m\u001b[0;34m)\u001b[0m\u001b[0;34m\u001b[0m\u001b[0;34m\u001b[0m\u001b[0m\n",
      "\u001b[0;32m~/mambaforge/envs/mobie-testing/lib/python3.9/site-packages/trimesh/collision.py\u001b[0m in \u001b[0;36madd_object\u001b[0;34m(self, name, mesh, transform)\u001b[0m\n\u001b[1;32m    211\u001b[0m \u001b[0;34m\u001b[0m\u001b[0m\n\u001b[1;32m    212\u001b[0m         \u001b[0;31m# create BVH/Convex\u001b[0m\u001b[0;34m\u001b[0m\u001b[0;34m\u001b[0m\u001b[0m\n\u001b[0;32m--> 213\u001b[0;31m         \u001b[0mgeom\u001b[0m \u001b[0;34m=\u001b[0m \u001b[0mself\u001b[0m\u001b[0;34m.\u001b[0m\u001b[0m_get_fcl_obj\u001b[0m\u001b[0;34m(\u001b[0m\u001b[0mmesh\u001b[0m\u001b[0;34m)\u001b[0m\u001b[0;34m\u001b[0m\u001b[0;34m\u001b[0m\u001b[0m\n\u001b[0m\u001b[1;32m    214\u001b[0m \u001b[0;34m\u001b[0m\u001b[0m\n\u001b[1;32m    215\u001b[0m         \u001b[0;31m# create the FCL transform from (4,4) matrix\u001b[0m\u001b[0;34m\u001b[0m\u001b[0;34m\u001b[0m\u001b[0m\n",
      "\u001b[0;32m~/mambaforge/envs/mobie-testing/lib/python3.9/site-packages/trimesh/collision.py\u001b[0m in \u001b[0;36m_get_fcl_obj\u001b[0;34m(self, mesh)\u001b[0m\n\u001b[1;32m    689\u001b[0m             \u001b[0mobj\u001b[0m \u001b[0;34m=\u001b[0m \u001b[0mmesh_to_convex\u001b[0m\u001b[0;34m(\u001b[0m\u001b[0mmesh\u001b[0m\u001b[0;34m)\u001b[0m\u001b[0;34m\u001b[0m\u001b[0;34m\u001b[0m\u001b[0m\n\u001b[1;32m    690\u001b[0m         \u001b[0;32melse\u001b[0m\u001b[0;34m:\u001b[0m\u001b[0;34m\u001b[0m\u001b[0;34m\u001b[0m\u001b[0m\n\u001b[0;32m--> 691\u001b[0;31m             \u001b[0mobj\u001b[0m \u001b[0;34m=\u001b[0m \u001b[0mmesh_to_BVH\u001b[0m\u001b[0;34m(\u001b[0m\u001b[0mmesh\u001b[0m\u001b[0;34m)\u001b[0m\u001b[0;34m\u001b[0m\u001b[0;34m\u001b[0m\u001b[0m\n\u001b[0m\u001b[1;32m    692\u001b[0m         \u001b[0;32mreturn\u001b[0m \u001b[0mobj\u001b[0m\u001b[0;34m\u001b[0m\u001b[0;34m\u001b[0m\u001b[0m\n\u001b[1;32m    693\u001b[0m \u001b[0;34m\u001b[0m\u001b[0m\n",
      "\u001b[0;32m~/mambaforge/envs/mobie-testing/lib/python3.9/site-packages/trimesh/collision.py\u001b[0m in \u001b[0;36mmesh_to_BVH\u001b[0;34m(mesh)\u001b[0m\n\u001b[1;32m    729\u001b[0m     bvh.addSubModel(verts=mesh.vertices,\n\u001b[1;32m    730\u001b[0m                     triangles=mesh.faces)\n\u001b[0;32m--> 731\u001b[0;31m     \u001b[0mbvh\u001b[0m\u001b[0;34m.\u001b[0m\u001b[0mendModel\u001b[0m\u001b[0;34m(\u001b[0m\u001b[0;34m)\u001b[0m\u001b[0;34m\u001b[0m\u001b[0;34m\u001b[0m\u001b[0m\n\u001b[0m\u001b[1;32m    732\u001b[0m     \u001b[0;32mreturn\u001b[0m \u001b[0mbvh\u001b[0m\u001b[0;34m\u001b[0m\u001b[0;34m\u001b[0m\u001b[0m\n\u001b[1;32m    733\u001b[0m \u001b[0;34m\u001b[0m\u001b[0m\n",
      "\u001b[0;31mKeyboardInterrupt\u001b[0m: "
     ]
    }
   ],
   "source": [
    "dist_matrix = dm3.calculate_distance_matrix()\n",
    "# this function can throw quite a lot of warnings, but works fine"
   ]
  },
  {
   "cell_type": "code",
   "execution_count": null,
   "metadata": {},
   "outputs": [
    {
     "data": {
      "text/html": [
       "<div>\n",
       "<style scoped>\n",
       "    .dataframe tbody tr th:only-of-type {\n",
       "        vertical-align: middle;\n",
       "    }\n",
       "\n",
       "    .dataframe tbody tr th {\n",
       "        vertical-align: top;\n",
       "    }\n",
       "\n",
       "    .dataframe thead th {\n",
       "        text-align: right;\n",
       "    }\n",
       "</style>\n",
       "<table border=\"1\" class=\"dataframe\">\n",
       "  <thead>\n",
       "    <tr style=\"text-align: right;\">\n",
       "      <th>Label</th>\n",
       "      <th>er_816</th>\n",
       "      <th>er_1978</th>\n",
       "      <th>er_2315</th>\n",
       "      <th>er_2473</th>\n",
       "      <th>er_2897</th>\n",
       "      <th>er_3018</th>\n",
       "      <th>er_3171</th>\n",
       "      <th>er_3228</th>\n",
       "      <th>er_3251</th>\n",
       "      <th>er_3264</th>\n",
       "      <th>...</th>\n",
       "      <th>er_7907</th>\n",
       "      <th>er_8270</th>\n",
       "      <th>er_8272</th>\n",
       "      <th>er_8273</th>\n",
       "      <th>er_8678</th>\n",
       "      <th>er_8687</th>\n",
       "      <th>er_8751</th>\n",
       "      <th>er_9311</th>\n",
       "      <th>er_9492</th>\n",
       "      <th>er_9564</th>\n",
       "    </tr>\n",
       "    <tr>\n",
       "      <th>Label</th>\n",
       "      <th></th>\n",
       "      <th></th>\n",
       "      <th></th>\n",
       "      <th></th>\n",
       "      <th></th>\n",
       "      <th></th>\n",
       "      <th></th>\n",
       "      <th></th>\n",
       "      <th></th>\n",
       "      <th></th>\n",
       "      <th></th>\n",
       "      <th></th>\n",
       "      <th></th>\n",
       "      <th></th>\n",
       "      <th></th>\n",
       "      <th></th>\n",
       "      <th></th>\n",
       "      <th></th>\n",
       "      <th></th>\n",
       "      <th></th>\n",
       "      <th></th>\n",
       "    </tr>\n",
       "  </thead>\n",
       "  <tbody>\n",
       "    <tr>\n",
       "      <th>er_816</th>\n",
       "      <td>0.000000</td>\n",
       "      <td>2320.000000</td>\n",
       "      <td>2581.162529</td>\n",
       "      <td>2496.717845</td>\n",
       "      <td>5888.565190</td>\n",
       "      <td>5297.546602</td>\n",
       "      <td>2818.226393</td>\n",
       "      <td>4076.861538</td>\n",
       "      <td>2938.298828</td>\n",
       "      <td>3215.960199</td>\n",
       "      <td>...</td>\n",
       "      <td>5702.490684</td>\n",
       "      <td>4443.782173</td>\n",
       "      <td>3807.361291</td>\n",
       "      <td>3847.492690</td>\n",
       "      <td>5675.491168</td>\n",
       "      <td>4832.556259</td>\n",
       "      <td>5069.753446</td>\n",
       "      <td>4423.211503</td>\n",
       "      <td>56.568542</td>\n",
       "      <td>1787.064632</td>\n",
       "    </tr>\n",
       "    <tr>\n",
       "      <th>er_1978</th>\n",
       "      <td>2320.000000</td>\n",
       "      <td>0.000000</td>\n",
       "      <td>4994.076491</td>\n",
       "      <td>4943.197346</td>\n",
       "      <td>6533.605437</td>\n",
       "      <td>6004.265151</td>\n",
       "      <td>1417.603612</td>\n",
       "      <td>2766.658635</td>\n",
       "      <td>1046.135746</td>\n",
       "      <td>1715.808847</td>\n",
       "      <td>...</td>\n",
       "      <td>6731.894236</td>\n",
       "      <td>4679.829057</td>\n",
       "      <td>3916.733333</td>\n",
       "      <td>4101.901998</td>\n",
       "      <td>5412.282328</td>\n",
       "      <td>3943.602414</td>\n",
       "      <td>4489.276111</td>\n",
       "      <td>4698.254995</td>\n",
       "      <td>1043.072385</td>\n",
       "      <td>2485.155931</td>\n",
       "    </tr>\n",
       "    <tr>\n",
       "      <th>er_2315</th>\n",
       "      <td>2581.162529</td>\n",
       "      <td>4994.076491</td>\n",
       "      <td>0.000000</td>\n",
       "      <td>924.337601</td>\n",
       "      <td>5789.922279</td>\n",
       "      <td>5242.289576</td>\n",
       "      <td>5143.073011</td>\n",
       "      <td>6114.638174</td>\n",
       "      <td>5362.984244</td>\n",
       "      <td>5636.452785</td>\n",
       "      <td>...</td>\n",
       "      <td>5077.952343</td>\n",
       "      <td>5014.538862</td>\n",
       "      <td>4787.316576</td>\n",
       "      <td>4637.930573</td>\n",
       "      <td>6796.705084</td>\n",
       "      <td>6739.970326</td>\n",
       "      <td>6741.869177</td>\n",
       "      <td>5377.285561</td>\n",
       "      <td>113.137085</td>\n",
       "      <td>3257.483691</td>\n",
       "    </tr>\n",
       "    <tr>\n",
       "      <th>er_2473</th>\n",
       "      <td>2496.717845</td>\n",
       "      <td>4943.197346</td>\n",
       "      <td>924.337601</td>\n",
       "      <td>0.000000</td>\n",
       "      <td>6251.783745</td>\n",
       "      <td>5571.355311</td>\n",
       "      <td>4926.986909</td>\n",
       "      <td>5811.437000</td>\n",
       "      <td>5108.737613</td>\n",
       "      <td>5290.897844</td>\n",
       "      <td>...</td>\n",
       "      <td>5435.880793</td>\n",
       "      <td>5792.132595</td>\n",
       "      <td>5340.861354</td>\n",
       "      <td>5324.058602</td>\n",
       "      <td>6284.457017</td>\n",
       "      <td>6272.989718</td>\n",
       "      <td>6136.839578</td>\n",
       "      <td>4787.316576</td>\n",
       "      <td>0.000000</td>\n",
       "      <td>3564.267106</td>\n",
       "    </tr>\n",
       "    <tr>\n",
       "      <th>er_2897</th>\n",
       "      <td>5888.565190</td>\n",
       "      <td>6533.605437</td>\n",
       "      <td>5789.922279</td>\n",
       "      <td>6251.783745</td>\n",
       "      <td>0.000000</td>\n",
       "      <td>430.813185</td>\n",
       "      <td>4773.258845</td>\n",
       "      <td>4763.192207</td>\n",
       "      <td>5310.216568</td>\n",
       "      <td>5682.253074</td>\n",
       "      <td>...</td>\n",
       "      <td>113.137085</td>\n",
       "      <td>2701.110883</td>\n",
       "      <td>2053.679624</td>\n",
       "      <td>3019.933774</td>\n",
       "      <td>4987.023160</td>\n",
       "      <td>5230.678732</td>\n",
       "      <td>5447.641692</td>\n",
       "      <td>4793.328697</td>\n",
       "      <td>80.000000</td>\n",
       "      <td>3775.288068</td>\n",
       "    </tr>\n",
       "  </tbody>\n",
       "</table>\n",
       "<p>5 rows × 40 columns</p>\n",
       "</div>"
      ],
      "text/plain": [
       "Label         er_816      er_1978      er_2315      er_2473      er_2897  \\\n",
       "Label                                                                      \n",
       "er_816      0.000000  2320.000000  2581.162529  2496.717845  5888.565190   \n",
       "er_1978  2320.000000     0.000000  4994.076491  4943.197346  6533.605437   \n",
       "er_2315  2581.162529  4994.076491     0.000000   924.337601  5789.922279   \n",
       "er_2473  2496.717845  4943.197346   924.337601     0.000000  6251.783745   \n",
       "er_2897  5888.565190  6533.605437  5789.922279  6251.783745     0.000000   \n",
       "\n",
       "Label        er_3018      er_3171      er_3228      er_3251      er_3264  ...  \\\n",
       "Label                                                                     ...   \n",
       "er_816   5297.546602  2818.226393  4076.861538  2938.298828  3215.960199  ...   \n",
       "er_1978  6004.265151  1417.603612  2766.658635  1046.135746  1715.808847  ...   \n",
       "er_2315  5242.289576  5143.073011  6114.638174  5362.984244  5636.452785  ...   \n",
       "er_2473  5571.355311  4926.986909  5811.437000  5108.737613  5290.897844  ...   \n",
       "er_2897   430.813185  4773.258845  4763.192207  5310.216568  5682.253074  ...   \n",
       "\n",
       "Label        er_7907      er_8270      er_8272      er_8273      er_8678  \\\n",
       "Label                                                                      \n",
       "er_816   5702.490684  4443.782173  3807.361291  3847.492690  5675.491168   \n",
       "er_1978  6731.894236  4679.829057  3916.733333  4101.901998  5412.282328   \n",
       "er_2315  5077.952343  5014.538862  4787.316576  4637.930573  6796.705084   \n",
       "er_2473  5435.880793  5792.132595  5340.861354  5324.058602  6284.457017   \n",
       "er_2897   113.137085  2701.110883  2053.679624  3019.933774  4987.023160   \n",
       "\n",
       "Label        er_8687      er_8751      er_9311      er_9492      er_9564  \n",
       "Label                                                                     \n",
       "er_816   4832.556259  5069.753446  4423.211503    56.568542  1787.064632  \n",
       "er_1978  3943.602414  4489.276111  4698.254995  1043.072385  2485.155931  \n",
       "er_2315  6739.970326  6741.869177  5377.285561   113.137085  3257.483691  \n",
       "er_2473  6272.989718  6136.839578  4787.316576     0.000000  3564.267106  \n",
       "er_2897  5230.678732  5447.641692  4793.328697    80.000000  3775.288068  \n",
       "\n",
       "[5 rows x 40 columns]"
      ]
     },
     "execution_count": 3,
     "metadata": {},
     "output_type": "execute_result"
    }
   ],
   "source": [
    "dm3.distance_df.head()"
   ]
  },
  {
   "cell_type": "code",
   "execution_count": null,
   "metadata": {},
   "outputs": [
    {
     "data": {
      "application/vnd.plotly.v1+json": {
       "config": {
        "plotlyServerURL": "https://plot.ly"
       },
       "data": [
        {
         "coloraxis": "coloraxis",
         "hovertemplate": "Label: %{x}<br>Label: %{y}<br>distance: %{z}<extra></extra>",
         "name": "0",
         "type": "heatmap",
         "x": [
          "er_816",
          "er_1978",
          "er_2315",
          "er_2473",
          "er_2897",
          "er_3018",
          "er_3171",
          "er_3228",
          "er_3251",
          "er_3264",
          "er_3287",
          "er_3295",
          "er_3392",
          "er_3397",
          "er_3445",
          "er_3881",
          "er_4268",
          "er_4554",
          "er_4911",
          "er_5143",
          "er_5464",
          "er_5809",
          "er_5906",
          "er_6162",
          "er_6969",
          "er_7168",
          "er_7172",
          "er_7460",
          "er_7706",
          "er_7727",
          "er_7907",
          "er_8270",
          "er_8272",
          "er_8273",
          "er_8678",
          "er_8687",
          "er_8751",
          "er_9311",
          "er_9492",
          "er_9564"
         ],
         "xaxis": "x",
         "y": [
          "er_816",
          "er_1978",
          "er_2315",
          "er_2473",
          "er_2897",
          "er_3018",
          "er_3171",
          "er_3228",
          "er_3251",
          "er_3264",
          "er_3287",
          "er_3295",
          "er_3392",
          "er_3397",
          "er_3445",
          "er_3881",
          "er_4268",
          "er_4554",
          "er_4911",
          "er_5143",
          "er_5464",
          "er_5809",
          "er_5906",
          "er_6162",
          "er_6969",
          "er_7168",
          "er_7172",
          "er_7460",
          "er_7706",
          "er_7727",
          "er_7907",
          "er_8270",
          "er_8272",
          "er_8273",
          "er_8678",
          "er_8687",
          "er_8751",
          "er_9311",
          "er_9492",
          "er_9564"
         ],
         "yaxis": "y",
         "z": [
          [
           0,
           2320,
           2581.1625287842685,
           2496.717845492358,
           5888.565190264942,
           5297.546601965857,
           2818.226392609366,
           4076.86153799709,
           2938.2988275531134,
           3215.960198758685,
           3161.7716552591205,
           3228.8697712976905,
           2222.791038311969,
           1799.5555006723189,
           992.7738916792686,
           2006.3897926375123,
           3494.452746854649,
           3789.670170344644,
           5765.55287895272,
           1349.37022347464,
           4943.844657753721,
           1547.1263684650974,
           1369.379421489895,
           1289.9612397277679,
           5128.118563371951,
           5248.9999047437595,
           5586.841683813852,
           4225.636046798162,
           5881.496408228097,
           5912.427589408601,
           5702.490683902955,
           4443.782172879314,
           3807.361290973054,
           3847.492690051535,
           5675.491168172143,
           4832.556259372466,
           5069.753445681555,
           4423.211502969308,
           56.568542494923804,
           1787.064632295094
          ],
          [
           2320,
           0,
           4994.076491204355,
           4943.197345848131,
           6533.605436510534,
           6004.265150707453,
           1417.603611733548,
           2766.658634526493,
           1046.1357464497617,
           1715.8088471621772,
           2501.8393233779025,
           2801.1426240018554,
           2819.3616298729753,
           2004.7942537826668,
           113.13708498984761,
           3701.675296402968,
           3921.632313208366,
           5874.4191202194625,
           6261.501417391838,
           2486.4432428672085,
           5131.86126079028,
           688.1860213634102,
           1234.179889643321,
           3303.3316515300126,
           6143.354132719357,
           5052.049089231022,
           5873.329549752849,
           5452.925820144631,
           4655.14768831237,
           4849.0823874213565,
           6731.894235651656,
           4679.829056707093,
           3916.733332765967,
           4101.901997854166,
           5412.282328186511,
           3943.602414037196,
           4489.276110911424,
           4698.254995208327,
           1043.0723848324237,
           2485.1559307214507
          ],
          [
           2581.1625287842685,
           4994.076491204355,
           0,
           924.3376006633074,
           5789.9222792711125,
           5242.2895761298805,
           5143.073011342538,
           6114.638174086836,
           5362.984243870198,
           5636.452785218732,
           4659.957081347424,
           4913.980056939588,
           3466.871788803272,
           3725.801927102406,
           3360,
           2882.2213655442915,
           4694.166592697792,
           1664.692163734785,
           5811.436999572481,
           2167.3947494630506,
           5727.128425310541,
           4195.235392680606,
           3933.0395370501933,
           2331.0083654933546,
           5068.49089966629,
           6289.546883520306,
           6077.894372231225,
           3193.9943644283408,
           7675.832202439029,
           7533.179939441245,
           5077.952343218672,
           5014.538862148742,
           4787.316576120697,
           4637.930573003438,
           6796.7050840830225,
           6739.970326344174,
           6741.869177016119,
           5377.285560577939,
           113.13708498984761,
           3257.483691440373
          ],
          [
           2496.717845492358,
           4943.197345848131,
           924.3376006633074,
           0,
           6251.78374546017,
           5571.355310873648,
           4926.986908852103,
           5811.436999572481,
           5108.737613148673,
           5290.897844411665,
           4877.376343896378,
           5040,
           3864.919145337972,
           3887.2097962420294,
           3407.2863102474967,
           1763.6326148038881,
           3536.325776848055,
           973.2420048477152,
           6480,
           2664.132128855474,
           5563.8835358048245,
           4020.7461994013,
           3628.3329505435413,
           1302.3056476879765,
           4403.634862247323,
           6139.706833391966,
           6149.601613112836,
           3623.037399751761,
           7571.314284851739,
           7388.639928972043,
           5435.88079339494,
           5792.132595167344,
           5340.861353751846,
           5324.058602231948,
           6284.457017117708,
           6272.989717829928,
           6136.839577502414,
           4787.316576120697,
           0,
           3564.2671055912742
          ],
          [
           5888.565190264942,
           6533.605436510534,
           5789.9222792711125,
           6251.78374546017,
           0,
           430.8131845707603,
           4773.258844856416,
           4763.1922069133425,
           5310.216568088349,
           5682.253074265524,
           3369.51035018443,
           3436.2770551863246,
           3409.1641204260027,
           3963.0291444802674,
           4145.358850570116,
           6848.766312263837,
           7920,
           5067.859508707794,
           815.8431221748456,
           4366.4172956784605,
           2759.7101297056543,
           5727.407790615227,
           5817.49086806331,
           6958.620552954443,
           5173.470788551917,
           2724.7018185482243,
           1002.3971268913334,
           1888.0677953929514,
           4263.3320302317525,
           4087.83561313319,
           113.13708498984761,
           2701.1108825814613,
           2053.67962447895,
           3019.9337741083,
           4987.023160162784,
           5230.678732248808,
           5447.64169159463,
           4793.328697262477,
           80,
           3775.2880684790134
          ],
          [
           5297.546601965857,
           6004.265150707453,
           5242.2895761298805,
           5571.355310873648,
           430.8131845707603,
           0,
           4029.491283028169,
           3883.091551843711,
           4548.75807226544,
           4912.0260585628,
           2926.294585307501,
           2948.084123630125,
           3062.025473440742,
           3464.1016151377544,
           3662.567405523071,
           5989.858095147163,
           6928.896015960984,
           4294.740970070256,
           1455.4724318928202,
           3861.605883567094,
           1695.1696080333672,
           5070.384600797064,
           5100.588201374426,
           6235.382907247958,
           3930.597918892239,
           1790.6423428479513,
           56.568542494923804,
           1551.2575543732253,
           3359.0474840347224,
           3205.9943855222205,
           582.4087911424415,
           2829.558269412383,
           2176.235281397671,
           3032.6226273639786,
           3901.9994874423037,
           4219.57343815699,
           4381.780460041329,
           3636.2618167563237,
           138.5640646055102,
           3346.640106136302
          ],
          [
           2818.226392609366,
           1417.603611733548,
           5143.073011342538,
           4926.986908852103,
           4773.258844856416,
           4029.491283028169,
           0,
           627.3754856543248,
           178.88543819998318,
           614.4916598294886,
           1341.0443691392168,
           897.997772825746,
           1936.5949499056328,
           1120,
           277.1281292110204,
           3831.6576047449753,
           4080,
           5209.83684965278,
           4919.186924685827,
           2125.6528408938275,
           2883.331406550416,
           1005.5844071981228,
           1494.5233353815524,
           3877.318661136843,
           4534.666470645884,
           2682.0887382784335,
           3712.8964434791337,
           4261.079675387448,
           2411.9701490690136,
           2581.1625287842685,
           5078.582479393241,
           3797.262171617862,
           2802.284782101919,
           3269.250678672408,
           3148.5869846647083,
           1874.459922217597,
           2481.2899870833317,
           2781.6541841141934,
           97.97958971132712,
           1811.96026446498
          ],
          [
           4076.86153799709,
           2766.658634526493,
           6114.638174086836,
           5811.436999572481,
           4763.1922069133425,
           3883.091551843711,
           627.3754856543248,
           0,
           795.989949685296,
           926.066952223218,
           2080,
           1444.437606821423,
           2863.284826907725,
           2136.16478765099,
           1470.782104868019,
           4736.918829787988,
           4728.128593851906,
           5669.285669288504,
           5227.006791654283,
           3249.615361854384,
           2406.6574330386115,
           2321.3789005675053,
           2756.2293083123545,
           4994.717209212149,
           4258.074682294805,
           2112.0606051910536,
           3411.040896852455,
           4664.76151587624,
           1763.6326148038881,
           1841.7383093154142,
           5128.118563371951,
           4563.507423024532,
           3477.010209936117,
           4126.790520489258,
           2214.1364004956877,
           1070.3270528207722,
           1678.0941570722425,
           2308.93915034589,
           0,
           2882.2213655442915
          ],
          [
           2938.2988275531134,
           1046.1357464497617,
           5362.984243870198,
           5108.737613148673,
           5310.216568088349,
           4548.75807226544,
           178.88543819998318,
           795.989949685296,
           0,
           293.9387691339814,
           2006.3897926375123,
           1457.6693726630879,
           2402.6651868289932,
           1639.5121225535358,
           240,
           3841.66630513375,
           3773.5924528226415,
           5446.466744596904,
           5494.433546781688,
           2454.057864028475,
           3260.4294195703733,
           1016.6612021711068,
           1527.3506473629427,
           3837.499185667666,
           4755.123552548345,
           3078.701024783017,
           4199.80951949014,
           4722.711085806542,
           2749.2544443903334,
           2867.7517326295874,
           5618.25595714542,
           4376.665397308778,
           3396.939799289943,
           3834.996740546203,
           3269.250678672408,
           1874.459922217597,
           2465.7656011875906,
           2955.1311307622204,
           56.568542494923804,
           2189.4291493446412
          ],
          [
           3215.960198758685,
           1715.8088471621772,
           5636.452785218732,
           5290.897844411665,
           5682.253074265524,
           4912.0260585628,
           614.4916598294886,
           926.066952223218,
           293.9387691339814,
           0,
           2390.6484475974294,
           1857.309882599024,
           2810.2668912400472,
           2058.348852842977,
           571.314274283428,
           3955.755300824357,
           3542.6543720775244,
           5628.498911788115,
           5867.3332954588495,
           2831.8192032684574,
           3518.1813483673636,
           1339.850737955538,
           1762.7251629224563,
           4006.394888175653,
           4809.324276860524,
           3407.2863102474967,
           4541.01310282188,
           5071.646675390548,
           2941.564209736038,
           3050.508154390019,
           5971.13054621987,
           4800.666620376799,
           3803.997896949997,
           4264.832939283789,
           3398.8233257996803,
           1909.9738218101315,
           2483.867951401604,
           3029.455396601838,
           56.568542494923804,
           2591.0615585122637
          ],
          [
           3161.7716552591205,
           2501.8393233779025,
           4659.957081347424,
           4877.376343896378,
           3369.51035018443,
           2926.294585307501,
           1341.0443691392168,
           2080,
           2006.3897926375123,
           2390.6484475974294,
           0,
           138.5640646055102,
           803.9900496896712,
           536.6563145999495,
           733.2121111929343,
           4571.214280691729,
           5412.282328186511,
           4769.90565944443,
           3132.283512072303,
           1657.9505420850164,
           2616.8683574073802,
           2290.8513701242164,
           2626.6328255011204,
           4578.209256903839,
           4693.484846039241,
           2517.141235608364,
           2938.2988275531134,
           2722.351924347769,
           2864.402206394905,
           3028.398916919632,
           3621.270495282008,
           1651.1813952440234,
           692.8203230275509,
           1234.179889643321,
           3984.771009731927,
           3181.9490882162145,
           3649.438312946254,
           3350.4626546195077,
           187.6166303929372,
           960
          ],
          [
           3228.8697712976905,
           2801.1426240018554,
           4913.980056939588,
           5040,
           3436.2770551863246,
           2948.084123630125,
           897.997772825746,
           1444.437606821423,
           1457.6693726630879,
           1857.309882599024,
           138.5640646055102,
           0,
           1074.8023074035523,
           509.11688245431424,
           688.1860213634102,
           4548.75807226544,
           5292.711970247389,
           4947.7267507411925,
           3113.84007296457,
           1813.7254478007414,
           2547.469332494505,
           2176.235281397671,
           2506.9503385587836,
           4599.130352577539,
           4651.021393199562,
           2320,
           2938.2988275531134,
           3100.4515800121762,
           2354.230235129946,
           2531.08672312902,
           3770.198933743417,
           1967.7398201998149,
           815.8431221748456,
           1656.9852141766382,
           3488.0366970546625,
           2621.7551373078304,
           3200.499960943602,
           3219.937887599697,
           265.329983228432,
           1200.8885599144214
          ],
          [
           2222.791038311969,
           2819.3616298729753,
           3466.871788803272,
           3864.919145337972,
           3409.1641204260027,
           3062.025473440742,
           1936.5949499056328,
           2863.284826907725,
           2402.6651868289932,
           2810.2668912400472,
           803.9900496896712,
           1074.8023074035523,
           0,
           466.47615158762403,
           688.1860213634102,
           3893.789927564146,
           5073.539198626537,
           4011.982053798347,
           3173.8935079803796,
           598.6651818838307,
           3149.6031496047244,
           2186.5040589946316,
           2308.93915034589,
           3678.2604584232477,
           4644.825077438331,
           3330.345327439784,
           3338.981880753473,
           2254.2404485768593,
           3992.7935083096895,
           4031.873013873329,
           3527.2652296077763,
           1826.0339536821323,
           1091.0545357588685,
           1223.7646832622684,
           4562.806154111743,
           3910.19181115198,
           4255.819545046524,
           3652.9440181858795,
           80,
           160
          ],
          [
           1799.5555006723189,
           2004.7942537826668,
           3725.801927102406,
           3887.2097962420294,
           3963.0291444802674,
           3464.1016151377544,
           1120,
           2136.16478765099,
           1639.5121225535358,
           2058.348852842977,
           536.6563145999495,
           509.11688245431424,
           466.47615158762403,
           0,
           138.5640646055102,
           3539.943502374014,
           4652.397231535588,
           4143.042360391696,
           3816.5953414005003,
           554.2562584220408,
           3012.507261402037,
           1505.1910177781424,
           1704.5820602130013,
           3338.981880753473,
           4643.446995498064,
           3016.7532215943684,
           3457.6292455958896,
           2990.117054564921,
           3350.4626546195077,
           3458.5546113947657,
           4186.836514601448,
           2631.5014725437645,
           1728.8146227979448,
           2030.1724064719233,
           4186.836514601448,
           3252.5682160409797,
           3693.8868417968624,
           3364.282984530285,
           138.5640646055102,
           113.13708498984761
          ],
          [
           992.7738916792686,
           113.13708498984761,
           3360,
           3407.2863102474967,
           4145.358850570116,
           3662.567405523071,
           277.1281292110204,
           1470.782104868019,
           240,
           571.314274283428,
           733.2121111929343,
           688.1860213634102,
           688.1860213634102,
           138.5640646055102,
           0,
           2725.8760059841316,
           3600.888779176608,
           4086.269692519083,
           3926.5251813785685,
           649.9230723708769,
           3070.374569983278,
           299.3325909419153,
           720,
           2438.360104660507,
           4426.104381959377,
           3066.202863477888,
           3594.6627101857553,
           3188.9810284791597,
           3411.040896852455,
           3520.9089735464618,
           4356.512366561124,
           2620.534296665472,
           1741.7232845661792,
           2033.3224043422135,
           3903.6393276018725,
           2501.8393233779025,
           3022.0522828038565,
           3138.4072393492847,
           56.568542494923804,
           536.6563145999495
          ],
          [
           2006.3897926375123,
           3701.675296402968,
           2882.2213655442915,
           1763.6326148038881,
           6848.766312263837,
           5989.858095147163,
           3831.6576047449753,
           4736.918829787988,
           3841.66630513375,
           3955.755300824357,
           4571.214280691729,
           4548.75807226544,
           3893.789927564146,
           3539.943502374014,
           2725.8760059841316,
           0,
           1483.7789592793126,
           3091.148653817865,
           7083.953698324121,
           2938.2988275531134,
           5128.118563371951,
           2812.543332999511,
           2235.7101779971395,
           750.4665215717488,
           4019.950248448356,
           5684.505255516965,
           6154.283061413409,
           4945.139027368189,
           6671.251756604603,
           6630.113121206908,
           6392.495600311353,
           6160,
           5459.963369840498,
           5580.537608510492,
           5328.864794681885,
           5014.538862148742,
           4901.591578252925,
           3857.460304397182,
           80,
           3429.7521776361627
          ],
          [
           3494.452746854649,
           3921.632313208366,
           4694.166592697792,
           3536.325776848055,
           7920,
           6928.896015960984,
           4080,
           4728.128593851906,
           3773.5924528226415,
           3542.6543720775244,
           5412.282328186511,
           5292.711970247389,
           5073.539198626537,
           4652.397231535588,
           3600.888779176608,
           1483.7789592793126,
           0,
           4435.493208201316,
           8308.83866734696,
           4441.9815398085575,
           5450.577951006664,
           3331.3060501851223,
           2454.057864028475,
           2293.6433898930322,
           4299.95348812054,
           5971.13054621987,
           6762.721345730578,
           6345.265951873097,
           6601.3331986804,
           6575.1045619062215,
           7522.127358666563,
           7453.750733691059,
           6637.589924061293,
           6862.302820482349,
           5162.325057568537,
           4640.689603927416,
           4512.737528374545,
           3810.7217164206572,
           329.84845004941286,
           4650.333321386758
          ],
          [
           3789.670170344644,
           5874.4191202194625,
           1664.692163734785,
           973.2420048477152,
           5067.859508707794,
           4294.740970070256,
           5209.83684965278,
           5669.285669288504,
           5446.466744596904,
           5628.498911788115,
           4769.90565944443,
           4947.7267507411925,
           4011.982053798347,
           4143.042360391696,
           4086.269692519083,
           3091.148653817865,
           4435.493208201316,
           0,
           5662.508278139644,
           3179.9371062962864,
           4610.249450951651,
           4828.581572263225,
           4418.144406874904,
           3216.9550820612963,
           3224.406922210657,
           5268.472264328626,
           4974.1732981471405,
           2616.8683574073802,
           7056.798140800118,
           6805.644715969237,
           4132.989232988637,
           5600.285706997456,
           5135.601230625291,
           5225.169853698538,
           5490.355179767516,
           6033.506443188737,
           5618.25595714542,
           4087.0527278223362,
           56.568542494923804,
           3877.318661136843
          ],
          [
           5765.55287895272,
           6261.501417391838,
           5811.436999572481,
           6480,
           815.8431221748456,
           1455.4724318928202,
           4919.186924685827,
           5227.006791654283,
           5494.433546781688,
           5867.3332954588495,
           3132.283512072303,
           3113.84007296457,
           3173.8935079803796,
           3816.5953414005003,
           3926.5251813785685,
           7083.953698324121,
           8308.83866734696,
           5662.508278139644,
           0,
           4192.183202103649,
           3754.037826128021,
           5646.662731206814,
           5811.987611824375,
           7013.58681417718,
           6190.056542552741,
           3499.9428566763772,
           2050.5608988762074,
           2124.1468875762807,
           4723.388614120164,
           4707.101018673808,
           1218.5236969382254,
           1627.7591959500644,
           1142.628548566856,
           2058.348852842977,
           5989.858095147163,
           5974.34515239955,
           6334.66652634533,
           5672.107192217016,
           160,
           3585.749572962395
          ],
          [
           1349.37022347464,
           2486.4432428672085,
           2167.3947494630506,
           2664.132128855474,
           4366.4172956784605,
           3861.605883567094,
           2125.6528408938275,
           3249.615361854384,
           2454.057864028475,
           2831.8192032684574,
           1657.9505420850164,
           1813.7254478007414,
           598.6651818838307,
           554.2562584220408,
           649.9230723708769,
           2938.2988275531134,
           4441.9815398085575,
           3179.9371062962864,
           4192.183202103649,
           0,
           3753.1853138367683,
           1788.8543819998317,
           1741.7232845661792,
           2622.9754097208,
           4712.536472007405,
           4011.184363750936,
           4190.656273186814,
           2729.3955374771167,
           4697.573841889023,
           4726.774798951184,
           4275.324549083964,
           2646.0536653665963,
           2229.9775783626164,
           2112.0606051910536,
           4927.636350219038,
           4210.463157421045,
           4517.69852911856,
           3834.996740546203,
           56.568542494923804,
           195.95917942265424
          ],
          [
           4943.844657753721,
           5131.86126079028,
           5727.128425310541,
           5563.8835358048245,
           2759.7101297056543,
           1695.1696080333672,
           2883.331406550416,
           2406.6574330386115,
           3260.4294195703733,
           3518.1813483673636,
           2616.8683574073802,
           2547.469332494505,
           3149.6031496047244,
           3012.507261402037,
           3070.374569983278,
           5128.118563371951,
           5450.577951006664,
           4610.249450951651,
           3754.037826128021,
           3753.1853138367683,
           0,
           4091.747792814215,
           4132.989232988637,
           5677.182399747255,
           2661.72876153826,
           415.69219381653056,
           915.6418513807678,
           3239.753077010654,
           2229.9775783626164,
           2136.16478765099,
           3035.786553761644,
           4255.819545046524,
           3364.282984530285,
           4039.009779636588,
           1617.8998732925347,
           2251.399564715246,
           2119.622607918683,
           1540.9088227406578,
           56.568542494923804,
           3376.151655361471
          ],
          [
           1547.1263684650974,
           688.1860213634102,
           4195.235392680606,
           4020.7461994013,
           5727.407790615227,
           5070.384600797064,
           1005.5844071981228,
           2321.3789005675053,
           1016.6612021711068,
           1339.850737955538,
           2290.8513701242164,
           2176.235281397671,
           2186.5040589946316,
           1505.1910177781424,
           299.3325909419153,
           2812.543332999511,
           3331.3060501851223,
           4828.581572263225,
           5646.662731206814,
           1788.8543819998317,
           4091.747792814215,
           0,
           407.9215610874228,
           2572.4696305301645,
           4945.786085143594,
           4156.152066515372,
           4929.584160961247,
           4597.042527538765,
           4228.664091648803,
           4370.0800907992525,
           5833.96948912145,
           4322.961947554015,
           3477.010209936117,
           3720.6451053547153,
           4540.308359572067,
           3219.937887599697,
           3638.9009329741307,
           3583.0713082493908,
           240,
           1725.108692227826
          ],
          [
           1369.379421489895,
           1234.179889643321,
           3933.0395370501933,
           3628.3329505435413,
           5817.49086806331,
           5100.588201374426,
           1494.5233353815524,
           2756.2293083123545,
           1527.3506473629427,
           1762.7251629224563,
           2626.6328255011204,
           2506.9503385587836,
           2308.93915034589,
           1704.5820602130013,
           720,
           2235.7101779971395,
           2454.057864028475,
           4418.144406874904,
           5811.987611824375,
           1741.7232845661792,
           4132.989232988637,
           407.9215610874228,
           0,
           1815.4889148656348,
           4698.254995208327,
           4326.6615305567875,
           5026.012335838423,
           4549.461506596138,
           4640.689603927416,
           4753.777445358585,
           5806.479139719698,
           4566.311421705707,
           3739.090798576574,
           3955.755300824357,
           4590.773355329144,
           3449.289781969616,
           3757.445941061561,
           3502.684684638342,
           0,
           1804.8822676285565
          ],
          [
           1289.9612397277679,
           3303.3316515300126,
           2331.0083654933546,
           1302.3056476879765,
           6958.620552954443,
           6235.382907247958,
           3877.318661136843,
           4994.717209212149,
           3837.499185667666,
           4006.394888175653,
           4578.209256903839,
           4599.130352577539,
           3678.2604584232477,
           3338.981880753473,
           2438.360104660507,
           750.4665215717488,
           2293.6433898930322,
           3216.9550820612963,
           7013.58681417718,
           2622.9754097208,
           5677.182399747255,
           2572.4696305301645,
           1815.4889148656348,
           0,
           5060.27667227791,
           6126.663039534654,
           6525.273940609697,
           4959.354796745238,
           6919.884392097891,
           6936.050749525986,
           6558.048490214143,
           5879.863944004147,
           5263.6109278707145,
           5303.583694069511,
           6095.769024495597,
           5432.347558836787,
           5504.325571766263,
           4715.25184905324,
           80,
           3210.9811584623167
          ],
          [
           5128.118563371951,
           6143.354132719357,
           5068.49089966629,
           4403.634862247323,
           5173.470788551917,
           3930.597918892239,
           4534.666470645884,
           4258.074682294805,
           4755.123552548345,
           4809.324276860524,
           4693.484846039241,
           4651.021393199562,
           4644.825077438331,
           4643.446995498064,
           4426.104381959377,
           4019.950248448356,
           4299.95348812054,
           3224.406922210657,
           6190.056542552741,
           4712.536472007405,
           2661.72876153826,
           4945.786085143594,
           4698.254995208327,
           5060.27667227791,
           0,
           3407.2863102474967,
           3718.924575734227,
           4324.442160556665,
           5027.922035990614,
           4969.024049046251,
           4583.099387968801,
           6472.588353974012,
           5737.734744653155,
           6102.589614253936,
           2671.32925713024,
           3991.991983959888,
           3002.9319006597534,
           1505.1910177781424,
           113.13708498984761,
           4638.620484583752
          ],
          [
           5248.9999047437595,
           5052.049089231022,
           6289.546883520306,
           6139.706833391966,
           2724.7018185482243,
           1790.6423428479513,
           2682.0887382784335,
           2112.0606051910536,
           3078.701024783017,
           3407.2863102474967,
           2517.141235608364,
           2320,
           3330.345327439784,
           3016.7532215943684,
           3066.202863477888,
           5684.505255516965,
           5971.13054621987,
           5268.472264328626,
           3499.9428566763772,
           4011.184363750936,
           415.69219381653056,
           4156.152066515372,
           4326.6615305567875,
           6126.663039534654,
           3407.2863102474967,
           0,
           1282.4975633505119,
           3750.6266143139337,
           1383.3293172632466,
           1183.8918869558993,
           3209.9844236382205,
           4006.394888175653,
           2929.5733477760887,
           3854.9708170101626,
           1857.309882599024,
           2048.9997559785115,
           2234.2784070030307,
           2095.328136593407,
           80,
           3550.7745633875434
          ],
          [
           5586.841683813852,
           5873.329549752849,
           6077.894372231225,
           6149.601613112836,
           1002.3971268913334,
           56.568542494923804,
           3712.8964434791337,
           3411.040896852455,
           4199.80951949014,
           4541.01310282188,
           2938.2988275531134,
           2938.2988275531134,
           3338.981880753473,
           3457.6292455958896,
           3594.6627101857553,
           6154.283061413409,
           6762.721345730578,
           4974.1732981471405,
           2050.5608988762074,
           4190.656273186814,
           915.6418513807678,
           4929.584160961247,
           5026.012335838423,
           6525.273940609697,
           3718.924575734227,
           1282.4975633505119,
           0,
           2605.839595984373,
           2782.804340948174,
           2674.9205595680783,
           1468.6047800548656,
           3264.3529220965065,
           2587.3538606073967,
           3349.5074264733316,
           3042.104534693047,
           3525.4503258449126,
           3565.164792825151,
           3072.458299147443,
           46.188021535170144,
           3648.9998629761553
          ],
          [
           4225.636046798162,
           5452.925820144631,
           3193.9943644283408,
           3623.037399751761,
           1888.0677953929514,
           1551.2575543732253,
           4261.079675387448,
           4664.76151587624,
           4722.711085806542,
           5071.646675390548,
           2722.351924347769,
           3100.4515800121762,
           2254.2404485768593,
           2990.117054564921,
           3188.9810284791597,
           4945.139027368189,
           6345.265951873097,
           2616.8683574073802,
           2124.1468875762807,
           2729.3955374771167,
           3239.753077010654,
           4597.042527538765,
           4549.461506596138,
           4959.354796745238,
           4324.442160556665,
           3750.6266143139337,
           2605.839595984373,
           0,
           5156.122574183046,
           5001.7596903489875,
           1444.437606821423,
           2448.8364584022347,
           2095.328136593407,
           2481.2899870833317,
           5206.764830487354,
           5408.1420099697825,
           5522.897790109826,
           4371.544349540561,
           0,
           2531.08672312902
          ],
          [
           5881.496408228097,
           4655.14768831237,
           7675.832202439029,
           7571.314284851739,
           4263.3320302317525,
           3359.0474840347224,
           2411.9701490690136,
           1763.6326148038881,
           2749.2544443903334,
           2941.564209736038,
           2864.402206394905,
           2354.230235129946,
           3992.7935083096895,
           3350.4626546195077,
           3411.040896852455,
           6671.251756604603,
           6601.3331986804,
           7056.798140800118,
           4723.388614120164,
           4697.573841889023,
           2229.9775783626164,
           4228.664091648803,
           4640.689603927416,
           6919.884392097891,
           5027.922035990614,
           1383.3293172632466,
           2782.804340948174,
           5156.122574183046,
           0,
           113.13708498984761,
           4787.316576120697,
           4641.379105395292,
           3398.8233257996803,
           4418.144406874904,
           1231.5843454672522,
           1442.2205101855957,
           1985.5477833585371,
           3233.821269025238,
           226.27416997969522,
           4155.382052230577
          ],
          [
           5912.427589408601,
           4849.0823874213565,
           7533.179939441245,
           7388.639928972043,
           4087.83561313319,
           3205.9943855222205,
           2581.1625287842685,
           1841.7383093154142,
           2867.7517326295874,
           3050.508154390019,
           3028.398916919632,
           2531.08672312902,
           4031.873013873329,
           3458.5546113947657,
           3520.9089735464618,
           6630.113121206908,
           6575.1045619062215,
           6805.644715969237,
           4707.101018673808,
           4726.774798951184,
           2136.16478765099,
           4370.0800907992525,
           4753.777445358585,
           6936.050749525986,
           4969.024049046251,
           1183.8918869558993,
           2674.9205595680783,
           5001.7596903489875,
           113.13708498984761,
           0,
           4604.693257970611,
           4842.478704134898,
           3631.8590281011734,
           4633.098315382483,
           1522.1038072352358,
           1509.4369811290567,
           2189.4291493446412,
           3245.674044016127,
           187.6166303929372,
           4215.7798804017275
          ],
          [
           5702.490683902955,
           6731.894235651656,
           5077.952343218672,
           5435.88079339494,
           113.13708498984761,
           582.4087911424415,
           5078.582479393241,
           5128.118563371951,
           5618.25595714542,
           5971.13054621987,
           3621.270495282008,
           3770.198933743417,
           3527.2652296077763,
           4186.836514601448,
           4356.512366561124,
           6392.495600311353,
           7522.127358666563,
           4132.989232988637,
           1218.5236969382254,
           4275.324549083964,
           3035.786553761644,
           5833.96948912145,
           5806.479139719698,
           6558.048490214143,
           4583.099387968801,
           3209.9844236382205,
           1468.6047800548656,
           1444.437606821423,
           4787.316576120697,
           4604.693257970611,
           0,
           2902.1371435547285,
           2311.7093242879823,
           3224.9030993194197,
           5144.939261060329,
           5614.26753904728,
           5695.75280362482,
           4666.133302853659,
           138.5640646055102,
           3862.4344654634597
          ],
          [
           4443.782172879314,
           4679.829056707093,
           5014.538862148742,
           5792.132595167344,
           2701.1108825814613,
           2829.558269412383,
           3797.262171617862,
           4563.507423024532,
           4376.665397308778,
           4800.666620376799,
           1651.1813952440234,
           1967.7398201998149,
           1826.0339536821323,
           2631.5014725437645,
           2620.534296665472,
           6160,
           7453.750733691059,
           5600.285706997456,
           1627.7591959500644,
           2646.0536653665963,
           4255.819545046524,
           4322.961947554015,
           4566.311421705707,
           5879.863944004147,
           6472.588353974012,
           4006.394888175653,
           3264.3529220965065,
           2448.8364584022347,
           4641.379105395292,
           4842.478704134898,
           2902.1371435547285,
           0,
           461.8802153517002,
           113.13708498984761,
           6174.5283220663905,
           5639.858154244662,
           6114.114817371358,
           5609.135405746593,
           0,
           2374.531532744933
          ],
          [
           3807.361290973054,
           3916.733332765967,
           4787.316576120697,
           5340.861353751846,
           2053.67962447895,
           2176.235281397671,
           2802.284782101919,
           3477.010209936117,
           3396.939799289943,
           3803.997896949997,
           692.8203230275509,
           815.8431221748456,
           1091.0545357588685,
           1728.8146227979448,
           1741.7232845661792,
           5459.963369840498,
           6637.589924061293,
           5135.601230625291,
           1142.628548566856,
           2229.9775783626164,
           3364.282984530285,
           3477.010209936117,
           3739.090798576574,
           5263.6109278707145,
           5737.734744653155,
           2929.5733477760887,
           2587.3538606073967,
           2095.328136593407,
           3398.8233257996803,
           3631.8590281011734,
           2311.7093242879823,
           461.8802153517002,
           0,
           293.9387691339814,
           5026.648983169603,
           4534.666470645884,
           5068.49089966629,
           4730.158559710235,
           46.18802153516962,
           1571.75061635108
          ],
          [
           3847.492690051535,
           4101.901997854166,
           4637.930573003438,
           5324.058602231948,
           3019.9337741083,
           3032.6226273639786,
           3269.250678672408,
           4126.790520489258,
           3834.996740546203,
           4264.832939283789,
           1234.179889643321,
           1656.9852141766382,
           1223.7646832622684,
           2030.1724064719233,
           2033.3224043422135,
           5580.537608510492,
           6862.302820482349,
           5225.169853698538,
           2058.348852842977,
           2112.0606051910536,
           4039.009779636588,
           3720.6451053547153,
           3955.755300824357,
           5303.583694069511,
           6102.589614253936,
           3854.9708170101626,
           3349.5074264733316,
           2481.2899870833317,
           4418.144406874904,
           4633.098315382483,
           3224.9030993194197,
           113.13708498984761,
           293.9387691339814,
           0,
           5879.863944004147,
           5231.902139757585,
           5694.0670877677585,
           5191.377466530439,
           178.88543819998318,
           1778.0888616714294
          ],
          [
           5675.491168172143,
           5412.282328186511,
           6796.7050840830225,
           6284.457017117708,
           4987.023160162784,
           3901.9994874423037,
           3148.5869846647083,
           2214.1364004956877,
           3269.250678672408,
           3398.8233257996803,
           3984.771009731927,
           3488.0366970546625,
           4562.806154111743,
           4186.836514601448,
           3903.6393276018725,
           5328.864794681885,
           5162.325057568537,
           5490.355179767516,
           5989.858095147163,
           4927.636350219038,
           1617.8998732925347,
           4540.308359572067,
           4590.773355329144,
           6095.769024495597,
           2671.32925713024,
           1857.309882599024,
           3042.104534693047,
           5206.764830487354,
           1231.5843454672522,
           1522.1038072352358,
           5144.939261060329,
           6174.5283220663905,
           5026.648983169603,
           5879.863944004147,
           0,
           835.224520712844,
           299.3325909419153,
           1312.097557348538,
           113.13708498984761,
           4663.389325372695
          ],
          [
           4832.556259372466,
           3943.602414037196,
           6739.970326344174,
           6272.989717829928,
           5230.678732248808,
           4219.57343815699,
           1874.459922217597,
           1070.3270528207722,
           1874.459922217597,
           1909.9738218101315,
           3181.9490882162145,
           2621.7551373078304,
           3910.19181115198,
           3252.5682160409797,
           2501.8393233779025,
           5014.538862148742,
           4640.689603927416,
           6033.506443188737,
           5974.34515239955,
           4210.463157421045,
           2251.399564715246,
           3219.937887599697,
           3449.289781969616,
           5432.347558836787,
           3991.991983959888,
           2048.9997559785115,
           3525.4503258449126,
           5408.1420099697825,
           1442.2205101855957,
           1509.4369811290567,
           5614.26753904728,
           5639.858154244662,
           4534.666470645884,
           5231.902139757585,
           835.224520712844,
           0,
           644.9806198638839,
           2039.607805437114,
           56.568542494923804,
           3901.179308875715
          ],
          [
           5069.753445681555,
           4489.276110911424,
           6741.869177016119,
           6136.839577502414,
           5447.64169159463,
           4381.780460041329,
           2481.2899870833317,
           1678.0941570722425,
           2465.7656011875906,
           2483.867951401604,
           3649.438312946254,
           3200.499960943602,
           4255.819545046524,
           3693.8868417968624,
           3022.0522828038565,
           4901.591578252925,
           4512.737528374545,
           5618.25595714542,
           6334.66652634533,
           4517.69852911856,
           2119.622607918683,
           3638.9009329741307,
           3757.445941061561,
           5504.325571766263,
           3002.9319006597534,
           2234.2784070030307,
           3565.164792825151,
           5522.897790109826,
           1985.5477833585371,
           2189.4291493446412,
           5695.75280362482,
           6114.114817371358,
           5068.49089966629,
           5694.0670877677585,
           299.3325909419153,
           644.9806198638839,
           0,
           1326.64991614216,
           187.6166303929372,
           4249.04695196464
          ],
          [
           4423.211502969308,
           4698.254995208327,
           5377.285560577939,
           4787.316576120697,
           4793.328697262477,
           3636.2618167563237,
           2781.6541841141934,
           2308.93915034589,
           2955.1311307622204,
           3029.455396601838,
           3350.4626546195077,
           3219.937887599697,
           3652.9440181858795,
           3364.282984530285,
           3138.4072393492847,
           3857.460304397182,
           3810.7217164206572,
           4087.0527278223362,
           5672.107192217016,
           3834.996740546203,
           1540.9088227406578,
           3583.0713082493908,
           3502.684684638342,
           4715.25184905324,
           1505.1910177781424,
           2095.328136593407,
           3072.458299147443,
           4371.544349540561,
           3233.821269025238,
           3245.674044016127,
           4666.133302853659,
           5609.135405746593,
           4730.158559710235,
           5191.377466530439,
           1312.097557348538,
           2039.607805437114,
           1326.64991614216,
           0,
           46.18802153516993,
           3667.36962958467
          ],
          [
           56.568542494923804,
           1043.0723848324237,
           113.13708498984761,
           0,
           80,
           138.5640646055102,
           97.97958971132712,
           0,
           56.568542494923804,
           56.568542494923804,
           187.6166303929372,
           265.329983228432,
           80,
           138.5640646055102,
           56.568542494923804,
           80,
           329.84845004941286,
           56.568542494923804,
           160,
           56.568542494923804,
           56.568542494923804,
           240,
           0,
           80,
           113.13708498984761,
           80,
           46.188021535170144,
           0,
           226.27416997969522,
           187.6166303929372,
           138.5640646055102,
           0,
           46.18802153516962,
           178.88543819998318,
           113.13708498984761,
           56.568542494923804,
           187.6166303929372,
           46.18802153516993,
           0,
           226.27416997969522
          ],
          [
           1787.064632295094,
           2485.1559307214507,
           3257.483691440373,
           3564.2671055912742,
           3775.2880684790134,
           3346.640106136302,
           1811.96026446498,
           2882.2213655442915,
           2189.4291493446412,
           2591.0615585122637,
           960,
           1200.8885599144214,
           160,
           113.13708498984761,
           536.6563145999495,
           3429.7521776361627,
           4650.333321386758,
           3877.318661136843,
           3585.749572962395,
           195.95917942265424,
           3376.151655361471,
           1725.108692227826,
           1804.8822676285565,
           3210.9811584623167,
           4638.620484583752,
           3550.7745633875434,
           3648.9998629761553,
           2531.08672312902,
           4155.382052230577,
           4215.7798804017275,
           3862.4344654634597,
           2374.531532744933,
           1571.75061635108,
           1778.0888616714294,
           4663.389325372695,
           3901.179308875715,
           4249.04695196464,
           3667.36962958467,
           226.27416997969522,
           0
          ]
         ]
        }
       ],
       "layout": {
        "coloraxis": {
         "colorbar": {
          "title": {
           "text": "distance"
          }
         },
         "colorscale": [
          [
           0,
           "#0d0887"
          ],
          [
           0.1111111111111111,
           "#46039f"
          ],
          [
           0.2222222222222222,
           "#7201a8"
          ],
          [
           0.3333333333333333,
           "#9c179e"
          ],
          [
           0.4444444444444444,
           "#bd3786"
          ],
          [
           0.5555555555555556,
           "#d8576b"
          ],
          [
           0.6666666666666666,
           "#ed7953"
          ],
          [
           0.7777777777777778,
           "#fb9f3a"
          ],
          [
           0.8888888888888888,
           "#fdca26"
          ],
          [
           1,
           "#f0f921"
          ]
         ]
        },
        "margin": {
         "t": 60
        },
        "template": {
         "data": {
          "bar": [
           {
            "error_x": {
             "color": "#2a3f5f"
            },
            "error_y": {
             "color": "#2a3f5f"
            },
            "marker": {
             "line": {
              "color": "#E5ECF6",
              "width": 0.5
             },
             "pattern": {
              "fillmode": "overlay",
              "size": 10,
              "solidity": 0.2
             }
            },
            "type": "bar"
           }
          ],
          "barpolar": [
           {
            "marker": {
             "line": {
              "color": "#E5ECF6",
              "width": 0.5
             },
             "pattern": {
              "fillmode": "overlay",
              "size": 10,
              "solidity": 0.2
             }
            },
            "type": "barpolar"
           }
          ],
          "carpet": [
           {
            "aaxis": {
             "endlinecolor": "#2a3f5f",
             "gridcolor": "white",
             "linecolor": "white",
             "minorgridcolor": "white",
             "startlinecolor": "#2a3f5f"
            },
            "baxis": {
             "endlinecolor": "#2a3f5f",
             "gridcolor": "white",
             "linecolor": "white",
             "minorgridcolor": "white",
             "startlinecolor": "#2a3f5f"
            },
            "type": "carpet"
           }
          ],
          "choropleth": [
           {
            "colorbar": {
             "outlinewidth": 0,
             "ticks": ""
            },
            "type": "choropleth"
           }
          ],
          "contour": [
           {
            "colorbar": {
             "outlinewidth": 0,
             "ticks": ""
            },
            "colorscale": [
             [
              0,
              "#0d0887"
             ],
             [
              0.1111111111111111,
              "#46039f"
             ],
             [
              0.2222222222222222,
              "#7201a8"
             ],
             [
              0.3333333333333333,
              "#9c179e"
             ],
             [
              0.4444444444444444,
              "#bd3786"
             ],
             [
              0.5555555555555556,
              "#d8576b"
             ],
             [
              0.6666666666666666,
              "#ed7953"
             ],
             [
              0.7777777777777778,
              "#fb9f3a"
             ],
             [
              0.8888888888888888,
              "#fdca26"
             ],
             [
              1,
              "#f0f921"
             ]
            ],
            "type": "contour"
           }
          ],
          "contourcarpet": [
           {
            "colorbar": {
             "outlinewidth": 0,
             "ticks": ""
            },
            "type": "contourcarpet"
           }
          ],
          "heatmap": [
           {
            "colorbar": {
             "outlinewidth": 0,
             "ticks": ""
            },
            "colorscale": [
             [
              0,
              "#0d0887"
             ],
             [
              0.1111111111111111,
              "#46039f"
             ],
             [
              0.2222222222222222,
              "#7201a8"
             ],
             [
              0.3333333333333333,
              "#9c179e"
             ],
             [
              0.4444444444444444,
              "#bd3786"
             ],
             [
              0.5555555555555556,
              "#d8576b"
             ],
             [
              0.6666666666666666,
              "#ed7953"
             ],
             [
              0.7777777777777778,
              "#fb9f3a"
             ],
             [
              0.8888888888888888,
              "#fdca26"
             ],
             [
              1,
              "#f0f921"
             ]
            ],
            "type": "heatmap"
           }
          ],
          "heatmapgl": [
           {
            "colorbar": {
             "outlinewidth": 0,
             "ticks": ""
            },
            "colorscale": [
             [
              0,
              "#0d0887"
             ],
             [
              0.1111111111111111,
              "#46039f"
             ],
             [
              0.2222222222222222,
              "#7201a8"
             ],
             [
              0.3333333333333333,
              "#9c179e"
             ],
             [
              0.4444444444444444,
              "#bd3786"
             ],
             [
              0.5555555555555556,
              "#d8576b"
             ],
             [
              0.6666666666666666,
              "#ed7953"
             ],
             [
              0.7777777777777778,
              "#fb9f3a"
             ],
             [
              0.8888888888888888,
              "#fdca26"
             ],
             [
              1,
              "#f0f921"
             ]
            ],
            "type": "heatmapgl"
           }
          ],
          "histogram": [
           {
            "marker": {
             "pattern": {
              "fillmode": "overlay",
              "size": 10,
              "solidity": 0.2
             }
            },
            "type": "histogram"
           }
          ],
          "histogram2d": [
           {
            "colorbar": {
             "outlinewidth": 0,
             "ticks": ""
            },
            "colorscale": [
             [
              0,
              "#0d0887"
             ],
             [
              0.1111111111111111,
              "#46039f"
             ],
             [
              0.2222222222222222,
              "#7201a8"
             ],
             [
              0.3333333333333333,
              "#9c179e"
             ],
             [
              0.4444444444444444,
              "#bd3786"
             ],
             [
              0.5555555555555556,
              "#d8576b"
             ],
             [
              0.6666666666666666,
              "#ed7953"
             ],
             [
              0.7777777777777778,
              "#fb9f3a"
             ],
             [
              0.8888888888888888,
              "#fdca26"
             ],
             [
              1,
              "#f0f921"
             ]
            ],
            "type": "histogram2d"
           }
          ],
          "histogram2dcontour": [
           {
            "colorbar": {
             "outlinewidth": 0,
             "ticks": ""
            },
            "colorscale": [
             [
              0,
              "#0d0887"
             ],
             [
              0.1111111111111111,
              "#46039f"
             ],
             [
              0.2222222222222222,
              "#7201a8"
             ],
             [
              0.3333333333333333,
              "#9c179e"
             ],
             [
              0.4444444444444444,
              "#bd3786"
             ],
             [
              0.5555555555555556,
              "#d8576b"
             ],
             [
              0.6666666666666666,
              "#ed7953"
             ],
             [
              0.7777777777777778,
              "#fb9f3a"
             ],
             [
              0.8888888888888888,
              "#fdca26"
             ],
             [
              1,
              "#f0f921"
             ]
            ],
            "type": "histogram2dcontour"
           }
          ],
          "mesh3d": [
           {
            "colorbar": {
             "outlinewidth": 0,
             "ticks": ""
            },
            "type": "mesh3d"
           }
          ],
          "parcoords": [
           {
            "line": {
             "colorbar": {
              "outlinewidth": 0,
              "ticks": ""
             }
            },
            "type": "parcoords"
           }
          ],
          "pie": [
           {
            "automargin": true,
            "type": "pie"
           }
          ],
          "scatter": [
           {
            "fillpattern": {
             "fillmode": "overlay",
             "size": 10,
             "solidity": 0.2
            },
            "type": "scatter"
           }
          ],
          "scatter3d": [
           {
            "line": {
             "colorbar": {
              "outlinewidth": 0,
              "ticks": ""
             }
            },
            "marker": {
             "colorbar": {
              "outlinewidth": 0,
              "ticks": ""
             }
            },
            "type": "scatter3d"
           }
          ],
          "scattercarpet": [
           {
            "marker": {
             "colorbar": {
              "outlinewidth": 0,
              "ticks": ""
             }
            },
            "type": "scattercarpet"
           }
          ],
          "scattergeo": [
           {
            "marker": {
             "colorbar": {
              "outlinewidth": 0,
              "ticks": ""
             }
            },
            "type": "scattergeo"
           }
          ],
          "scattergl": [
           {
            "marker": {
             "colorbar": {
              "outlinewidth": 0,
              "ticks": ""
             }
            },
            "type": "scattergl"
           }
          ],
          "scattermapbox": [
           {
            "marker": {
             "colorbar": {
              "outlinewidth": 0,
              "ticks": ""
             }
            },
            "type": "scattermapbox"
           }
          ],
          "scatterpolar": [
           {
            "marker": {
             "colorbar": {
              "outlinewidth": 0,
              "ticks": ""
             }
            },
            "type": "scatterpolar"
           }
          ],
          "scatterpolargl": [
           {
            "marker": {
             "colorbar": {
              "outlinewidth": 0,
              "ticks": ""
             }
            },
            "type": "scatterpolargl"
           }
          ],
          "scatterternary": [
           {
            "marker": {
             "colorbar": {
              "outlinewidth": 0,
              "ticks": ""
             }
            },
            "type": "scatterternary"
           }
          ],
          "surface": [
           {
            "colorbar": {
             "outlinewidth": 0,
             "ticks": ""
            },
            "colorscale": [
             [
              0,
              "#0d0887"
             ],
             [
              0.1111111111111111,
              "#46039f"
             ],
             [
              0.2222222222222222,
              "#7201a8"
             ],
             [
              0.3333333333333333,
              "#9c179e"
             ],
             [
              0.4444444444444444,
              "#bd3786"
             ],
             [
              0.5555555555555556,
              "#d8576b"
             ],
             [
              0.6666666666666666,
              "#ed7953"
             ],
             [
              0.7777777777777778,
              "#fb9f3a"
             ],
             [
              0.8888888888888888,
              "#fdca26"
             ],
             [
              1,
              "#f0f921"
             ]
            ],
            "type": "surface"
           }
          ],
          "table": [
           {
            "cells": {
             "fill": {
              "color": "#EBF0F8"
             },
             "line": {
              "color": "white"
             }
            },
            "header": {
             "fill": {
              "color": "#C8D4E3"
             },
             "line": {
              "color": "white"
             }
            },
            "type": "table"
           }
          ]
         },
         "layout": {
          "annotationdefaults": {
           "arrowcolor": "#2a3f5f",
           "arrowhead": 0,
           "arrowwidth": 1
          },
          "autotypenumbers": "strict",
          "coloraxis": {
           "colorbar": {
            "outlinewidth": 0,
            "ticks": ""
           }
          },
          "colorscale": {
           "diverging": [
            [
             0,
             "#8e0152"
            ],
            [
             0.1,
             "#c51b7d"
            ],
            [
             0.2,
             "#de77ae"
            ],
            [
             0.3,
             "#f1b6da"
            ],
            [
             0.4,
             "#fde0ef"
            ],
            [
             0.5,
             "#f7f7f7"
            ],
            [
             0.6,
             "#e6f5d0"
            ],
            [
             0.7,
             "#b8e186"
            ],
            [
             0.8,
             "#7fbc41"
            ],
            [
             0.9,
             "#4d9221"
            ],
            [
             1,
             "#276419"
            ]
           ],
           "sequential": [
            [
             0,
             "#0d0887"
            ],
            [
             0.1111111111111111,
             "#46039f"
            ],
            [
             0.2222222222222222,
             "#7201a8"
            ],
            [
             0.3333333333333333,
             "#9c179e"
            ],
            [
             0.4444444444444444,
             "#bd3786"
            ],
            [
             0.5555555555555556,
             "#d8576b"
            ],
            [
             0.6666666666666666,
             "#ed7953"
            ],
            [
             0.7777777777777778,
             "#fb9f3a"
            ],
            [
             0.8888888888888888,
             "#fdca26"
            ],
            [
             1,
             "#f0f921"
            ]
           ],
           "sequentialminus": [
            [
             0,
             "#0d0887"
            ],
            [
             0.1111111111111111,
             "#46039f"
            ],
            [
             0.2222222222222222,
             "#7201a8"
            ],
            [
             0.3333333333333333,
             "#9c179e"
            ],
            [
             0.4444444444444444,
             "#bd3786"
            ],
            [
             0.5555555555555556,
             "#d8576b"
            ],
            [
             0.6666666666666666,
             "#ed7953"
            ],
            [
             0.7777777777777778,
             "#fb9f3a"
            ],
            [
             0.8888888888888888,
             "#fdca26"
            ],
            [
             1,
             "#f0f921"
            ]
           ]
          },
          "colorway": [
           "#636efa",
           "#EF553B",
           "#00cc96",
           "#ab63fa",
           "#FFA15A",
           "#19d3f3",
           "#FF6692",
           "#B6E880",
           "#FF97FF",
           "#FECB52"
          ],
          "font": {
           "color": "#2a3f5f"
          },
          "geo": {
           "bgcolor": "white",
           "lakecolor": "white",
           "landcolor": "#E5ECF6",
           "showlakes": true,
           "showland": true,
           "subunitcolor": "white"
          },
          "hoverlabel": {
           "align": "left"
          },
          "hovermode": "closest",
          "mapbox": {
           "style": "light"
          },
          "paper_bgcolor": "white",
          "plot_bgcolor": "#E5ECF6",
          "polar": {
           "angularaxis": {
            "gridcolor": "white",
            "linecolor": "white",
            "ticks": ""
           },
           "bgcolor": "#E5ECF6",
           "radialaxis": {
            "gridcolor": "white",
            "linecolor": "white",
            "ticks": ""
           }
          },
          "scene": {
           "xaxis": {
            "backgroundcolor": "#E5ECF6",
            "gridcolor": "white",
            "gridwidth": 2,
            "linecolor": "white",
            "showbackground": true,
            "ticks": "",
            "zerolinecolor": "white"
           },
           "yaxis": {
            "backgroundcolor": "#E5ECF6",
            "gridcolor": "white",
            "gridwidth": 2,
            "linecolor": "white",
            "showbackground": true,
            "ticks": "",
            "zerolinecolor": "white"
           },
           "zaxis": {
            "backgroundcolor": "#E5ECF6",
            "gridcolor": "white",
            "gridwidth": 2,
            "linecolor": "white",
            "showbackground": true,
            "ticks": "",
            "zerolinecolor": "white"
           }
          },
          "shapedefaults": {
           "line": {
            "color": "#2a3f5f"
           }
          },
          "ternary": {
           "aaxis": {
            "gridcolor": "white",
            "linecolor": "white",
            "ticks": ""
           },
           "baxis": {
            "gridcolor": "white",
            "linecolor": "white",
            "ticks": ""
           },
           "bgcolor": "#E5ECF6",
           "caxis": {
            "gridcolor": "white",
            "linecolor": "white",
            "ticks": ""
           }
          },
          "title": {
           "x": 0.05
          },
          "xaxis": {
           "automargin": true,
           "gridcolor": "white",
           "linecolor": "white",
           "ticks": "",
           "title": {
            "standoff": 15
           },
           "zerolinecolor": "white",
           "zerolinewidth": 2
          },
          "yaxis": {
           "automargin": true,
           "gridcolor": "white",
           "linecolor": "white",
           "ticks": "",
           "title": {
            "standoff": 15
           },
           "zerolinecolor": "white",
           "zerolinewidth": 2
          }
         }
        },
        "xaxis": {
         "anchor": "y",
         "constrain": "domain",
         "domain": [
          0,
          1
         ],
         "scaleanchor": "y",
         "title": {
          "text": "Label"
         }
        },
        "yaxis": {
         "anchor": "x",
         "autorange": "reversed",
         "constrain": "domain",
         "domain": [
          0,
          1
         ],
         "title": {
          "text": "Label"
         }
        }
       }
      }
     },
     "metadata": {},
     "output_type": "display_data"
    }
   ],
   "source": [
    "import plotly.express as px\n",
    "fig = px.imshow(dist_matrix, labels={\"color\": \"distance\"})\n",
    "fig.show()"
   ]
  },
  {
   "cell_type": "markdown",
   "metadata": {},
   "source": [
    "here i calculated the volume each organell is taking from the entire cell block"
   ]
  },
  {
   "cell_type": "code",
   "execution_count": null,
   "metadata": {},
   "outputs": [
    {
     "name": "stdout",
     "output_type": "stream",
     "text": [
      "total volume: {'er': 224755712000}\n",
      "er 4.52%\n"
     ]
    }
   ],
   "source": [
    "# find percentage of volume taken by each organelle\n",
    "import numpy as np\n",
    "print(\"total volume:\", dm3.total_volume)\n",
    "# note that the mito volume is not the same as the  er volume\n",
    "# it seems the mito has half as many data points, although they should have the same scaling factor.\n",
    "# so these results are completly useless\n",
    "df = dm3.analysis_results\n",
    "for org_type in np.unique(df[\"org_type\"]):\n",
    "    percentage = df.loc[df[\"org_type\"] == org_type, \"volume_voxels\"].sum() / dm3.total_volume[org_type]\n",
    "    print(org_type, f\"{round(percentage*100, 2)}%\")"
   ]
  },
  {
   "cell_type": "code",
   "execution_count": null,
   "metadata": {},
   "outputs": [
    {
     "data": {
      "text/plain": [
       "defaultdict(list,\n",
       "            {'er_2473': ['er_9492'],\n",
       "             'er_3228': ['er_9492'],\n",
       "             'er_5906': ['er_9492'],\n",
       "             'er_7172': ['er_9492'],\n",
       "             'er_7460': ['er_9492'],\n",
       "             'er_8270': ['er_9492'],\n",
       "             'er_8272': ['er_9492'],\n",
       "             'er_9311': ['er_9492'],\n",
       "             'er_9492': ['er_2473',\n",
       "              'er_3228',\n",
       "              'er_5906',\n",
       "              'er_7460',\n",
       "              'er_8270',\n",
       "              'er_8272',\n",
       "              'er_9311',\n",
       "              'er_7172']})"
      ]
     },
     "execution_count": 6,
     "metadata": {},
     "output_type": "execute_result"
    }
   ],
   "source": [
    "dm3.find_neighbours(50,0)"
   ]
  },
  {
   "cell_type": "markdown",
   "metadata": {},
   "source": [
    "# TODO \n",
    "extend mesh in all direction"
   ]
  },
  {
   "cell_type": "code",
   "execution_count": null,
   "metadata": {},
   "outputs": [
    {
     "data": {
      "text/html": [
       "<div>\n",
       "<style scoped>\n",
       "    .dataframe tbody tr th:only-of-type {\n",
       "        vertical-align: middle;\n",
       "    }\n",
       "\n",
       "    .dataframe tbody tr th {\n",
       "        vertical-align: top;\n",
       "    }\n",
       "\n",
       "    .dataframe thead th {\n",
       "        text-align: right;\n",
       "    }\n",
       "</style>\n",
       "<table border=\"1\" class=\"dataframe\">\n",
       "  <thead>\n",
       "    <tr style=\"text-align: right;\">\n",
       "      <th></th>\n",
       "      <th>label</th>\n",
       "      <th>org_type</th>\n",
       "      <th>volume_voxels</th>\n",
       "      <th>bbox</th>\n",
       "      <th>bbox_dim_nm</th>\n",
       "      <th>bbox_vol_nm</th>\n",
       "      <th>centroid</th>\n",
       "      <th>solidity</th>\n",
       "      <th>all_coords</th>\n",
       "      <th>surf_area_mesh_nm</th>\n",
       "      <th>volume_mesh</th>\n",
       "      <th>water_tight</th>\n",
       "      <th>sphericity</th>\n",
       "      <th>flatness_ratio</th>\n",
       "      <th>num_neighbours_50-0</th>\n",
       "    </tr>\n",
       "    <tr>\n",
       "      <th>Label</th>\n",
       "      <th></th>\n",
       "      <th></th>\n",
       "      <th></th>\n",
       "      <th></th>\n",
       "      <th></th>\n",
       "      <th></th>\n",
       "      <th></th>\n",
       "      <th></th>\n",
       "      <th></th>\n",
       "      <th></th>\n",
       "      <th></th>\n",
       "      <th></th>\n",
       "      <th></th>\n",
       "      <th></th>\n",
       "      <th></th>\n",
       "    </tr>\n",
       "  </thead>\n",
       "  <tbody>\n",
       "    <tr>\n",
       "      <th>er_816</th>\n",
       "      <td>er_816</td>\n",
       "      <td>er</td>\n",
       "      <td>5120000</td>\n",
       "      <td>[[69, 36, 42], [76, 38, 45]]</td>\n",
       "      <td>[35, 10, 15]</td>\n",
       "      <td>5250</td>\n",
       "      <td>(5784.0, 2888.0, 3400.0)</td>\n",
       "      <td>0.588235</td>\n",
       "      <td>[[69, 36, 42], [70, 36, 42], [71, 36, 42], [71...</td>\n",
       "      <td>1.563250e+05</td>\n",
       "      <td>5.474133e+07</td>\n",
       "      <td>False</td>\n",
       "      <td>4.459978</td>\n",
       "      <td>0.389708</td>\n",
       "      <td>NaN</td>\n",
       "    </tr>\n",
       "    <tr>\n",
       "      <th>er_1978</th>\n",
       "      <td>er_1978</td>\n",
       "      <td>er</td>\n",
       "      <td>5120000</td>\n",
       "      <td>[[69, 8, 17], [75, 15, 23]]</td>\n",
       "      <td>[30, 35, 30]</td>\n",
       "      <td>31500</td>\n",
       "      <td>(5648.0, 880.0, 1576.0)</td>\n",
       "      <td>0.357143</td>\n",
       "      <td>[[69, 11, 20], [69, 12, 20], [69, 14, 22], [70...</td>\n",
       "      <td>1.551700e+05</td>\n",
       "      <td>2.261333e+06</td>\n",
       "      <td>True</td>\n",
       "      <td>0.536932</td>\n",
       "      <td>0.847134</td>\n",
       "      <td>NaN</td>\n",
       "    </tr>\n",
       "    <tr>\n",
       "      <th>er_2315</th>\n",
       "      <td>er_2315</td>\n",
       "      <td>er</td>\n",
       "      <td>6144000</td>\n",
       "      <td>[[64, 66, 58], [73, 71, 63]]</td>\n",
       "      <td>[45, 25, 25]</td>\n",
       "      <td>28125</td>\n",
       "      <td>(5486.666666666667, 5386.666666666667, 4740.0)</td>\n",
       "      <td>0.342857</td>\n",
       "      <td>[[64, 66, 62], [64, 67, 62], [67, 67, 60], [68...</td>\n",
       "      <td>2.138926e+05</td>\n",
       "      <td>3.072000e+06</td>\n",
       "      <td>True</td>\n",
       "      <td>0.477789</td>\n",
       "      <td>0.754476</td>\n",
       "      <td>NaN</td>\n",
       "    </tr>\n",
       "    <tr>\n",
       "      <th>er_2473</th>\n",
       "      <td>er_2473</td>\n",
       "      <td>er</td>\n",
       "      <td>45568000</td>\n",
       "      <td>[[59, 53, 70], [76, 65, 76]]</td>\n",
       "      <td>[85, 60, 30]</td>\n",
       "      <td>153000</td>\n",
       "      <td>(5237.752808988764, 4421.573033707865, 5794.15...</td>\n",
       "      <td>0.211401</td>\n",
       "      <td>[[59, 64, 75], [60, 64, 75], [61, 55, 73], [61...</td>\n",
       "      <td>1.015939e+06</td>\n",
       "      <td>4.949333e+06</td>\n",
       "      <td>False</td>\n",
       "      <td>0.138244</td>\n",
       "      <td>0.253425</td>\n",
       "      <td>1.0</td>\n",
       "    </tr>\n",
       "    <tr>\n",
       "      <th>er_2897</th>\n",
       "      <td>er_2897</td>\n",
       "      <td>er</td>\n",
       "      <td>5632000</td>\n",
       "      <td>[[5, 65, 10], [9, 71, 16]]</td>\n",
       "      <td>[20, 30, 30]</td>\n",
       "      <td>18000</td>\n",
       "      <td>(487.27272727272725, 5454.545454545455, 952.72...</td>\n",
       "      <td>0.234043</td>\n",
       "      <td>[[5, 65, 12], [5, 66, 12], [5, 67, 12], [5, 68...</td>\n",
       "      <td>1.640372e+05</td>\n",
       "      <td>1.962667e+06</td>\n",
       "      <td>True</td>\n",
       "      <td>0.462139</td>\n",
       "      <td>0.909091</td>\n",
       "      <td>NaN</td>\n",
       "    </tr>\n",
       "  </tbody>\n",
       "</table>\n",
       "</div>"
      ],
      "text/plain": [
       "           label org_type volume_voxels                          bbox  \\\n",
       "Label                                                                   \n",
       "er_816    er_816       er       5120000  [[69, 36, 42], [76, 38, 45]]   \n",
       "er_1978  er_1978       er       5120000   [[69, 8, 17], [75, 15, 23]]   \n",
       "er_2315  er_2315       er       6144000  [[64, 66, 58], [73, 71, 63]]   \n",
       "er_2473  er_2473       er      45568000  [[59, 53, 70], [76, 65, 76]]   \n",
       "er_2897  er_2897       er       5632000    [[5, 65, 10], [9, 71, 16]]   \n",
       "\n",
       "          bbox_dim_nm bbox_vol_nm  \\\n",
       "Label                               \n",
       "er_816   [35, 10, 15]        5250   \n",
       "er_1978  [30, 35, 30]       31500   \n",
       "er_2315  [45, 25, 25]       28125   \n",
       "er_2473  [85, 60, 30]      153000   \n",
       "er_2897  [20, 30, 30]       18000   \n",
       "\n",
       "                                                  centroid  solidity  \\\n",
       "Label                                                                  \n",
       "er_816                            (5784.0, 2888.0, 3400.0)  0.588235   \n",
       "er_1978                            (5648.0, 880.0, 1576.0)  0.357143   \n",
       "er_2315     (5486.666666666667, 5386.666666666667, 4740.0)  0.342857   \n",
       "er_2473  (5237.752808988764, 4421.573033707865, 5794.15...  0.211401   \n",
       "er_2897  (487.27272727272725, 5454.545454545455, 952.72...  0.234043   \n",
       "\n",
       "                                                all_coords  surf_area_mesh_nm  \\\n",
       "Label                                                                           \n",
       "er_816   [[69, 36, 42], [70, 36, 42], [71, 36, 42], [71...       1.563250e+05   \n",
       "er_1978  [[69, 11, 20], [69, 12, 20], [69, 14, 22], [70...       1.551700e+05   \n",
       "er_2315  [[64, 66, 62], [64, 67, 62], [67, 67, 60], [68...       2.138926e+05   \n",
       "er_2473  [[59, 64, 75], [60, 64, 75], [61, 55, 73], [61...       1.015939e+06   \n",
       "er_2897  [[5, 65, 12], [5, 66, 12], [5, 67, 12], [5, 68...       1.640372e+05   \n",
       "\n",
       "          volume_mesh  water_tight  sphericity  flatness_ratio  \\\n",
       "Label                                                            \n",
       "er_816   5.474133e+07        False    4.459978        0.389708   \n",
       "er_1978  2.261333e+06         True    0.536932        0.847134   \n",
       "er_2315  3.072000e+06         True    0.477789        0.754476   \n",
       "er_2473  4.949333e+06        False    0.138244        0.253425   \n",
       "er_2897  1.962667e+06         True    0.462139        0.909091   \n",
       "\n",
       "         num_neighbours_50-0  \n",
       "Label                         \n",
       "er_816                   NaN  \n",
       "er_1978                  NaN  \n",
       "er_2315                  NaN  \n",
       "er_2473                  1.0  \n",
       "er_2897                  NaN  "
      ]
     },
     "execution_count": 7,
     "metadata": {},
     "output_type": "execute_result"
    }
   ],
   "source": [
    "dm3.analysis_results.head()"
   ]
  },
  {
   "cell_type": "code",
   "execution_count": null,
   "metadata": {},
   "outputs": [],
   "source": [
    "#try this\n",
    "# skimage.measure.intersection_coeff"
   ]
  },
  {
   "cell_type": "markdown",
   "metadata": {},
   "source": [
    "a voxel based approach would most likely be much much quicker.\n"
   ]
  },
  {
   "cell_type": "code",
   "execution_count": null,
   "metadata": {},
   "outputs": [],
   "source": [
    "ds_mito_15 = dm3._filter_ds(\"mito_15\", \"mito\")\n",
    "ds_er_7706 = dm3._filter_ds(\"er_7706\", \"er\")\n",
    "ds_er_7727 = dm3._filter_ds(\"er_7727\", \"er\")"
   ]
  },
  {
   "cell_type": "code",
   "execution_count": null,
   "metadata": {},
   "outputs": [],
   "source": [
    "coords_ds_mito_15 = dm3.analysis_results.loc[\"mito_15\"][\"all_coords\"]\n",
    "coords_ds_er_7706 = dm3.analysis_results.loc[\"er_7706\"][\"all_coords\"]"
   ]
  },
  {
   "cell_type": "markdown",
   "metadata": {},
   "source": [
    "this might actually work"
   ]
  },
  {
   "cell_type": "code",
   "execution_count": null,
   "metadata": {},
   "outputs": [
    {
     "data": {
      "text/plain": [
       "array([array([0, 1, 2, 3, 4, 6]), array([0, 1, 3, 4, 7]),\n",
       "       array([0, 2, 3, 4, 5, 6, 8]), array([0, 1, 2, 3, 4, 5, 6, 7, 9]),\n",
       "       array([ 1,  2,  3,  4,  6,  7, 10]),\n",
       "       array([ 0,  2,  3,  5,  6,  7,  8,  9, 11]),\n",
       "       array([ 2,  3,  4,  5,  6,  7,  8,  9, 10, 12]),\n",
       "       array([ 1,  3,  4,  5,  6,  7,  9, 10, 13]),\n",
       "       array([ 2,  5,  6,  8,  9, 10, 11, 12, 14]),\n",
       "       array([ 3,  5,  6,  7,  8,  9, 10, 11, 12, 13, 15]),\n",
       "       array([ 4,  6,  7,  8,  9, 10, 12, 13, 16]),\n",
       "       array([ 5,  8,  9, 11, 12, 13, 14, 15, 17]),\n",
       "       array([ 6,  8,  9, 10, 11, 12, 13, 14, 15, 16, 18]),\n",
       "       array([ 7,  9, 10, 11, 12, 13, 15, 16, 19]),\n",
       "       array([ 8, 11, 12, 14, 15, 16, 17, 18, 20]),\n",
       "       array([ 9, 11, 12, 13, 14, 15, 16, 17, 18, 19, 21]),\n",
       "       array([10, 12, 13, 14, 15, 16, 18, 19, 22]),\n",
       "       array([11, 14, 15, 17, 18, 19, 20, 21, 23]),\n",
       "       array([12, 14, 15, 16, 17, 18, 19, 20, 21, 22, 24]),\n",
       "       array([13, 15, 16, 17, 18, 19, 21, 22, 25]),\n",
       "       array([14, 17, 18, 20, 21, 22, 23, 24, 26]),\n",
       "       array([15, 17, 18, 19, 20, 21, 22, 23, 24, 25, 27]),\n",
       "       array([16, 18, 19, 20, 21, 22, 24, 25, 28]),\n",
       "       array([17, 20, 21, 23, 24, 25, 26, 27, 29]),\n",
       "       array([18, 20, 21, 22, 23, 24, 25, 26, 27, 28, 30]),\n",
       "       array([19, 21, 22, 23, 24, 25, 27, 28, 31]),\n",
       "       array([20, 23, 24, 26, 27, 28, 29, 30, 32]),\n",
       "       array([21, 23, 24, 25, 26, 27, 28, 29, 30, 31, 33]),\n",
       "       array([22, 24, 25, 26, 27, 28, 30, 31, 34]),\n",
       "       array([23, 26, 27, 29, 30, 31, 32, 33]),\n",
       "       array([24, 26, 27, 28, 29, 30, 31, 32, 33, 34]),\n",
       "       array([25, 27, 28, 29, 30, 31, 33, 34]),\n",
       "       array([26, 29, 30, 32, 33, 34]),\n",
       "       array([27, 29, 30, 31, 32, 33, 34]),\n",
       "       array([28, 30, 31, 32, 33, 34]), array([29, 32, 33]),\n",
       "       array([30, 32, 33, 34]), array([31, 33, 34]), array([32]),\n",
       "       array([33]), array([34]), array([], dtype=int64),\n",
       "       array([], dtype=int64), array([], dtype=int64),\n",
       "       array([], dtype=int64), array([], dtype=int64),\n",
       "       array([], dtype=int64), array([], dtype=int64),\n",
       "       array([], dtype=int64), array([], dtype=int64),\n",
       "       array([], dtype=int64), array([], dtype=int64),\n",
       "       array([], dtype=int64), array([], dtype=int64),\n",
       "       array([], dtype=int64), array([], dtype=int64),\n",
       "       array([], dtype=int64), array([], dtype=int64),\n",
       "       array([], dtype=int64), array([], dtype=int64),\n",
       "       array([], dtype=int64), array([], dtype=int64),\n",
       "       array([], dtype=int64), array([], dtype=int64),\n",
       "       array([], dtype=int64), array([], dtype=int64),\n",
       "       array([], dtype=int64), array([], dtype=int64),\n",
       "       array([], dtype=int64), array([], dtype=int64),\n",
       "       array([], dtype=int64), array([], dtype=int64),\n",
       "       array([], dtype=int64), array([], dtype=int64),\n",
       "       array([], dtype=int64), array([], dtype=int64),\n",
       "       array([], dtype=int64), array([], dtype=int64),\n",
       "       array([], dtype=int64), array([], dtype=int64),\n",
       "       array([], dtype=int64), array([], dtype=int64),\n",
       "       array([], dtype=int64), array([], dtype=int64),\n",
       "       array([], dtype=int64), array([], dtype=int64),\n",
       "       array([], dtype=int64), array([], dtype=int64),\n",
       "       array([], dtype=int64), array([], dtype=int64),\n",
       "       array([], dtype=int64), array([], dtype=int64),\n",
       "       array([], dtype=int64), array([], dtype=int64)], dtype=object)"
      ]
     },
     "execution_count": 37,
     "metadata": {},
     "output_type": "execute_result"
    }
   ],
   "source": [
    "import numpy as np\n",
    "from scipy.spatial.distance import cdist\n",
    "from sklearn.neighbors import BallTree\n",
    "\n",
    "voxels1 = np.argwhere(coords_ds_mito_15)\n",
    "voxels2 = np.argwhere(coords_ds_er_7706)\n",
    "\n",
    "tree = BallTree(voxels1)\n",
    "# coordinates are not yet scaled to nm.\n",
    "radius = 2\n",
    "indices = tree.query_radius(voxels2, radius)\n",
    "# i think this is what we want, but i'm not sure how to interpret it yet.\n",
    "indices"
   ]
  },
  {
   "cell_type": "code",
   "execution_count": null,
   "metadata": {},
   "outputs": [
    {
     "data": {
      "text/plain": [
       "(array([ 0,  0,  0,  1,  1,  1,  1,  2,  2,  2,  2,  2,  3,  3,  3,  3,  3,\n",
       "         3,  3,  3,  4,  4,  4,  4,  4,  4,  5,  5,  5,  5,  5,  5,  6,  6,\n",
       "         6,  6,  6,  6,  6,  6,  6,  7,  7,  7,  7,  7,  7,  8,  8,  8,  8,\n",
       "         8,  8,  9,  9,  9,  9,  9,  9,  9,  9,  9, 10, 10, 10, 10, 10, 10,\n",
       "        11, 11, 11, 11, 11, 11, 12, 12, 12, 12, 12, 12, 12, 12, 12, 13, 13,\n",
       "        13, 13, 13, 13, 14, 14, 14, 14, 14, 14, 15, 15, 15, 15, 15, 15, 15,\n",
       "        15, 15, 16, 16, 16, 16, 16, 16, 17, 17, 17, 17, 17, 17, 18, 18, 18,\n",
       "        18, 18, 18, 18, 18, 18, 19, 19, 19, 19, 19, 19, 20, 20, 20, 20, 20,\n",
       "        20, 21, 21, 21, 21, 21, 21, 21, 21, 21, 22, 22, 22, 22, 22, 22, 23,\n",
       "        23, 23, 23, 23, 23, 24, 24, 24, 24, 24, 24, 24, 24, 24, 25, 25, 25,\n",
       "        25, 25, 25, 26, 26, 26, 26, 26, 26, 27, 27, 27, 27, 27, 27, 27, 27,\n",
       "        27, 28, 28, 28, 28, 28, 28, 29, 29, 29, 29, 29, 29, 30, 30, 30, 30,\n",
       "        30, 30, 30, 30, 30, 31, 31, 31, 31, 31, 31, 32, 32, 32, 32, 32, 32,\n",
       "        33, 33, 33, 33, 33, 33, 33, 33, 33, 34, 34, 34, 34, 34, 34]),\n",
       " array([ 0,  2,  3,  0,  1,  3,  4,  0,  2,  3,  5,  6,  0,  1,  2,  3,  4,\n",
       "         5,  6,  7,  0,  1,  3,  4,  6,  7,  2,  3,  5,  6,  8,  9,  2,  3,\n",
       "         4,  5,  6,  7,  8,  9, 10,  3,  4,  6,  7,  9, 10,  5,  6,  8,  9,\n",
       "        11, 12,  5,  6,  7,  8,  9, 10, 11, 12, 13,  6,  7,  9, 10, 12, 13,\n",
       "         8,  9, 11, 12, 14, 15,  8,  9, 10, 11, 12, 13, 14, 15, 16,  9, 10,\n",
       "        12, 13, 15, 16, 11, 12, 14, 15, 17, 18, 11, 12, 13, 14, 15, 16, 17,\n",
       "        18, 19, 12, 13, 15, 16, 18, 19, 14, 15, 17, 18, 20, 21, 14, 15, 16,\n",
       "        17, 18, 19, 20, 21, 22, 15, 16, 18, 19, 21, 22, 17, 18, 20, 21, 23,\n",
       "        24, 17, 18, 19, 20, 21, 22, 23, 24, 25, 18, 19, 21, 22, 24, 25, 20,\n",
       "        21, 23, 24, 26, 27, 20, 21, 22, 23, 24, 25, 26, 27, 28, 21, 22, 24,\n",
       "        25, 27, 28, 23, 24, 26, 27, 29, 30, 23, 24, 25, 26, 27, 28, 29, 30,\n",
       "        31, 24, 25, 27, 28, 30, 31, 26, 27, 29, 30, 32, 33, 26, 27, 28, 29,\n",
       "        30, 31, 32, 33, 34, 27, 28, 30, 31, 33, 34, 29, 30, 32, 33, 35, 36,\n",
       "        29, 30, 31, 32, 33, 34, 35, 36, 37, 30, 31, 33, 34, 36, 37]))"
      ]
     },
     "execution_count": 38,
     "metadata": {},
     "output_type": "execute_result"
    }
   ],
   "source": [
    "\n",
    "# Compute the distance between each pair of voxels\n",
    "distances = cdist(voxels1, voxels2)\n",
    "\n",
    "# Get the pairs of voxels that are under a certain distance from each other\n",
    "threshold = 2  # Set your distance threshold here\n",
    "close_pairs = np.where(distances < threshold)\n",
    "close_pairs"
   ]
  },
  {
   "cell_type": "code",
   "execution_count": null,
   "metadata": {},
   "outputs": [],
   "source": []
  }
 ],
 "metadata": {
  "kernelspec": {
   "display_name": "mobie-testing",
   "language": "python",
   "name": "python3"
  },
  "language_info": {
   "codemirror_mode": {
    "name": "ipython",
    "version": 3
   },
   "file_extension": ".py",
   "mimetype": "text/x-python",
   "name": "python",
   "nbconvert_exporter": "python",
   "pygments_lexer": "ipython3",
   "version": "3.9.18"
  }
 },
 "nbformat": 4,
 "nbformat_minor": 2
}
