{
 "cells": [
  {
   "cell_type": "code",
   "execution_count": null,
   "metadata": {},
   "outputs": [],
   "source": [
    "from data_manager import DataManager\n",
    "\n",
    "ds_path = \"/home/gwydion/SSC/cebra/mobie-data-testing/data/cebra_em_example/seg_er_5nm_mito_10nm/CebraEM\"\n",
    "\n",
    "mito_filename = \"mito-it00_b0_6_stitched.n5\"\n",
    "er_filename = \"er-it00_b0_5_stitched\"\n",
    "mem_filename = \"em-membrane_prediction\"\n",
    "\n",
    "scaling_factor = 2\n",
    "original_resolution_er=(5, 5, 5)\n",
    "original_resolution_mito=(10, 10, 10)\n",
    "data_key = f\"setup0/timepoint0/s{scaling_factor}\"\n",
    "\n",
    "\n",
    "dm3 =  DataManager(ds_path)\n",
    "dm3.load_organelle_data(mito_filename, \"mito\", data_key=data_key,\n",
    "                        original_resolution=original_resolution_mito, scaling_factor=scaling_factor)\n",
    "# dm3.load_organelle_data(er_filename, \"er\", data_key=data_key,\n",
    "# original_resolution=original_resolution_er, scaling_factor=scaling_factor)\n",
    "# dm3.load_organelle_data(mem_filename, \"mem\", data_key=data_key,\n",
    "# original_resolution=original_resolution, scaling_factor=scaling_factor)"
   ]
  },
  {
   "cell_type": "markdown",
   "metadata": {},
   "source": [
    "The rest of this notebook is basically useless at this point.\n",
    "\n",
    "I did manage to get the inertia tensor and with that the flatness, cylindricality etc. However this is only helpfull for single organells and not for clusters as we don't have a means of splitting these yet. Besides doing random cylindrical crops and thus getting a inertia distribution around the structure.\n",
    "\n",
    "Regarding the holes: \n",
    "Maybe we can calculate the numer of intersections on a line horizontal to the flat axis.\n",
    "if we get more than 2 transitions from background to object it means there must be a hole. this needs to be done multile times at different positions.\n",
    "\n",
    "I guess we need to find some cutoff values for cylindricality and flatness, as to when we decide something is a sheet or a maceroni\n",
    "\n",
    "sheet stacking:\n",
    "i think stacked sheets should  have a similar inertia tensor, just different coordinates"
   ]
  },
  {
   "cell_type": "code",
   "execution_count": null,
   "metadata": {},
   "outputs": [],
   "source": [
    "_=dm3.get_voxel_properties()"
   ]
  },
  {
   "cell_type": "code",
   "execution_count": null,
   "metadata": {},
   "outputs": [],
   "source": [
    "dm3.generate_mesh(save_dir=None)"
   ]
  },
  {
   "cell_type": "code",
   "execution_count": null,
   "metadata": {},
   "outputs": [],
   "source": [
    "dm3.generate_morphology_map(radius=3)"
   ]
  },
  {
   "cell_type": "code",
   "execution_count": null,
   "metadata": {},
   "outputs": [],
   "source": [
    "dm3.draw_3d_meshes(show_morphology=True)"
   ]
  }
 ],
 "metadata": {
  "kernelspec": {
   "display_name": "mobie-testing",
   "language": "python",
   "name": "python3"
  },
  "language_info": {
   "codemirror_mode": {
    "name": "ipython",
    "version": 3
   },
   "file_extension": ".py",
   "mimetype": "text/x-python",
   "name": "python",
   "nbconvert_exporter": "python",
   "pygments_lexer": "ipython3",
   "version": "3.9.18"
  }
 },
 "nbformat": 4,
 "nbformat_minor": 2
}
