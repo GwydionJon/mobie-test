{
 "cells": [
  {
   "cell_type": "code",
   "execution_count": 1,
   "metadata": {},
   "outputs": [],
   "source": [
    "from data_manager import DataManager\n"
   ]
  },
  {
   "cell_type": "markdown",
   "metadata": {},
   "source": [
    "After creating a data manager it will tell you which datasets are available"
   ]
  },
  {
   "cell_type": "code",
   "execution_count": 2,
   "metadata": {},
   "outputs": [
    {
     "name": "stderr",
     "output_type": "stream",
     "text": [
      "INFO:root:Loading dataset from: /home/gwydion/SSC/cebra/mobie-data-testing/data/cebra_em_example/seg_er_5nm_mito_10nm/CebraEM\n",
      "INFO:root:Available segmentations are: ['em-membrane_prediction', 'em-raw', 'em-supervoxels', 'er-it00_b0_5_stitched', 'mito-it00_b0_6_stitched']\n"
     ]
    }
   ],
   "source": [
    "ds_path = \"/home/gwydion/SSC/cebra/mobie-data-testing/data/cebra_em_example/seg_er_5nm_mito_10nm/CebraEM\"\n",
    "dm3 =  DataManager(ds_path)\n"
   ]
  },
  {
   "cell_type": "code",
   "execution_count": 3,
   "metadata": {},
   "outputs": [
    {
     "name": "stderr",
     "output_type": "stream",
     "text": [
      "INFO:root:Successfully read mito-it00_b0_6_stitched.\n",
      "INFO:root:Successfully read er-it00_b0_5_stitched.\n"
     ]
    }
   ],
   "source": [
    "\n",
    "\n",
    "mito_filename = \"mito-it00_b0_6_stitched.n5\"\n",
    "er_filename = \"er-it00_b0_5_stitched\"\n",
    "mem_filename = \"em-membrane_prediction\"\n",
    "test = \"test\"\n",
    "\n",
    "scaling_factor = 3\n",
    "original_resolution_er=(5,5,5)\n",
    "original_resolution_mito=(10,10,10)\n",
    "data_key = f\"setup0/timepoint0/s{scaling_factor}\"\n",
    "\n",
    "# loading the file does the following:\n",
    "# 1. loads the data from the file\n",
    "# 2. calculates the actual resolution fro scaling factor and original resolution\n",
    "# 3. saves the entire box volume for later use\n",
    "\n",
    "dm3.load_organelle_data(mito_filename, \"mito\", data_key=data_key, original_resolution=original_resolution_mito, scaling_factor=scaling_factor)\n",
    "dm3.load_organelle_data(er_filename, \"er\", data_key=data_key, original_resolution=original_resolution_er, scaling_factor=scaling_factor)\n",
    "#dm3.load_organelle_data(mem_filename, \"mem\", data_key=data_key, original_resolution=original_resolution, scaling_factor=scaling_factor)"
   ]
  },
  {
   "cell_type": "code",
   "execution_count": 4,
   "metadata": {},
   "outputs": [],
   "source": [
    "# from skimage import data, util\n",
    "# from skimage.measure import label, regionprops\n",
    "# import numpy as np\n",
    "\n",
    "# img = util.img_as_ubyte(data.coins()) > 110\n",
    "# label_img = label(img, connectivity=img.ndim)\n",
    "\n",
    "# def pixelcount(regionmask):\n",
    "#     return np.sum(regionmask)\n",
    "# props = regionprops(label_img, extra_properties=(pixelcount,))\n",
    "\n",
    "# props[0].pixelcount\n",
    "\n",
    "# props[1]['pixelcount']\n",
    "\n",
    "\n",
    "# One can add custom functions to region props, \n",
    "# this could be very helpful as we can include the other tasks in this \n",
    "# function to apply them for all objects in\n"
   ]
  },
  {
   "cell_type": "markdown",
   "metadata": {},
   "source": [
    "This gives a broad overview of each organell, including its volume, coordinates, bounding box, solidity, etc.\n",
    "It also calculates flatness, sphericality and cylindricality from the inertia tensor eigenvector.\n",
    "Everything is saved to a dataframe"
   ]
  },
  {
   "cell_type": "code",
   "execution_count": 5,
   "metadata": {},
   "outputs": [
    {
     "name": "stderr",
     "output_type": "stream",
     "text": [
      "/home/gwydion/mambaforge/envs/mobie-testing/lib/python3.9/site-packages/skimage/measure/_regionprops.py:433: UserWarning: Failed to get convex hull image. Returning empty image, see error message below:\n",
      "QH6154 Qhull precision error: Initial simplex is flat (facet 1 is coplanar with the interior point)\n",
      "\n",
      "While executing:  | qhull i Qt\n",
      "Options selected for Qhull 2019.1.r 2019/06/21:\n",
      "  run-id 1904142337  incidence  Qtriangulate  _pre-merge  _zero-centrum\n",
      "  _max-width 13  Error-roundoff 1.7e-14  _one-merge 1.2e-13  _near-inside 6e-13\n",
      "  Visible-distance 3.4e-14  U-max-coplanar 3.4e-14  Width-outside 6.8e-14\n",
      "  _wide-facet 2e-13  _maxoutside 1.4e-13\n",
      "\n",
      "The input to qhull appears to be less than 3 dimensional, or a\n",
      "computation has overflowed.\n",
      "\n",
      "Qhull could not construct a clearly convex simplex from points:\n",
      "- p9(v4):     3     3    13\n",
      "- p1(v3):     1     1     0\n",
      "- p10(v2):     4     4     7\n",
      "- p0(v1):     0     0     1\n",
      "\n",
      "The center point is coplanar with a facet, or a vertex is coplanar\n",
      "with a neighboring facet.  The maximum round off error for\n",
      "computing distances is 1.7e-14.  The center point, facets and distances\n",
      "to the center point are as follows:\n",
      "\n",
      "center point        2        2     5.25\n",
      "\n",
      "facet p1 p10 p0 distance=    0\n",
      "facet p9 p10 p0 distance=    0\n",
      "facet p9 p1 p0 distance=    0\n",
      "facet p9 p1 p10 distance=    0\n",
      "\n",
      "These points either have a maximum or minimum x-coordinate, or\n",
      "they maximize the determinant for k coordinates.  Trial points\n",
      "are first selected from points that maximize a coordinate.\n",
      "\n",
      "The min and max coordinates for each dimension are:\n",
      "  0:         0         4  difference=    4\n",
      "  1:         0         4  difference=    4\n",
      "  2:         0        13  difference=   13\n",
      "\n",
      "If the input should be full dimensional, you have several options that\n",
      "may determine an initial simplex:\n",
      "  - use 'QJ'  to joggle the input and make it full dimensional\n",
      "  - use 'QbB' to scale the points to the unit cube\n",
      "  - use 'QR0' to randomly rotate the input for different maximum points\n",
      "  - use 'Qs'  to search all points for the initial simplex\n",
      "  - use 'En'  to specify a maximum roundoff error less than 1.7e-14.\n",
      "  - trace execution with 'T3' to see the determinant for each point.\n",
      "\n",
      "If the input is lower dimensional:\n",
      "  - use 'QJ' to joggle the input and make it full dimensional\n",
      "  - use 'Qbk:0Bk:0' to delete coordinate k from the input.  You should\n",
      "    pick the coordinate with the least range.  The hull will have the\n",
      "    correct topology.\n",
      "  - determine the flat containing the points, rotate the points\n",
      "    into a coordinate plane, and delete the other coordinates.\n",
      "  - add one or more points to make the input full dimensional.\n",
      "\n",
      "  return convex_hull_image(self.image)\n",
      "/home/gwydion/mambaforge/envs/mobie-testing/lib/python3.9/site-packages/skimage/measure/_regionprops.py:632: RuntimeWarning: divide by zero encountered in scalar divide\n",
      "  return self.area / self.area_convex\n",
      "/home/gwydion/mambaforge/envs/mobie-testing/lib/python3.9/site-packages/skimage/measure/_regionprops.py:433: UserWarning: Failed to get convex hull image. Returning empty image, see error message below:\n",
      "QH6154 Qhull precision error: Initial simplex is flat (facet 1 is coplanar with the interior point)\n",
      "\n",
      "While executing:  | qhull i Qt\n",
      "Options selected for Qhull 2019.1.r 2019/06/21:\n",
      "  run-id 1904142337  incidence  Qtriangulate  _pre-merge  _zero-centrum\n",
      "  _max-width  4  Error-roundoff 5.5e-15  _one-merge 3.9e-14\n",
      "  _near-inside 1.9e-13  Visible-distance 1.1e-14  U-max-coplanar 1.1e-14\n",
      "  Width-outside 2.2e-14  _wide-facet 6.7e-14  _maxoutside 4.4e-14\n",
      "\n",
      "The input to qhull appears to be less than 3 dimensional, or a\n",
      "computation has overflowed.\n",
      "\n",
      "Qhull could not construct a clearly convex simplex from points:\n",
      "- p6(v4):     2     0     0\n",
      "- p2(v3):     0     4     0\n",
      "- p10(v2):     3     1     0\n",
      "- p0(v1):     0     2     0\n",
      "\n",
      "The center point is coplanar with a facet, or a vertex is coplanar\n",
      "with a neighboring facet.  The maximum round off error for\n",
      "computing distances is 5.5e-15.  The center point, facets and distances\n",
      "to the center point are as follows:\n",
      "\n",
      "center point     1.25     1.75        0\n",
      "\n",
      "facet p2 p10 p0 distance=    0\n",
      "facet p6 p10 p0 distance=    0\n",
      "facet p6 p2 p0 distance=    0\n",
      "facet p6 p2 p10 distance=    0\n",
      "\n",
      "These points either have a maximum or minimum x-coordinate, or\n",
      "they maximize the determinant for k coordinates.  Trial points\n",
      "are first selected from points that maximize a coordinate.\n",
      "\n",
      "The min and max coordinates for each dimension are:\n",
      "  0:         0         3  difference=    3\n",
      "  1:         0         4  difference=    4\n",
      "  2:         0         0  difference=    0\n",
      "\n",
      "If the input should be full dimensional, you have several options that\n",
      "may determine an initial simplex:\n",
      "  - use 'QJ'  to joggle the input and make it full dimensional\n",
      "  - use 'QbB' to scale the points to the unit cube\n",
      "  - use 'QR0' to randomly rotate the input for different maximum points\n",
      "  - use 'Qs'  to search all points for the initial simplex\n",
      "  - use 'En'  to specify a maximum roundoff error less than 5.5e-15.\n",
      "  - trace execution with 'T3' to see the determinant for each point.\n",
      "\n",
      "If the input is lower dimensional:\n",
      "  - use 'QJ' to joggle the input and make it full dimensional\n",
      "  - use 'Qbk:0Bk:0' to delete coordinate k from the input.  You should\n",
      "    pick the coordinate with the least range.  The hull will have the\n",
      "    correct topology.\n",
      "  - determine the flat containing the points, rotate the points\n",
      "    into a coordinate plane, and delete the other coordinates.\n",
      "  - add one or more points to make the input full dimensional.\n",
      "\n",
      "  return convex_hull_image(self.image)\n"
     ]
    },
    {
     "data": {
      "text/html": [
       "<div>\n",
       "<style scoped>\n",
       "    .dataframe tbody tr th:only-of-type {\n",
       "        vertical-align: middle;\n",
       "    }\n",
       "\n",
       "    .dataframe tbody tr th {\n",
       "        vertical-align: top;\n",
       "    }\n",
       "\n",
       "    .dataframe thead th {\n",
       "        text-align: right;\n",
       "    }\n",
       "</style>\n",
       "<table border=\"1\" class=\"dataframe\">\n",
       "  <thead>\n",
       "    <tr style=\"text-align: right;\">\n",
       "      <th></th>\n",
       "      <th>label</th>\n",
       "      <th>org_type</th>\n",
       "      <th>volume_voxels</th>\n",
       "      <th>bbox</th>\n",
       "      <th>bbox_dim_nm</th>\n",
       "      <th>bbox_vol_nm</th>\n",
       "      <th>centroid</th>\n",
       "      <th>solidity</th>\n",
       "      <th>all_coords</th>\n",
       "      <th>inertia_tensor</th>\n",
       "      <th>flatness</th>\n",
       "      <th>cylindricality</th>\n",
       "      <th>sphericality_inertia_tensor</th>\n",
       "    </tr>\n",
       "    <tr>\n",
       "      <th>Label</th>\n",
       "      <th></th>\n",
       "      <th></th>\n",
       "      <th></th>\n",
       "      <th></th>\n",
       "      <th></th>\n",
       "      <th></th>\n",
       "      <th></th>\n",
       "      <th></th>\n",
       "      <th></th>\n",
       "      <th></th>\n",
       "      <th></th>\n",
       "      <th></th>\n",
       "      <th></th>\n",
       "    </tr>\n",
       "  </thead>\n",
       "  <tbody>\n",
       "    <tr>\n",
       "      <th>mito_5</th>\n",
       "      <td>mito_5</td>\n",
       "      <td>mito</td>\n",
       "      <td>77824000</td>\n",
       "      <td>[[9, 0, 1], [14, 11, 8]]</td>\n",
       "      <td>[25, 55, 35]</td>\n",
       "      <td>48125</td>\n",
       "      <td>(1717.8947368421052, 833.6842105263158, 757.89...</td>\n",
       "      <td>0.358491</td>\n",
       "      <td>[[9, 7, 5], [9, 9, 1], [9, 9, 2], [9, 9, 3], [...</td>\n",
       "      <td>[[367618.83656509704, 119844.87534626039, -602...</td>\n",
       "      <td>0.05333</td>\n",
       "      <td>1.038768</td>\n",
       "      <td>-0.038768</td>\n",
       "    </tr>\n",
       "    <tr>\n",
       "      <th>mito_6</th>\n",
       "      <td>mito_6</td>\n",
       "      <td>mito</td>\n",
       "      <td>69632000</td>\n",
       "      <td>[[10, 10, 0], [14, 17, 9]]</td>\n",
       "      <td>[20, 35, 45]</td>\n",
       "      <td>31500</td>\n",
       "      <td>(1797.6470588235295, 2192.9411764705883, 630.5...</td>\n",
       "      <td>0.435897</td>\n",
       "      <td>[[10, 14, 4], [11, 12, 0], [11, 12, 1], [11, 1...</td>\n",
       "      <td>[[289838.06228373706, 16298.961937716265, 1621...</td>\n",
       "      <td>0.048527</td>\n",
       "      <td>0.968413</td>\n",
       "      <td>0.031587</td>\n",
       "    </tr>\n",
       "    <tr>\n",
       "      <th>mito_7</th>\n",
       "      <td>mito_7</td>\n",
       "      <td>mito</td>\n",
       "      <td>57344000</td>\n",
       "      <td>[[4, 16, 0], [7, 23, 6]]</td>\n",
       "      <td>[15, 35, 30]</td>\n",
       "      <td>15750</td>\n",
       "      <td>(811.4285714285714, 3085.714285714286, 377.142...</td>\n",
       "      <td>0.482759</td>\n",
       "      <td>[[4, 16, 4], [4, 17, 4], [4, 17, 5], [5, 18, 4...</td>\n",
       "      <td>[[146416.32653061225, -28734.693877551024, 225...</td>\n",
       "      <td>0.100842</td>\n",
       "      <td>1.082645</td>\n",
       "      <td>-0.082645</td>\n",
       "    </tr>\n",
       "    <tr>\n",
       "      <th>mito_10</th>\n",
       "      <td>mito_10</td>\n",
       "      <td>mito</td>\n",
       "      <td>40960000</td>\n",
       "      <td>[[1, 18, 1], [5, 22, 10]]</td>\n",
       "      <td>[20, 20, 45]</td>\n",
       "      <td>18000</td>\n",
       "      <td>(464.0, 3184.0, 720.0)</td>\n",
       "      <td>0.4</td>\n",
       "      <td>[[1, 20, 1], [2, 20, 2], [2, 21, 2], [3, 20, 3...</td>\n",
       "      <td>[[233984.0, 13056.0, -62720.0], [13056.0, 2339...</td>\n",
       "      <td>0.049553</td>\n",
       "      <td>1.032811</td>\n",
       "      <td>-0.032811</td>\n",
       "    </tr>\n",
       "    <tr>\n",
       "      <th>mito_15</th>\n",
       "      <td>mito_15</td>\n",
       "      <td>mito</td>\n",
       "      <td>49152000</td>\n",
       "      <td>[[1, 0, 2], [5, 6, 13]]</td>\n",
       "      <td>[20, 30, 55]</td>\n",
       "      <td>33000</td>\n",
       "      <td>(426.6666666666667, 520.0, 866.6666666666666)</td>\n",
       "      <td>0.333333</td>\n",
       "      <td>[[1, 0, 12], [1, 2, 7], [2, 2, 6], [2, 3, 6], ...</td>\n",
       "      <td>[[203022.22222222228, -29866.666666666668, 540...</td>\n",
       "      <td>0.075189</td>\n",
       "      <td>1.018748</td>\n",
       "      <td>-0.018748</td>\n",
       "    </tr>\n",
       "    <tr>\n",
       "      <th>...</th>\n",
       "      <td>...</td>\n",
       "      <td>...</td>\n",
       "      <td>...</td>\n",
       "      <td>...</td>\n",
       "      <td>...</td>\n",
       "      <td>...</td>\n",
       "      <td>...</td>\n",
       "      <td>...</td>\n",
       "      <td>...</td>\n",
       "      <td>...</td>\n",
       "      <td>...</td>\n",
       "      <td>...</td>\n",
       "      <td>...</td>\n",
       "    </tr>\n",
       "    <tr>\n",
       "      <th>er_8687</th>\n",
       "      <td>er_8687</td>\n",
       "      <td>er</td>\n",
       "      <td>5632000</td>\n",
       "      <td>[[13, 0, 27], [22, 2, 31]]</td>\n",
       "      <td>[45, 10, 20]</td>\n",
       "      <td>9000</td>\n",
       "      <td>(1360.0, 50.90909090909091, 2290.909090909091)</td>\n",
       "      <td>0.458333</td>\n",
       "      <td>[[13, 0, 27], [14, 1, 27], [14, 1, 28], [15, 1...</td>\n",
       "      <td>[[7616.528925619839, 3490.909090909091, -15127...</td>\n",
       "      <td>0.042736</td>\n",
       "      <td>1.0134</td>\n",
       "      <td>-0.0134</td>\n",
       "    </tr>\n",
       "    <tr>\n",
       "      <th>er_8751</th>\n",
       "      <td>er_8751</td>\n",
       "      <td>er</td>\n",
       "      <td>6656000</td>\n",
       "      <td>[[7, 0, 36], [17, 3, 45]]</td>\n",
       "      <td>[50, 15, 45]</td>\n",
       "      <td>33750</td>\n",
       "      <td>(910.7692307692307, 98.46153846153847, 3169.23...</td>\n",
       "      <td>0.168831</td>\n",
       "      <td>[[7, 0, 36], [8, 2, 40], [9, 2, 41], [10, 2, 4...</td>\n",
       "      <td>[[29235.502958579877, 5983.431952662721, 3484....</td>\n",
       "      <td>0.389501</td>\n",
       "      <td>0.636187</td>\n",
       "      <td>0.363813</td>\n",
       "    </tr>\n",
       "    <tr>\n",
       "      <th>er_9311</th>\n",
       "      <td>er_9311</td>\n",
       "      <td>er</td>\n",
       "      <td>5120000</td>\n",
       "      <td>[[13, 16, 49], [17, 20, 58]]</td>\n",
       "      <td>[20, 20, 45]</td>\n",
       "      <td>18000</td>\n",
       "      <td>(1208.0, 1360.0, 4320.0)</td>\n",
       "      <td>0.294118</td>\n",
       "      <td>[[13, 16, 57], [14, 16, 57], [14, 17, 56], [15...</td>\n",
       "      <td>[[55040.0, -4480.0, 14080.0], [-4480.0, 53056....</td>\n",
       "      <td>0.086365</td>\n",
       "      <td>0.973008</td>\n",
       "      <td>0.026992</td>\n",
       "    </tr>\n",
       "    <tr>\n",
       "      <th>er_9492</th>\n",
       "      <td>er_9492</td>\n",
       "      <td>er</td>\n",
       "      <td>9673728000</td>\n",
       "      <td>[[0, 0, 0], [76, 76, 76]]</td>\n",
       "      <td>[380, 380, 380]</td>\n",
       "      <td>54872000</td>\n",
       "      <td>(2953.703821318937, 2940.7303906001907, 3371.6...</td>\n",
       "      <td>0.049582</td>\n",
       "      <td>[[0, 15, 61], [0, 16, 52], [0, 19, 44], [0, 19...</td>\n",
       "      <td>[[5270814.081571045, 12330.915250037137, -5827...</td>\n",
       "      <td>1.401417</td>\n",
       "      <td>1.135823</td>\n",
       "      <td>-0.401417</td>\n",
       "    </tr>\n",
       "    <tr>\n",
       "      <th>er_9564</th>\n",
       "      <td>er_9564</td>\n",
       "      <td>er</td>\n",
       "      <td>6144000</td>\n",
       "      <td>[[48, 40, 23], [54, 47, 28]]</td>\n",
       "      <td>[30, 35, 25]</td>\n",
       "      <td>26250</td>\n",
       "      <td>(4053.3333333333335, 3446.6666666666665, 2046....</td>\n",
       "      <td>0.218182</td>\n",
       "      <td>[[48, 43, 23], [48, 44, 24], [49, 44, 25], [50...</td>\n",
       "      <td>[[31911.111111111113, -5511.111111111112, -764...</td>\n",
       "      <td>2.038235</td>\n",
       "      <td>1.203772</td>\n",
       "      <td>-1.038235</td>\n",
       "    </tr>\n",
       "  </tbody>\n",
       "</table>\n",
       "<p>86 rows × 13 columns</p>\n",
       "</div>"
      ],
      "text/plain": [
       "           label org_type volume_voxels                          bbox  \\\n",
       "Label                                                                   \n",
       "mito_5    mito_5     mito      77824000      [[9, 0, 1], [14, 11, 8]]   \n",
       "mito_6    mito_6     mito      69632000    [[10, 10, 0], [14, 17, 9]]   \n",
       "mito_7    mito_7     mito      57344000      [[4, 16, 0], [7, 23, 6]]   \n",
       "mito_10  mito_10     mito      40960000     [[1, 18, 1], [5, 22, 10]]   \n",
       "mito_15  mito_15     mito      49152000       [[1, 0, 2], [5, 6, 13]]   \n",
       "...          ...      ...           ...                           ...   \n",
       "er_8687  er_8687       er       5632000    [[13, 0, 27], [22, 2, 31]]   \n",
       "er_8751  er_8751       er       6656000     [[7, 0, 36], [17, 3, 45]]   \n",
       "er_9311  er_9311       er       5120000  [[13, 16, 49], [17, 20, 58]]   \n",
       "er_9492  er_9492       er    9673728000     [[0, 0, 0], [76, 76, 76]]   \n",
       "er_9564  er_9564       er       6144000  [[48, 40, 23], [54, 47, 28]]   \n",
       "\n",
       "             bbox_dim_nm bbox_vol_nm  \\\n",
       "Label                                  \n",
       "mito_5      [25, 55, 35]       48125   \n",
       "mito_6      [20, 35, 45]       31500   \n",
       "mito_7      [15, 35, 30]       15750   \n",
       "mito_10     [20, 20, 45]       18000   \n",
       "mito_15     [20, 30, 55]       33000   \n",
       "...                  ...         ...   \n",
       "er_8687     [45, 10, 20]        9000   \n",
       "er_8751     [50, 15, 45]       33750   \n",
       "er_9311     [20, 20, 45]       18000   \n",
       "er_9492  [380, 380, 380]    54872000   \n",
       "er_9564     [30, 35, 25]       26250   \n",
       "\n",
       "                                                  centroid  solidity  \\\n",
       "Label                                                                  \n",
       "mito_5   (1717.8947368421052, 833.6842105263158, 757.89...  0.358491   \n",
       "mito_6   (1797.6470588235295, 2192.9411764705883, 630.5...  0.435897   \n",
       "mito_7   (811.4285714285714, 3085.714285714286, 377.142...  0.482759   \n",
       "mito_10                             (464.0, 3184.0, 720.0)       0.4   \n",
       "mito_15      (426.6666666666667, 520.0, 866.6666666666666)  0.333333   \n",
       "...                                                    ...       ...   \n",
       "er_8687     (1360.0, 50.90909090909091, 2290.909090909091)  0.458333   \n",
       "er_8751  (910.7692307692307, 98.46153846153847, 3169.23...  0.168831   \n",
       "er_9311                           (1208.0, 1360.0, 4320.0)  0.294118   \n",
       "er_9492  (2953.703821318937, 2940.7303906001907, 3371.6...  0.049582   \n",
       "er_9564  (4053.3333333333335, 3446.6666666666665, 2046....  0.218182   \n",
       "\n",
       "                                                all_coords  \\\n",
       "Label                                                        \n",
       "mito_5   [[9, 7, 5], [9, 9, 1], [9, 9, 2], [9, 9, 3], [...   \n",
       "mito_6   [[10, 14, 4], [11, 12, 0], [11, 12, 1], [11, 1...   \n",
       "mito_7   [[4, 16, 4], [4, 17, 4], [4, 17, 5], [5, 18, 4...   \n",
       "mito_10  [[1, 20, 1], [2, 20, 2], [2, 21, 2], [3, 20, 3...   \n",
       "mito_15  [[1, 0, 12], [1, 2, 7], [2, 2, 6], [2, 3, 6], ...   \n",
       "...                                                    ...   \n",
       "er_8687  [[13, 0, 27], [14, 1, 27], [14, 1, 28], [15, 1...   \n",
       "er_8751  [[7, 0, 36], [8, 2, 40], [9, 2, 41], [10, 2, 4...   \n",
       "er_9311  [[13, 16, 57], [14, 16, 57], [14, 17, 56], [15...   \n",
       "er_9492  [[0, 15, 61], [0, 16, 52], [0, 19, 44], [0, 19...   \n",
       "er_9564  [[48, 43, 23], [48, 44, 24], [49, 44, 25], [50...   \n",
       "\n",
       "                                            inertia_tensor  flatness  \\\n",
       "Label                                                                  \n",
       "mito_5   [[367618.83656509704, 119844.87534626039, -602...   0.05333   \n",
       "mito_6   [[289838.06228373706, 16298.961937716265, 1621...  0.048527   \n",
       "mito_7   [[146416.32653061225, -28734.693877551024, 225...  0.100842   \n",
       "mito_10  [[233984.0, 13056.0, -62720.0], [13056.0, 2339...  0.049553   \n",
       "mito_15  [[203022.22222222228, -29866.666666666668, 540...  0.075189   \n",
       "...                                                    ...       ...   \n",
       "er_8687  [[7616.528925619839, 3490.909090909091, -15127...  0.042736   \n",
       "er_8751  [[29235.502958579877, 5983.431952662721, 3484....  0.389501   \n",
       "er_9311  [[55040.0, -4480.0, 14080.0], [-4480.0, 53056....  0.086365   \n",
       "er_9492  [[5270814.081571045, 12330.915250037137, -5827...  1.401417   \n",
       "er_9564  [[31911.111111111113, -5511.111111111112, -764...  2.038235   \n",
       "\n",
       "        cylindricality sphericality_inertia_tensor  \n",
       "Label                                               \n",
       "mito_5        1.038768                   -0.038768  \n",
       "mito_6        0.968413                    0.031587  \n",
       "mito_7        1.082645                   -0.082645  \n",
       "mito_10       1.032811                   -0.032811  \n",
       "mito_15       1.018748                   -0.018748  \n",
       "...                ...                         ...  \n",
       "er_8687         1.0134                     -0.0134  \n",
       "er_8751       0.636187                    0.363813  \n",
       "er_9311       0.973008                    0.026992  \n",
       "er_9492       1.135823                   -0.401417  \n",
       "er_9564       1.203772                   -1.038235  \n",
       "\n",
       "[86 rows x 13 columns]"
      ]
     },
     "execution_count": 5,
     "metadata": {},
     "output_type": "execute_result"
    }
   ],
   "source": [
    "dm3.get_voxel_properties()\n"
   ]
  },
  {
   "cell_type": "code",
   "execution_count": 6,
   "metadata": {},
   "outputs": [
    {
     "data": {
      "text/html": [
       "<div>\n",
       "<style scoped>\n",
       "    .dataframe tbody tr th:only-of-type {\n",
       "        vertical-align: middle;\n",
       "    }\n",
       "\n",
       "    .dataframe tbody tr th {\n",
       "        vertical-align: top;\n",
       "    }\n",
       "\n",
       "    .dataframe thead th {\n",
       "        text-align: right;\n",
       "    }\n",
       "</style>\n",
       "<table border=\"1\" class=\"dataframe\">\n",
       "  <thead>\n",
       "    <tr style=\"text-align: right;\">\n",
       "      <th></th>\n",
       "      <th>label</th>\n",
       "      <th>org_type</th>\n",
       "      <th>volume_voxels</th>\n",
       "      <th>bbox</th>\n",
       "      <th>bbox_dim_nm</th>\n",
       "      <th>bbox_vol_nm</th>\n",
       "      <th>centroid</th>\n",
       "      <th>solidity</th>\n",
       "      <th>all_coords</th>\n",
       "      <th>inertia_tensor</th>\n",
       "      <th>flatness</th>\n",
       "      <th>cylindricality</th>\n",
       "      <th>sphericality_inertia_tensor</th>\n",
       "    </tr>\n",
       "    <tr>\n",
       "      <th>Label</th>\n",
       "      <th></th>\n",
       "      <th></th>\n",
       "      <th></th>\n",
       "      <th></th>\n",
       "      <th></th>\n",
       "      <th></th>\n",
       "      <th></th>\n",
       "      <th></th>\n",
       "      <th></th>\n",
       "      <th></th>\n",
       "      <th></th>\n",
       "      <th></th>\n",
       "      <th></th>\n",
       "    </tr>\n",
       "  </thead>\n",
       "  <tbody>\n",
       "    <tr>\n",
       "      <th>mito_5</th>\n",
       "      <td>mito_5</td>\n",
       "      <td>mito</td>\n",
       "      <td>77824000</td>\n",
       "      <td>[[9, 0, 1], [14, 11, 8]]</td>\n",
       "      <td>[25, 55, 35]</td>\n",
       "      <td>48125</td>\n",
       "      <td>(1717.8947368421052, 833.6842105263158, 757.89...</td>\n",
       "      <td>0.358491</td>\n",
       "      <td>[[9, 7, 5], [9, 9, 1], [9, 9, 2], [9, 9, 3], [...</td>\n",
       "      <td>[[367618.83656509704, 119844.87534626039, -602...</td>\n",
       "      <td>0.05333</td>\n",
       "      <td>1.038768</td>\n",
       "      <td>-0.038768</td>\n",
       "    </tr>\n",
       "    <tr>\n",
       "      <th>mito_6</th>\n",
       "      <td>mito_6</td>\n",
       "      <td>mito</td>\n",
       "      <td>69632000</td>\n",
       "      <td>[[10, 10, 0], [14, 17, 9]]</td>\n",
       "      <td>[20, 35, 45]</td>\n",
       "      <td>31500</td>\n",
       "      <td>(1797.6470588235295, 2192.9411764705883, 630.5...</td>\n",
       "      <td>0.435897</td>\n",
       "      <td>[[10, 14, 4], [11, 12, 0], [11, 12, 1], [11, 1...</td>\n",
       "      <td>[[289838.06228373706, 16298.961937716265, 1621...</td>\n",
       "      <td>0.048527</td>\n",
       "      <td>0.968413</td>\n",
       "      <td>0.031587</td>\n",
       "    </tr>\n",
       "    <tr>\n",
       "      <th>mito_7</th>\n",
       "      <td>mito_7</td>\n",
       "      <td>mito</td>\n",
       "      <td>57344000</td>\n",
       "      <td>[[4, 16, 0], [7, 23, 6]]</td>\n",
       "      <td>[15, 35, 30]</td>\n",
       "      <td>15750</td>\n",
       "      <td>(811.4285714285714, 3085.714285714286, 377.142...</td>\n",
       "      <td>0.482759</td>\n",
       "      <td>[[4, 16, 4], [4, 17, 4], [4, 17, 5], [5, 18, 4...</td>\n",
       "      <td>[[146416.32653061225, -28734.693877551024, 225...</td>\n",
       "      <td>0.100842</td>\n",
       "      <td>1.082645</td>\n",
       "      <td>-0.082645</td>\n",
       "    </tr>\n",
       "    <tr>\n",
       "      <th>mito_10</th>\n",
       "      <td>mito_10</td>\n",
       "      <td>mito</td>\n",
       "      <td>40960000</td>\n",
       "      <td>[[1, 18, 1], [5, 22, 10]]</td>\n",
       "      <td>[20, 20, 45]</td>\n",
       "      <td>18000</td>\n",
       "      <td>(464.0, 3184.0, 720.0)</td>\n",
       "      <td>0.4</td>\n",
       "      <td>[[1, 20, 1], [2, 20, 2], [2, 21, 2], [3, 20, 3...</td>\n",
       "      <td>[[233984.0, 13056.0, -62720.0], [13056.0, 2339...</td>\n",
       "      <td>0.049553</td>\n",
       "      <td>1.032811</td>\n",
       "      <td>-0.032811</td>\n",
       "    </tr>\n",
       "    <tr>\n",
       "      <th>mito_15</th>\n",
       "      <td>mito_15</td>\n",
       "      <td>mito</td>\n",
       "      <td>49152000</td>\n",
       "      <td>[[1, 0, 2], [5, 6, 13]]</td>\n",
       "      <td>[20, 30, 55]</td>\n",
       "      <td>33000</td>\n",
       "      <td>(426.6666666666667, 520.0, 866.6666666666666)</td>\n",
       "      <td>0.333333</td>\n",
       "      <td>[[1, 0, 12], [1, 2, 7], [2, 2, 6], [2, 3, 6], ...</td>\n",
       "      <td>[[203022.22222222228, -29866.666666666668, 540...</td>\n",
       "      <td>0.075189</td>\n",
       "      <td>1.018748</td>\n",
       "      <td>-0.018748</td>\n",
       "    </tr>\n",
       "  </tbody>\n",
       "</table>\n",
       "</div>"
      ],
      "text/plain": [
       "           label org_type volume_voxels                        bbox  \\\n",
       "Label                                                                 \n",
       "mito_5    mito_5     mito      77824000    [[9, 0, 1], [14, 11, 8]]   \n",
       "mito_6    mito_6     mito      69632000  [[10, 10, 0], [14, 17, 9]]   \n",
       "mito_7    mito_7     mito      57344000    [[4, 16, 0], [7, 23, 6]]   \n",
       "mito_10  mito_10     mito      40960000   [[1, 18, 1], [5, 22, 10]]   \n",
       "mito_15  mito_15     mito      49152000     [[1, 0, 2], [5, 6, 13]]   \n",
       "\n",
       "          bbox_dim_nm bbox_vol_nm  \\\n",
       "Label                               \n",
       "mito_5   [25, 55, 35]       48125   \n",
       "mito_6   [20, 35, 45]       31500   \n",
       "mito_7   [15, 35, 30]       15750   \n",
       "mito_10  [20, 20, 45]       18000   \n",
       "mito_15  [20, 30, 55]       33000   \n",
       "\n",
       "                                                  centroid  solidity  \\\n",
       "Label                                                                  \n",
       "mito_5   (1717.8947368421052, 833.6842105263158, 757.89...  0.358491   \n",
       "mito_6   (1797.6470588235295, 2192.9411764705883, 630.5...  0.435897   \n",
       "mito_7   (811.4285714285714, 3085.714285714286, 377.142...  0.482759   \n",
       "mito_10                             (464.0, 3184.0, 720.0)       0.4   \n",
       "mito_15      (426.6666666666667, 520.0, 866.6666666666666)  0.333333   \n",
       "\n",
       "                                                all_coords  \\\n",
       "Label                                                        \n",
       "mito_5   [[9, 7, 5], [9, 9, 1], [9, 9, 2], [9, 9, 3], [...   \n",
       "mito_6   [[10, 14, 4], [11, 12, 0], [11, 12, 1], [11, 1...   \n",
       "mito_7   [[4, 16, 4], [4, 17, 4], [4, 17, 5], [5, 18, 4...   \n",
       "mito_10  [[1, 20, 1], [2, 20, 2], [2, 21, 2], [3, 20, 3...   \n",
       "mito_15  [[1, 0, 12], [1, 2, 7], [2, 2, 6], [2, 3, 6], ...   \n",
       "\n",
       "                                            inertia_tensor  flatness  \\\n",
       "Label                                                                  \n",
       "mito_5   [[367618.83656509704, 119844.87534626039, -602...   0.05333   \n",
       "mito_6   [[289838.06228373706, 16298.961937716265, 1621...  0.048527   \n",
       "mito_7   [[146416.32653061225, -28734.693877551024, 225...  0.100842   \n",
       "mito_10  [[233984.0, 13056.0, -62720.0], [13056.0, 2339...  0.049553   \n",
       "mito_15  [[203022.22222222228, -29866.666666666668, 540...  0.075189   \n",
       "\n",
       "        cylindricality sphericality_inertia_tensor  \n",
       "Label                                               \n",
       "mito_5        1.038768                   -0.038768  \n",
       "mito_6        0.968413                    0.031587  \n",
       "mito_7        1.082645                   -0.082645  \n",
       "mito_10       1.032811                   -0.032811  \n",
       "mito_15       1.018748                   -0.018748  "
      ]
     },
     "execution_count": 6,
     "metadata": {},
     "output_type": "execute_result"
    }
   ],
   "source": [
    "\n",
    "dm3.analysis_results.head()"
   ]
  },
  {
   "cell_type": "markdown",
   "metadata": {},
   "source": [
    "This generates a mesh representation for each voxel object. \n",
    "These get saved in self.mesh_dict.\n",
    "\n",
    "it also attaches mesh volume and mesh surface area to the analysis results df.\n"
   ]
  },
  {
   "cell_type": "code",
   "execution_count": 7,
   "metadata": {},
   "outputs": [],
   "source": [
    "dm3.generate_mesh()\n"
   ]
  },
  {
   "cell_type": "code",
   "execution_count": 8,
   "metadata": {},
   "outputs": [
    {
     "data": {
      "text/html": [
       "<div>\n",
       "<style scoped>\n",
       "    .dataframe tbody tr th:only-of-type {\n",
       "        vertical-align: middle;\n",
       "    }\n",
       "\n",
       "    .dataframe tbody tr th {\n",
       "        vertical-align: top;\n",
       "    }\n",
       "\n",
       "    .dataframe thead th {\n",
       "        text-align: right;\n",
       "    }\n",
       "</style>\n",
       "<table border=\"1\" class=\"dataframe\">\n",
       "  <thead>\n",
       "    <tr style=\"text-align: right;\">\n",
       "      <th></th>\n",
       "      <th>label</th>\n",
       "      <th>org_type</th>\n",
       "      <th>volume_voxels</th>\n",
       "      <th>bbox</th>\n",
       "      <th>bbox_dim_nm</th>\n",
       "      <th>bbox_vol_nm</th>\n",
       "      <th>centroid</th>\n",
       "      <th>solidity</th>\n",
       "      <th>all_coords</th>\n",
       "      <th>inertia_tensor</th>\n",
       "      <th>flatness</th>\n",
       "      <th>cylindricality</th>\n",
       "      <th>sphericality_inertia_tensor</th>\n",
       "      <th>surf_area_mesh_nm</th>\n",
       "      <th>volume_mesh</th>\n",
       "      <th>water_tight</th>\n",
       "      <th>sphericity</th>\n",
       "      <th>flatness_ratio</th>\n",
       "    </tr>\n",
       "    <tr>\n",
       "      <th>Label</th>\n",
       "      <th></th>\n",
       "      <th></th>\n",
       "      <th></th>\n",
       "      <th></th>\n",
       "      <th></th>\n",
       "      <th></th>\n",
       "      <th></th>\n",
       "      <th></th>\n",
       "      <th></th>\n",
       "      <th></th>\n",
       "      <th></th>\n",
       "      <th></th>\n",
       "      <th></th>\n",
       "      <th></th>\n",
       "      <th></th>\n",
       "      <th></th>\n",
       "      <th></th>\n",
       "      <th></th>\n",
       "    </tr>\n",
       "  </thead>\n",
       "  <tbody>\n",
       "    <tr>\n",
       "      <th>mito_5</th>\n",
       "      <td>mito_5</td>\n",
       "      <td>mito</td>\n",
       "      <td>77824000</td>\n",
       "      <td>[[9, 0, 1], [14, 11, 8]]</td>\n",
       "      <td>[25, 55, 35]</td>\n",
       "      <td>48125</td>\n",
       "      <td>(1717.8947368421052, 833.6842105263158, 757.89...</td>\n",
       "      <td>0.358491</td>\n",
       "      <td>[[9, 7, 5], [9, 9, 1], [9, 9, 2], [9, 9, 3], [...</td>\n",
       "      <td>[[367618.83656509704, 119844.87534626039, -602...</td>\n",
       "      <td>0.05333</td>\n",
       "      <td>1.038768</td>\n",
       "      <td>-0.038768</td>\n",
       "      <td>1.270518e+06</td>\n",
       "      <td>4.812800e+07</td>\n",
       "      <td>False</td>\n",
       "      <td>0.503619</td>\n",
       "      <td>0.710612</td>\n",
       "    </tr>\n",
       "    <tr>\n",
       "      <th>mito_6</th>\n",
       "      <td>mito_6</td>\n",
       "      <td>mito</td>\n",
       "      <td>69632000</td>\n",
       "      <td>[[10, 10, 0], [14, 17, 9]]</td>\n",
       "      <td>[20, 35, 45]</td>\n",
       "      <td>31500</td>\n",
       "      <td>(1797.6470588235295, 2192.9411764705883, 630.5...</td>\n",
       "      <td>0.435897</td>\n",
       "      <td>[[10, 14, 4], [11, 12, 0], [11, 12, 1], [11, 1...</td>\n",
       "      <td>[[289838.06228373706, 16298.961937716265, 1621...</td>\n",
       "      <td>0.048527</td>\n",
       "      <td>0.968413</td>\n",
       "      <td>0.031587</td>\n",
       "      <td>1.128386e+06</td>\n",
       "      <td>4.266667e+07</td>\n",
       "      <td>False</td>\n",
       "      <td>0.523302</td>\n",
       "      <td>0.419568</td>\n",
       "    </tr>\n",
       "    <tr>\n",
       "      <th>mito_7</th>\n",
       "      <td>mito_7</td>\n",
       "      <td>mito</td>\n",
       "      <td>57344000</td>\n",
       "      <td>[[4, 16, 0], [7, 23, 6]]</td>\n",
       "      <td>[15, 35, 30]</td>\n",
       "      <td>15750</td>\n",
       "      <td>(811.4285714285714, 3085.714285714286, 377.142...</td>\n",
       "      <td>0.482759</td>\n",
       "      <td>[[4, 16, 4], [4, 17, 4], [4, 17, 5], [5, 18, 4...</td>\n",
       "      <td>[[146416.32653061225, -28734.693877551024, 225...</td>\n",
       "      <td>0.100842</td>\n",
       "      <td>1.082645</td>\n",
       "      <td>-0.082645</td>\n",
       "      <td>9.276636e+05</td>\n",
       "      <td>3.413333e+07</td>\n",
       "      <td>False</td>\n",
       "      <td>0.548546</td>\n",
       "      <td>0.583459</td>\n",
       "    </tr>\n",
       "    <tr>\n",
       "      <th>mito_10</th>\n",
       "      <td>mito_10</td>\n",
       "      <td>mito</td>\n",
       "      <td>40960000</td>\n",
       "      <td>[[1, 18, 1], [5, 22, 10]]</td>\n",
       "      <td>[20, 20, 45]</td>\n",
       "      <td>18000</td>\n",
       "      <td>(464.0, 3184.0, 720.0)</td>\n",
       "      <td>0.4</td>\n",
       "      <td>[[1, 20, 1], [2, 20, 2], [2, 21, 2], [3, 20, 3...</td>\n",
       "      <td>[[233984.0, 13056.0, -62720.0], [13056.0, 2339...</td>\n",
       "      <td>0.049553</td>\n",
       "      <td>1.032811</td>\n",
       "      <td>-0.032811</td>\n",
       "      <td>6.809412e+05</td>\n",
       "      <td>2.389333e+07</td>\n",
       "      <td>True</td>\n",
       "      <td>0.589150</td>\n",
       "      <td>0.482973</td>\n",
       "    </tr>\n",
       "    <tr>\n",
       "      <th>mito_15</th>\n",
       "      <td>mito_15</td>\n",
       "      <td>mito</td>\n",
       "      <td>49152000</td>\n",
       "      <td>[[1, 0, 2], [5, 6, 13]]</td>\n",
       "      <td>[20, 30, 55]</td>\n",
       "      <td>33000</td>\n",
       "      <td>(426.6666666666667, 520.0, 866.6666666666666)</td>\n",
       "      <td>0.333333</td>\n",
       "      <td>[[1, 0, 12], [1, 2, 7], [2, 2, 6], [2, 3, 6], ...</td>\n",
       "      <td>[[203022.22222222228, -29866.666666666668, 540...</td>\n",
       "      <td>0.075189</td>\n",
       "      <td>1.018748</td>\n",
       "      <td>-0.018748</td>\n",
       "      <td>8.802080e+05</td>\n",
       "      <td>2.969600e+07</td>\n",
       "      <td>False</td>\n",
       "      <td>0.526863</td>\n",
       "      <td>0.673986</td>\n",
       "    </tr>\n",
       "  </tbody>\n",
       "</table>\n",
       "</div>"
      ],
      "text/plain": [
       "           label org_type volume_voxels                        bbox  \\\n",
       "Label                                                                 \n",
       "mito_5    mito_5     mito      77824000    [[9, 0, 1], [14, 11, 8]]   \n",
       "mito_6    mito_6     mito      69632000  [[10, 10, 0], [14, 17, 9]]   \n",
       "mito_7    mito_7     mito      57344000    [[4, 16, 0], [7, 23, 6]]   \n",
       "mito_10  mito_10     mito      40960000   [[1, 18, 1], [5, 22, 10]]   \n",
       "mito_15  mito_15     mito      49152000     [[1, 0, 2], [5, 6, 13]]   \n",
       "\n",
       "          bbox_dim_nm bbox_vol_nm  \\\n",
       "Label                               \n",
       "mito_5   [25, 55, 35]       48125   \n",
       "mito_6   [20, 35, 45]       31500   \n",
       "mito_7   [15, 35, 30]       15750   \n",
       "mito_10  [20, 20, 45]       18000   \n",
       "mito_15  [20, 30, 55]       33000   \n",
       "\n",
       "                                                  centroid  solidity  \\\n",
       "Label                                                                  \n",
       "mito_5   (1717.8947368421052, 833.6842105263158, 757.89...  0.358491   \n",
       "mito_6   (1797.6470588235295, 2192.9411764705883, 630.5...  0.435897   \n",
       "mito_7   (811.4285714285714, 3085.714285714286, 377.142...  0.482759   \n",
       "mito_10                             (464.0, 3184.0, 720.0)       0.4   \n",
       "mito_15      (426.6666666666667, 520.0, 866.6666666666666)  0.333333   \n",
       "\n",
       "                                                all_coords  \\\n",
       "Label                                                        \n",
       "mito_5   [[9, 7, 5], [9, 9, 1], [9, 9, 2], [9, 9, 3], [...   \n",
       "mito_6   [[10, 14, 4], [11, 12, 0], [11, 12, 1], [11, 1...   \n",
       "mito_7   [[4, 16, 4], [4, 17, 4], [4, 17, 5], [5, 18, 4...   \n",
       "mito_10  [[1, 20, 1], [2, 20, 2], [2, 21, 2], [3, 20, 3...   \n",
       "mito_15  [[1, 0, 12], [1, 2, 7], [2, 2, 6], [2, 3, 6], ...   \n",
       "\n",
       "                                            inertia_tensor  flatness  \\\n",
       "Label                                                                  \n",
       "mito_5   [[367618.83656509704, 119844.87534626039, -602...   0.05333   \n",
       "mito_6   [[289838.06228373706, 16298.961937716265, 1621...  0.048527   \n",
       "mito_7   [[146416.32653061225, -28734.693877551024, 225...  0.100842   \n",
       "mito_10  [[233984.0, 13056.0, -62720.0], [13056.0, 2339...  0.049553   \n",
       "mito_15  [[203022.22222222228, -29866.666666666668, 540...  0.075189   \n",
       "\n",
       "        cylindricality sphericality_inertia_tensor  surf_area_mesh_nm  \\\n",
       "Label                                                                   \n",
       "mito_5        1.038768                   -0.038768       1.270518e+06   \n",
       "mito_6        0.968413                    0.031587       1.128386e+06   \n",
       "mito_7        1.082645                   -0.082645       9.276636e+05   \n",
       "mito_10       1.032811                   -0.032811       6.809412e+05   \n",
       "mito_15       1.018748                   -0.018748       8.802080e+05   \n",
       "\n",
       "          volume_mesh  water_tight  sphericity  flatness_ratio  \n",
       "Label                                                           \n",
       "mito_5   4.812800e+07        False    0.503619        0.710612  \n",
       "mito_6   4.266667e+07        False    0.523302        0.419568  \n",
       "mito_7   3.413333e+07        False    0.548546        0.583459  \n",
       "mito_10  2.389333e+07         True    0.589150        0.482973  \n",
       "mito_15  2.969600e+07        False    0.526863        0.673986  "
      ]
     },
     "execution_count": 8,
     "metadata": {},
     "output_type": "execute_result"
    }
   ],
   "source": [
    "dm3.analysis_results.head()"
   ]
  },
  {
   "cell_type": "markdown",
   "metadata": {},
   "source": [
    "scrollable 2d representation of the voxels\n",
    "\n",
    "background zeros get replaced by NaN for clearer visualization\n"
   ]
  },
  {
   "cell_type": "code",
   "execution_count": 9,
   "metadata": {},
   "outputs": [
    {
     "data": {
      "text/html": [
       "\n",
       "        <iframe\n",
       "            width=\"100%\"\n",
       "            height=\"650\"\n",
       "            src=\"http://127.0.0.1:8065/\"\n",
       "            frameborder=\"0\"\n",
       "            allowfullscreen\n",
       "        ></iframe>\n",
       "        "
      ],
      "text/plain": [
       "<IPython.lib.display.IFrame at 0x7f49c60959a0>"
      ]
     },
     "metadata": {},
     "output_type": "display_data"
    }
   ],
   "source": [
    "dm3.draw_2d_slices(\"mito\", port=8065)"
   ]
  },
  {
   "cell_type": "markdown",
   "metadata": {},
   "source": []
  },
  {
   "cell_type": "code",
   "execution_count": 10,
   "metadata": {},
   "outputs": [
    {
     "data": {
      "application/vnd.plotly.v1+json": {
       "config": {
        "plotlyServerURL": "https://plot.ly"
       },
       "data": [
        {
         "i": [
          2,
          0,
          6,
          4,
          5,
          4,
          9,
          1,
          12,
          10,
          5,
          14,
          14,
          7,
          10,
          15,
          13,
          8,
          17,
          5,
          15,
          8,
          15,
          18,
          17,
          20,
          19,
          18,
          24,
          22,
          11,
          26,
          26,
          13,
          22,
          27,
          27,
          11,
          25,
          30,
          17,
          13,
          27,
          31,
          31,
          16,
          29,
          34,
          20,
          17,
          37,
          39,
          38,
          32,
          32,
          33,
          34,
          19,
          19,
          21,
          36,
          35,
          41,
          25,
          42,
          41,
          29,
          25,
          45,
          28,
          43,
          42,
          45,
          47,
          33,
          29,
          50,
          52,
          48,
          44,
          37,
          51,
          37,
          55,
          55,
          47,
          39,
          46,
          37,
          38,
          49,
          48,
          52,
          54,
          55,
          36,
          36,
          40,
          58,
          46,
          59,
          51,
          50,
          51,
          44,
          53,
          53,
          53,
          59,
          56,
          57,
          57
         ],
         "j": [
          1,
          1,
          5,
          7,
          8,
          8,
          1,
          9,
          11,
          5,
          6,
          13,
          12,
          14,
          11,
          11,
          14,
          17,
          8,
          15,
          5,
          14,
          16,
          16,
          15,
          15,
          21,
          21,
          23,
          11,
          12,
          25,
          24,
          26,
          23,
          23,
          11,
          27,
          26,
          29,
          30,
          30,
          28,
          28,
          16,
          31,
          30,
          33,
          34,
          34,
          36,
          38,
          31,
          37,
          35,
          34,
          21,
          31,
          38,
          34,
          40,
          40,
          23,
          41,
          28,
          28,
          42,
          42,
          44,
          43,
          28,
          45,
          42,
          46,
          47,
          47,
          49,
          51,
          51,
          37,
          44,
          52,
          52,
          54,
          53,
          39,
          47,
          47,
          32,
          47,
          56,
          56,
          56,
          55,
          40,
          52,
          57,
          55,
          44,
          58,
          49,
          60,
          60,
          44,
          58,
          54,
          60,
          58,
          56,
          59,
          59,
          60
         ],
         "k": [
          0,
          3,
          4,
          6,
          4,
          7,
          2,
          3,
          10,
          12,
          12,
          12,
          6,
          6,
          15,
          16,
          17,
          14,
          15,
          8,
          10,
          7,
          18,
          19,
          20,
          18,
          18,
          20,
          22,
          24,
          24,
          24,
          12,
          12,
          27,
          28,
          22,
          16,
          29,
          26,
          13,
          26,
          31,
          32,
          27,
          19,
          33,
          30,
          17,
          30,
          35,
          35,
          35,
          35,
          31,
          38,
          38,
          38,
          21,
          20,
          35,
          39,
          24,
          24,
          41,
          23,
          25,
          41,
          43,
          32,
          45,
          28,
          46,
          42,
          29,
          42,
          48,
          48,
          50,
          43,
          52,
          44,
          36,
          53,
          39,
          53,
          38,
          53,
          43,
          33,
          48,
          52,
          57,
          57,
          57,
          57,
          40,
          39,
          45,
          45,
          50,
          50,
          59,
          60,
          60,
          60,
          58,
          46,
          49,
          57,
          60,
          54
         ],
         "name": "mito_15",
         "opacity": 0.8,
         "type": "mesh3d",
         "x": [
          80,
          160,
          160,
          160,
          80,
          160,
          160,
          160,
          160,
          240,
          240,
          320,
          320,
          320,
          240,
          240,
          320,
          320,
          240,
          320,
          320,
          320,
          400,
          480,
          480,
          480,
          400,
          400,
          480,
          480,
          400,
          400,
          480,
          480,
          400,
          400,
          480,
          480,
          480,
          480,
          480,
          560,
          560,
          560,
          640,
          640,
          640,
          560,
          560,
          640,
          640,
          640,
          560,
          640,
          640,
          560,
          640,
          640,
          720,
          720,
          720
         ],
         "y": [
          0,
          80,
          0,
          0,
          320,
          320,
          240,
          320,
          400,
          0,
          320,
          320,
          240,
          320,
          320,
          480,
          480,
          480,
          640,
          640,
          640,
          720,
          320,
          320,
          240,
          320,
          320,
          480,
          480,
          480,
          480,
          640,
          640,
          640,
          640,
          800,
          800,
          720,
          720,
          800,
          880,
          320,
          480,
          640,
          640,
          560,
          640,
          640,
          800,
          800,
          720,
          720,
          800,
          720,
          800,
          800,
          880,
          880,
          640,
          800,
          800
         ],
         "z": [
          1920,
          1920,
          1840,
          2000,
          1120,
          1040,
          1120,
          1200,
          1120,
          1920,
          960,
          880,
          960,
          1040,
          1120,
          960,
          880,
          1040,
          960,
          880,
          1040,
          960,
          800,
          720,
          800,
          880,
          960,
          800,
          720,
          880,
          960,
          800,
          720,
          880,
          960,
          640,
          560,
          640,
          800,
          720,
          640,
          800,
          800,
          640,
          560,
          640,
          720,
          800,
          320,
          240,
          320,
          480,
          480,
          640,
          560,
          640,
          320,
          480,
          640,
          320,
          480
         ]
        }
       ],
       "layout": {
        "template": {
         "data": {
          "bar": [
           {
            "error_x": {
             "color": "#2a3f5f"
            },
            "error_y": {
             "color": "#2a3f5f"
            },
            "marker": {
             "line": {
              "color": "#E5ECF6",
              "width": 0.5
             },
             "pattern": {
              "fillmode": "overlay",
              "size": 10,
              "solidity": 0.2
             }
            },
            "type": "bar"
           }
          ],
          "barpolar": [
           {
            "marker": {
             "line": {
              "color": "#E5ECF6",
              "width": 0.5
             },
             "pattern": {
              "fillmode": "overlay",
              "size": 10,
              "solidity": 0.2
             }
            },
            "type": "barpolar"
           }
          ],
          "carpet": [
           {
            "aaxis": {
             "endlinecolor": "#2a3f5f",
             "gridcolor": "white",
             "linecolor": "white",
             "minorgridcolor": "white",
             "startlinecolor": "#2a3f5f"
            },
            "baxis": {
             "endlinecolor": "#2a3f5f",
             "gridcolor": "white",
             "linecolor": "white",
             "minorgridcolor": "white",
             "startlinecolor": "#2a3f5f"
            },
            "type": "carpet"
           }
          ],
          "choropleth": [
           {
            "colorbar": {
             "outlinewidth": 0,
             "ticks": ""
            },
            "type": "choropleth"
           }
          ],
          "contour": [
           {
            "colorbar": {
             "outlinewidth": 0,
             "ticks": ""
            },
            "colorscale": [
             [
              0,
              "#0d0887"
             ],
             [
              0.1111111111111111,
              "#46039f"
             ],
             [
              0.2222222222222222,
              "#7201a8"
             ],
             [
              0.3333333333333333,
              "#9c179e"
             ],
             [
              0.4444444444444444,
              "#bd3786"
             ],
             [
              0.5555555555555556,
              "#d8576b"
             ],
             [
              0.6666666666666666,
              "#ed7953"
             ],
             [
              0.7777777777777778,
              "#fb9f3a"
             ],
             [
              0.8888888888888888,
              "#fdca26"
             ],
             [
              1,
              "#f0f921"
             ]
            ],
            "type": "contour"
           }
          ],
          "contourcarpet": [
           {
            "colorbar": {
             "outlinewidth": 0,
             "ticks": ""
            },
            "type": "contourcarpet"
           }
          ],
          "heatmap": [
           {
            "colorbar": {
             "outlinewidth": 0,
             "ticks": ""
            },
            "colorscale": [
             [
              0,
              "#0d0887"
             ],
             [
              0.1111111111111111,
              "#46039f"
             ],
             [
              0.2222222222222222,
              "#7201a8"
             ],
             [
              0.3333333333333333,
              "#9c179e"
             ],
             [
              0.4444444444444444,
              "#bd3786"
             ],
             [
              0.5555555555555556,
              "#d8576b"
             ],
             [
              0.6666666666666666,
              "#ed7953"
             ],
             [
              0.7777777777777778,
              "#fb9f3a"
             ],
             [
              0.8888888888888888,
              "#fdca26"
             ],
             [
              1,
              "#f0f921"
             ]
            ],
            "type": "heatmap"
           }
          ],
          "heatmapgl": [
           {
            "colorbar": {
             "outlinewidth": 0,
             "ticks": ""
            },
            "colorscale": [
             [
              0,
              "#0d0887"
             ],
             [
              0.1111111111111111,
              "#46039f"
             ],
             [
              0.2222222222222222,
              "#7201a8"
             ],
             [
              0.3333333333333333,
              "#9c179e"
             ],
             [
              0.4444444444444444,
              "#bd3786"
             ],
             [
              0.5555555555555556,
              "#d8576b"
             ],
             [
              0.6666666666666666,
              "#ed7953"
             ],
             [
              0.7777777777777778,
              "#fb9f3a"
             ],
             [
              0.8888888888888888,
              "#fdca26"
             ],
             [
              1,
              "#f0f921"
             ]
            ],
            "type": "heatmapgl"
           }
          ],
          "histogram": [
           {
            "marker": {
             "pattern": {
              "fillmode": "overlay",
              "size": 10,
              "solidity": 0.2
             }
            },
            "type": "histogram"
           }
          ],
          "histogram2d": [
           {
            "colorbar": {
             "outlinewidth": 0,
             "ticks": ""
            },
            "colorscale": [
             [
              0,
              "#0d0887"
             ],
             [
              0.1111111111111111,
              "#46039f"
             ],
             [
              0.2222222222222222,
              "#7201a8"
             ],
             [
              0.3333333333333333,
              "#9c179e"
             ],
             [
              0.4444444444444444,
              "#bd3786"
             ],
             [
              0.5555555555555556,
              "#d8576b"
             ],
             [
              0.6666666666666666,
              "#ed7953"
             ],
             [
              0.7777777777777778,
              "#fb9f3a"
             ],
             [
              0.8888888888888888,
              "#fdca26"
             ],
             [
              1,
              "#f0f921"
             ]
            ],
            "type": "histogram2d"
           }
          ],
          "histogram2dcontour": [
           {
            "colorbar": {
             "outlinewidth": 0,
             "ticks": ""
            },
            "colorscale": [
             [
              0,
              "#0d0887"
             ],
             [
              0.1111111111111111,
              "#46039f"
             ],
             [
              0.2222222222222222,
              "#7201a8"
             ],
             [
              0.3333333333333333,
              "#9c179e"
             ],
             [
              0.4444444444444444,
              "#bd3786"
             ],
             [
              0.5555555555555556,
              "#d8576b"
             ],
             [
              0.6666666666666666,
              "#ed7953"
             ],
             [
              0.7777777777777778,
              "#fb9f3a"
             ],
             [
              0.8888888888888888,
              "#fdca26"
             ],
             [
              1,
              "#f0f921"
             ]
            ],
            "type": "histogram2dcontour"
           }
          ],
          "mesh3d": [
           {
            "colorbar": {
             "outlinewidth": 0,
             "ticks": ""
            },
            "type": "mesh3d"
           }
          ],
          "parcoords": [
           {
            "line": {
             "colorbar": {
              "outlinewidth": 0,
              "ticks": ""
             }
            },
            "type": "parcoords"
           }
          ],
          "pie": [
           {
            "automargin": true,
            "type": "pie"
           }
          ],
          "scatter": [
           {
            "fillpattern": {
             "fillmode": "overlay",
             "size": 10,
             "solidity": 0.2
            },
            "type": "scatter"
           }
          ],
          "scatter3d": [
           {
            "line": {
             "colorbar": {
              "outlinewidth": 0,
              "ticks": ""
             }
            },
            "marker": {
             "colorbar": {
              "outlinewidth": 0,
              "ticks": ""
             }
            },
            "type": "scatter3d"
           }
          ],
          "scattercarpet": [
           {
            "marker": {
             "colorbar": {
              "outlinewidth": 0,
              "ticks": ""
             }
            },
            "type": "scattercarpet"
           }
          ],
          "scattergeo": [
           {
            "marker": {
             "colorbar": {
              "outlinewidth": 0,
              "ticks": ""
             }
            },
            "type": "scattergeo"
           }
          ],
          "scattergl": [
           {
            "marker": {
             "colorbar": {
              "outlinewidth": 0,
              "ticks": ""
             }
            },
            "type": "scattergl"
           }
          ],
          "scattermapbox": [
           {
            "marker": {
             "colorbar": {
              "outlinewidth": 0,
              "ticks": ""
             }
            },
            "type": "scattermapbox"
           }
          ],
          "scatterpolar": [
           {
            "marker": {
             "colorbar": {
              "outlinewidth": 0,
              "ticks": ""
             }
            },
            "type": "scatterpolar"
           }
          ],
          "scatterpolargl": [
           {
            "marker": {
             "colorbar": {
              "outlinewidth": 0,
              "ticks": ""
             }
            },
            "type": "scatterpolargl"
           }
          ],
          "scatterternary": [
           {
            "marker": {
             "colorbar": {
              "outlinewidth": 0,
              "ticks": ""
             }
            },
            "type": "scatterternary"
           }
          ],
          "surface": [
           {
            "colorbar": {
             "outlinewidth": 0,
             "ticks": ""
            },
            "colorscale": [
             [
              0,
              "#0d0887"
             ],
             [
              0.1111111111111111,
              "#46039f"
             ],
             [
              0.2222222222222222,
              "#7201a8"
             ],
             [
              0.3333333333333333,
              "#9c179e"
             ],
             [
              0.4444444444444444,
              "#bd3786"
             ],
             [
              0.5555555555555556,
              "#d8576b"
             ],
             [
              0.6666666666666666,
              "#ed7953"
             ],
             [
              0.7777777777777778,
              "#fb9f3a"
             ],
             [
              0.8888888888888888,
              "#fdca26"
             ],
             [
              1,
              "#f0f921"
             ]
            ],
            "type": "surface"
           }
          ],
          "table": [
           {
            "cells": {
             "fill": {
              "color": "#EBF0F8"
             },
             "line": {
              "color": "white"
             }
            },
            "header": {
             "fill": {
              "color": "#C8D4E3"
             },
             "line": {
              "color": "white"
             }
            },
            "type": "table"
           }
          ]
         },
         "layout": {
          "annotationdefaults": {
           "arrowcolor": "#2a3f5f",
           "arrowhead": 0,
           "arrowwidth": 1
          },
          "autotypenumbers": "strict",
          "coloraxis": {
           "colorbar": {
            "outlinewidth": 0,
            "ticks": ""
           }
          },
          "colorscale": {
           "diverging": [
            [
             0,
             "#8e0152"
            ],
            [
             0.1,
             "#c51b7d"
            ],
            [
             0.2,
             "#de77ae"
            ],
            [
             0.3,
             "#f1b6da"
            ],
            [
             0.4,
             "#fde0ef"
            ],
            [
             0.5,
             "#f7f7f7"
            ],
            [
             0.6,
             "#e6f5d0"
            ],
            [
             0.7,
             "#b8e186"
            ],
            [
             0.8,
             "#7fbc41"
            ],
            [
             0.9,
             "#4d9221"
            ],
            [
             1,
             "#276419"
            ]
           ],
           "sequential": [
            [
             0,
             "#0d0887"
            ],
            [
             0.1111111111111111,
             "#46039f"
            ],
            [
             0.2222222222222222,
             "#7201a8"
            ],
            [
             0.3333333333333333,
             "#9c179e"
            ],
            [
             0.4444444444444444,
             "#bd3786"
            ],
            [
             0.5555555555555556,
             "#d8576b"
            ],
            [
             0.6666666666666666,
             "#ed7953"
            ],
            [
             0.7777777777777778,
             "#fb9f3a"
            ],
            [
             0.8888888888888888,
             "#fdca26"
            ],
            [
             1,
             "#f0f921"
            ]
           ],
           "sequentialminus": [
            [
             0,
             "#0d0887"
            ],
            [
             0.1111111111111111,
             "#46039f"
            ],
            [
             0.2222222222222222,
             "#7201a8"
            ],
            [
             0.3333333333333333,
             "#9c179e"
            ],
            [
             0.4444444444444444,
             "#bd3786"
            ],
            [
             0.5555555555555556,
             "#d8576b"
            ],
            [
             0.6666666666666666,
             "#ed7953"
            ],
            [
             0.7777777777777778,
             "#fb9f3a"
            ],
            [
             0.8888888888888888,
             "#fdca26"
            ],
            [
             1,
             "#f0f921"
            ]
           ]
          },
          "colorway": [
           "#636efa",
           "#EF553B",
           "#00cc96",
           "#ab63fa",
           "#FFA15A",
           "#19d3f3",
           "#FF6692",
           "#B6E880",
           "#FF97FF",
           "#FECB52"
          ],
          "font": {
           "color": "#2a3f5f"
          },
          "geo": {
           "bgcolor": "white",
           "lakecolor": "white",
           "landcolor": "#E5ECF6",
           "showlakes": true,
           "showland": true,
           "subunitcolor": "white"
          },
          "hoverlabel": {
           "align": "left"
          },
          "hovermode": "closest",
          "mapbox": {
           "style": "light"
          },
          "paper_bgcolor": "white",
          "plot_bgcolor": "#E5ECF6",
          "polar": {
           "angularaxis": {
            "gridcolor": "white",
            "linecolor": "white",
            "ticks": ""
           },
           "bgcolor": "#E5ECF6",
           "radialaxis": {
            "gridcolor": "white",
            "linecolor": "white",
            "ticks": ""
           }
          },
          "scene": {
           "xaxis": {
            "backgroundcolor": "#E5ECF6",
            "gridcolor": "white",
            "gridwidth": 2,
            "linecolor": "white",
            "showbackground": true,
            "ticks": "",
            "zerolinecolor": "white"
           },
           "yaxis": {
            "backgroundcolor": "#E5ECF6",
            "gridcolor": "white",
            "gridwidth": 2,
            "linecolor": "white",
            "showbackground": true,
            "ticks": "",
            "zerolinecolor": "white"
           },
           "zaxis": {
            "backgroundcolor": "#E5ECF6",
            "gridcolor": "white",
            "gridwidth": 2,
            "linecolor": "white",
            "showbackground": true,
            "ticks": "",
            "zerolinecolor": "white"
           }
          },
          "shapedefaults": {
           "line": {
            "color": "#2a3f5f"
           }
          },
          "ternary": {
           "aaxis": {
            "gridcolor": "white",
            "linecolor": "white",
            "ticks": ""
           },
           "baxis": {
            "gridcolor": "white",
            "linecolor": "white",
            "ticks": ""
           },
           "bgcolor": "#E5ECF6",
           "caxis": {
            "gridcolor": "white",
            "linecolor": "white",
            "ticks": ""
           }
          },
          "title": {
           "x": 0.05
          },
          "xaxis": {
           "automargin": true,
           "gridcolor": "white",
           "linecolor": "white",
           "ticks": "",
           "title": {
            "standoff": 15
           },
           "zerolinecolor": "white",
           "zerolinewidth": 2
          },
          "yaxis": {
           "automargin": true,
           "gridcolor": "white",
           "linecolor": "white",
           "ticks": "",
           "title": {
            "standoff": 15
           },
           "zerolinecolor": "white",
           "zerolinewidth": 2
          }
         }
        }
       }
      }
     },
     "metadata": {},
     "output_type": "display_data"
    }
   ],
   "source": [
    "dm3.draw_3d_meshes(\"mito_15\")"
   ]
  },
  {
   "cell_type": "code",
   "execution_count": null,
   "metadata": {},
   "outputs": [],
   "source": []
  }
 ],
 "metadata": {
  "kernelspec": {
   "display_name": "mobie-testing",
   "language": "python",
   "name": "python3"
  },
  "language_info": {
   "codemirror_mode": {
    "name": "ipython",
    "version": 3
   },
   "file_extension": ".py",
   "mimetype": "text/x-python",
   "name": "python",
   "nbconvert_exporter": "python",
   "pygments_lexer": "ipython3",
   "version": "3.9.18"
  }
 },
 "nbformat": 4,
 "nbformat_minor": 2
}
