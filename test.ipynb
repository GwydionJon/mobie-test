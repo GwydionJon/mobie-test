{
 "cells": [
  {
   "cell_type": "code",
   "execution_count": 12,
   "metadata": {},
   "outputs": [],
   "source": [
    "import mobie"
   ]
  },
  {
   "cell_type": "code",
   "execution_count": 53,
   "metadata": {},
   "outputs": [],
   "source": [
    "\n",
    "# root folder for the mobie project\n",
    "mobie_root = \"data/cebra_em_example/seg_er_5nm_mito_10nm\"\n",
    "# name of the dataset to be added\n",
    "dataset_name = \"CebraEM\"\n",
    "data_path = \"/home/gwydion/SSC/cebra/mobie-data-testing/data/cebra_em_example/seg_er_5nm_mito_10nm/CebraEM/images/bdv-n5/em-raw.n5\"\n",
    "data_key = \"setup0/timepoint0/s0\"\n",
    "\n",
    "# resolution of this initial data (in micrometer), chunks size and factors for downscaling\n",
    "resolution = (.5, .5, .5)\n",
    "chunks = (768, 768, 768)\n",
    "scale_factors = [[1,1,1],[2,2,2],[4,4,4],[16,16,16]]\n",
    "\n",
    "image_name = \"em-raw.n5\""
   ]
  },
  {
   "cell_type": "code",
   "execution_count": 54,
   "metadata": {},
   "outputs": [
    {
     "name": "stdout",
     "output_type": "stream",
     "text": [
      "ValuesView(<z5py.file.File object at 0x7f402548ee80>)\n"
     ]
    }
   ],
   "source": [
    "from elf.io import open_file\n",
    "with open_file(data_path, \"r\") as f:\n",
    "    print(f.values())"
   ]
  },
  {
   "cell_type": "code",
   "execution_count": 55,
   "metadata": {},
   "outputs": [
    {
     "name": "stderr",
     "output_type": "stream",
     "text": [
      "/home/gwydion/mambaforge/envs/mobie-testing/lib/python3.9/site-packages/luigi/parameter.py:296: UserWarning: Parameter \"dtype\" with value \"None\" is not of type string.\n",
      "  warnings.warn('Parameter \"{}\" with value \"{}\" is not of type string.'.format(param_name, param_value))\n",
      "DEBUG: Checking if DownscalingWorkflow(tmp_folder=tmp_CebraEM_em-raw.n5, max_jobs=6, config_dir=tmp_CebraEM_em-raw.n5/configs, target=local, dependency=DummyTask, input_path=/home/gwydion/SSC/cebra/mobie-data-testing/data/cebra_em_example/seg_er_5nm_mito_10nm/CebraEM/images/bdv-n5/em-raw.n5, input_key=setup0/timepoint0/s0, scale_factors=[[1, 1, 1], [2, 2, 2], [4, 4, 4], [16, 16, 16]], halos=[[1, 1, 1], [2, 2, 2], [4, 4, 4], [16, 16, 16]], dtype=None, int_to_uint=False, metadata_format=bdv.n5, metadata_dict={\"resolution\": [0.5, 0.5, 0.5], \"unit\": \"micrometer\", \"setup_name\": \"em-raw.n5\"}, output_path=data/cebra_em_example/seg_er_5nm_mito_10nm/CebraEM/images/bdv-n5/em-raw.n5.n5, output_key_prefix=, force_copy=False, skip_existing_levels=False, scale_offset=0) is complete\n",
      "/home/gwydion/mambaforge/envs/mobie-testing/lib/python3.9/site-packages/luigi/parameter.py:296: UserWarning: Parameter \"dimension_separator\" with value \"None\" is not of type string.\n",
      "  warnings.warn('Parameter \"{}\" with value \"{}\" is not of type string.'.format(param_name, param_value))\n",
      "/home/gwydion/mambaforge/envs/mobie-testing/lib/python3.9/site-packages/luigi/parameter.py:296: UserWarning: Parameter \"scale_factor\" with value \"(1, 1, 1)\" is not of type string.\n",
      "  warnings.warn('Parameter \"{}\" with value \"{}\" is not of type string.'.format(param_name, param_value))\n",
      "/home/gwydion/mambaforge/envs/mobie-testing/lib/python3.9/site-packages/luigi/parameter.py:296: UserWarning: Parameter \"scale_factor\" with value \"(2, 2, 2)\" is not of type string.\n",
      "  warnings.warn('Parameter \"{}\" with value \"{}\" is not of type string.'.format(param_name, param_value))\n",
      "/home/gwydion/mambaforge/envs/mobie-testing/lib/python3.9/site-packages/luigi/parameter.py:296: UserWarning: Parameter \"scale_factor\" with value \"(4, 4, 4)\" is not of type string.\n",
      "  warnings.warn('Parameter \"{}\" with value \"{}\" is not of type string.'.format(param_name, param_value))\n",
      "/home/gwydion/mambaforge/envs/mobie-testing/lib/python3.9/site-packages/luigi/parameter.py:296: UserWarning: Parameter \"scale_factor\" with value \"(16, 16, 16)\" is not of type string.\n",
      "  warnings.warn('Parameter \"{}\" with value \"{}\" is not of type string.'.format(param_name, param_value))\n",
      "DEBUG: Checking if WriteDownscalingMetadata(tmp_folder=tmp_CebraEM_em-raw.n5, output_path=data/cebra_em_example/seg_er_5nm_mito_10nm/CebraEM/images/bdv-n5/em-raw.n5.n5, scale_factors=[[1, 1, 1], [2, 2, 2], [4, 4, 4], [16, 16, 16]], dependency=DownscalingLocal, metadata_format=bdv.n5, metadata_dict={\"resolution\": [0.5, 0.5, 0.5], \"unit\": \"micrometer\", \"setup_name\": \"em-raw.n5\"}, output_key_prefix=, scale_offset=0, prefix=downscaling) is complete\n",
      "INFO: Informed scheduler that task   DownscalingWorkflow_tmp_CebraEM_em_r_DummyTask_None_05b60a045d   has status   PENDING\n",
      "DEBUG: Checking if DownscalingLocal(tmp_folder=tmp_CebraEM_em-raw.n5, max_jobs=6, config_dir=tmp_CebraEM_em-raw.n5/configs, input_path=data/cebra_em_example/seg_er_5nm_mito_10nm/CebraEM/images/bdv-n5/em-raw.n5.n5, input_key=setup0/timepoint0/s3, output_path=data/cebra_em_example/seg_er_5nm_mito_10nm/CebraEM/images/bdv-n5/em-raw.n5.n5, output_key=setup0/timepoint0/s4, scale_factor=(16, 16, 16), scale_prefix=s4, halo=[16, 16, 16], effective_scale_factor=[128, 128, 128], dimension_separator=None, dependency=DownscalingLocal) is complete\n",
      "INFO: Informed scheduler that task   WriteDownscalingMetadata_DownscalingLocal___resolution_____bdv_n5_a5600d3136   has status   PENDING\n",
      "DEBUG: Checking if DownscalingLocal(tmp_folder=tmp_CebraEM_em-raw.n5, max_jobs=6, config_dir=tmp_CebraEM_em-raw.n5/configs, input_path=data/cebra_em_example/seg_er_5nm_mito_10nm/CebraEM/images/bdv-n5/em-raw.n5.n5, input_key=setup0/timepoint0/s2, output_path=data/cebra_em_example/seg_er_5nm_mito_10nm/CebraEM/images/bdv-n5/em-raw.n5.n5, output_key=setup0/timepoint0/s3, scale_factor=(4, 4, 4), scale_prefix=s3, halo=[4, 4, 4], effective_scale_factor=[8, 8, 8], dimension_separator=None, dependency=DownscalingLocal) is complete\n",
      "INFO: Informed scheduler that task   DownscalingLocal_tmp_CebraEM_em_r_DownscalingLocal_None_36ff7c1c1b   has status   PENDING\n",
      "DEBUG: Checking if DownscalingLocal(tmp_folder=tmp_CebraEM_em-raw.n5, max_jobs=6, config_dir=tmp_CebraEM_em-raw.n5/configs, input_path=data/cebra_em_example/seg_er_5nm_mito_10nm/CebraEM/images/bdv-n5/em-raw.n5.n5, input_key=setup0/timepoint0/s1, output_path=data/cebra_em_example/seg_er_5nm_mito_10nm/CebraEM/images/bdv-n5/em-raw.n5.n5, output_key=setup0/timepoint0/s2, scale_factor=(2, 2, 2), scale_prefix=s2, halo=[2, 2, 2], effective_scale_factor=[2, 2, 2], dimension_separator=None, dependency=DownscalingLocal) is complete\n",
      "INFO: Informed scheduler that task   DownscalingLocal_tmp_CebraEM_em_r_DownscalingLocal_None_55804bcc63   has status   PENDING\n",
      "DEBUG: Checking if DownscalingLocal(tmp_folder=tmp_CebraEM_em-raw.n5, max_jobs=6, config_dir=tmp_CebraEM_em-raw.n5/configs, input_path=data/cebra_em_example/seg_er_5nm_mito_10nm/CebraEM/images/bdv-n5/em-raw.n5.n5, input_key=setup0/timepoint0/s0, output_path=data/cebra_em_example/seg_er_5nm_mito_10nm/CebraEM/images/bdv-n5/em-raw.n5.n5, output_key=setup0/timepoint0/s1, scale_factor=(1, 1, 1), scale_prefix=s1, halo=[1, 1, 1], effective_scale_factor=[1, 1, 1], dimension_separator=None, dependency=CopyVolumeLocal) is complete\n",
      "INFO: Informed scheduler that task   DownscalingLocal_tmp_CebraEM_em_r_DownscalingLocal_None_edd6fa5ccd   has status   PENDING\n",
      "DEBUG: Checking if CopyVolumeLocal(tmp_folder=tmp_CebraEM_em-raw.n5, max_jobs=6, config_dir=tmp_CebraEM_em-raw.n5/configs, input_path=/home/gwydion/SSC/cebra/mobie-data-testing/data/cebra_em_example/seg_er_5nm_mito_10nm/CebraEM/images/bdv-n5/em-raw.n5, input_key=setup0/timepoint0/s0, output_path=data/cebra_em_example/seg_er_5nm_mito_10nm/CebraEM/images/bdv-n5/em-raw.n5.n5, output_key=setup0/timepoint0/s0, prefix=initial_scale, dtype=None, int_to_uint=False, fit_to_roi=False, effective_scale_factor=[], dimension_separator=None, dependency=DummyTask) is complete\n",
      "INFO: Informed scheduler that task   DownscalingLocal_tmp_CebraEM_em_r_CopyVolumeLocal_None_163e6a7749 