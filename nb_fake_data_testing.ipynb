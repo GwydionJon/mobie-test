{
 "cells": [
  {
   "cell_type": "code",
   "execution_count": null,
   "metadata": {},
   "outputs": [],
   "source": [
    "from data_manager import DataManager\n",
    "import pandas as pd"
   ]
  },
  {
   "cell_type": "code",
   "execution_count": null,
   "metadata": {},
   "outputs": [],
   "source": [
    "ds_path = \"./data/cebra_em_example/seg_er_5nm_mito_10nm/CebraEM\"\n",
    "dm =  DataManager(ds_path)\n",
    "\n",
    "dm.generate_fake_dataset(\"test\", n_objects=30, object_size=15, object_distance=120, seed=46)"
   ]
  },
  {
   "cell_type": "code",
   "execution_count": null,
   "metadata": {},
   "outputs": [],
   "source": [
    "pd.DataFrame(dm.fake_data_info).head()"
   ]
  },
  {
   "cell_type": "code",
   "execution_count": null,
   "metadata": {},
   "outputs": [],
   "source": [
    "dm.generate_mesh()"
   ]
  },
  {
   "cell_type": "code",
   "execution_count": null,
   "metadata": {},
   "outputs": [],
   "source": [
    "_=dm.calculate_distance_matrix()"
   ]
  },
  {
   "cell_type": "code",
   "execution_count": null,
   "metadata": {},
   "outputs": [],
   "source": [
    "dm.find_mcs(5)"
   ]
  },
  {
   "cell_type": "code",
   "execution_count": null,
   "metadata": {},
   "outputs": [],
   "source": []
  },
  {
   "cell_type": "code",
   "execution_count": null,
   "metadata": {},
   "outputs": [],
   "source": [
    "dm.mesh_dict[\"test_23\"]"
   ]
  },
  {
   "cell_type": "code",
   "execution_count": null,
   "metadata": {},
   "outputs": [],
   "source": [
    "dm.draw_3d_meshes(show_mcs=True)"
   ]
  },
  {
   "cell_type": "code",
   "execution_count": null,
   "metadata": {},
   "outputs": [],
   "source": [
    "mesh1 = dm.mesh_dict[\"test_20\"][\"tri_mesh\"].copy()\n",
    "mesh2 = dm.mesh_dict[\"test_23\"][\"tri_mesh\"].copy()\n",
    "\n",
    "desired_distance = 5\n"
   ]
  },
  {
   "cell_type": "code",
   "execution_count": null,
   "metadata": {},
   "outputs": [],
   "source": [
    "import trimesh\n",
    "import numpy as np\n",
    "prox_query = trimesh.proximity.ProximityQuery(mesh1)\n",
    "dist, vertex_id = prox_query.vertex(mesh2.vertices)\n",
    "vertex_id = vertex_id[dist < desired_distance]\n",
    "unique_vertices = np.unique(vertex_id)"
   ]
  },
  {
   "cell_type": "code",
   "execution_count": null,
   "metadata": {},
   "outputs": [],
   "source": [
    "from scipy.spatial import ConvexHull\n",
    "import trimesh\n",
    "\n",
    "# Assume 'vertices' is a list of your vertices\n",
    "vertices = mesh1.vertices[unique_vertices]\n",
    "\n",
    "# Create a ConvexHull object\n",
    "hull = ConvexHull(vertices)\n",
    "\n",
    "# Create a Trimesh object from the vertices and simplices of the ConvexHull object\n",
    "mesh = trimesh.Trimesh(vertices=hull.points, faces=hull.simplices)\n",
    "mesh.fix_normals()"
   ]
  },
  {
   "cell_type": "code",
   "execution_count": null,
   "metadata": {},
   "outputs": [],
   "source": [
    "mesh.area"
   ]
  },
  {
   "cell_type": "code",
   "execution_count": null,
   "metadata": {},
   "outputs": [],
   "source": [
    "mesh.show()"
   ]
  },
  {
   "cell_type": "code",
   "execution_count": null,
   "metadata": {},
   "outputs": [],
   "source": []
  }
 ],
 "metadata": {
  "kernelspec": {
   "display_name": "mobie-testing",
   "language": "python",
   "name": "python3"
  },
  "language_info": {
   "codemirror_mode": {
    "name": "ipython",
    "version": 3
   },
   "file_extension": ".py",
   "mimetype": "text/x-python",
   "name": "python",
   "nbconvert_exporter": "python",
   "pygments_lexer": "ipython3",
   "version": "3.9.18"
  }
 },
 "nbformat": 4,
 "nbformat_minor": 2
}
